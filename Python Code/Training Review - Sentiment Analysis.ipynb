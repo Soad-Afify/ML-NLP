{
 "cells": [
  {
   "cell_type": "markdown",
   "id": "8c01bef9",
   "metadata": {},
   "source": [
    "# <font color='red'>Import Needed Libraries</font>"
   ]
  },
  {
   "cell_type": "code",
   "execution_count": 1,
   "id": "9c372e4c",
   "metadata": {},
   "outputs": [],
   "source": [
    "import pandas as pd\n",
    "import numpy as np\n",
    "import re\n",
    "import seaborn as sns\n",
    "import nltk\n",
    "from nltk.corpus import stopwords\n",
    "from nltk.stem import LancasterStemmer\n",
    "from nltk.stem import PorterStemmer\n",
    "from nltk.stem import WordNetLemmatizer\n",
    "\n",
    "\n",
    "from sklearn.model_selection import train_test_split\n",
    "from sklearn.linear_model import LogisticRegression\n",
    "from sklearn.tree import DecisionTreeClassifier\n",
    "from sklearn.naive_bayes import MultinomialNB\n",
    "from sklearn.neighbors import KNeighborsClassifier\n",
    "from sklearn.feature_extraction.text import TfidfVectorizer\n",
    "from sklearn.metrics import accuracy_score, confusion_matrix, classification_report\n",
    "from sklearn.preprocessing import OrdinalEncoder\n",
    "\n",
    "\n",
    "import warnings\n",
    "warnings.filterwarnings('ignore')"
   ]
  },
  {
   "cell_type": "markdown",
   "id": "ec204280",
   "metadata": {},
   "source": [
    " # <font color='red'>Upload and Clean Data</font>"
   ]
  },
  {
   "cell_type": "code",
   "execution_count": 2,
   "id": "7c6917b1",
   "metadata": {},
   "outputs": [
    {
     "data": {
      "text/html": [
       "<div>\n",
       "<style scoped>\n",
       "    .dataframe tbody tr th:only-of-type {\n",
       "        vertical-align: middle;\n",
       "    }\n",
       "\n",
       "    .dataframe tbody tr th {\n",
       "        vertical-align: top;\n",
       "    }\n",
       "\n",
       "    .dataframe thead th {\n",
       "        text-align: right;\n",
       "    }\n",
       "</style>\n",
       "<table border=\"1\" class=\"dataframe\">\n",
       "  <thead>\n",
       "    <tr style=\"text-align: right;\">\n",
       "      <th></th>\n",
       "      <th>Date</th>\n",
       "      <th>improvement</th>\n",
       "      <th>The trainer communicated clearly and was easy to understand</th>\n",
       "      <th>The trainer presented in away that held my interest</th>\n",
       "      <th>The pace of this session was appropriate</th>\n",
       "      <th>Examples provided were practical and realistic</th>\n",
       "      <th>The session included ample opportunities for active involvement</th>\n",
       "      <th>There was ample time for questions</th>\n",
       "      <th>The course objectives were met</th>\n",
       "      <th>It provided valuable information that can be transferred to my job\\n</th>\n",
       "      <th>It was logically sequenced</th>\n",
       "      <th>Your ability to apply the acquired knowledge or training received</th>\n",
       "      <th>How do you rate the e-learning experience overall?</th>\n",
       "      <th>Any other comments to appreciator help us improve the training service provided:</th>\n",
       "      <th>sentiment</th>\n",
       "    </tr>\n",
       "  </thead>\n",
       "  <tbody>\n",
       "    <tr>\n",
       "      <th>0</th>\n",
       "      <td>27-04-2023</td>\n",
       "      <td>64.0</td>\n",
       "      <td>Excellent</td>\n",
       "      <td>Excellent</td>\n",
       "      <td>Excellent</td>\n",
       "      <td>Excellent</td>\n",
       "      <td>Excellent</td>\n",
       "      <td>Excellent</td>\n",
       "      <td>Excellent</td>\n",
       "      <td>Excellent</td>\n",
       "      <td>Excellent</td>\n",
       "      <td>Excellent</td>\n",
       "      <td>Excellent</td>\n",
       "      <td>I learned a lot on this training</td>\n",
       "      <td>Positive</td>\n",
       "    </tr>\n",
       "    <tr>\n",
       "      <th>1</th>\n",
       "      <td>27-04-2023</td>\n",
       "      <td>64.0</td>\n",
       "      <td>Excellent</td>\n",
       "      <td>Excellent</td>\n",
       "      <td>Excellent</td>\n",
       "      <td>Excellent</td>\n",
       "      <td>Excellent</td>\n",
       "      <td>Excellent</td>\n",
       "      <td>Excellent</td>\n",
       "      <td>Good</td>\n",
       "      <td>Excellent</td>\n",
       "      <td>Excellent</td>\n",
       "      <td>Excellent</td>\n",
       "      <td>none</td>\n",
       "      <td>Neutral</td>\n",
       "    </tr>\n",
       "    <tr>\n",
       "      <th>2</th>\n",
       "      <td>27-04-2023</td>\n",
       "      <td>64.0</td>\n",
       "      <td>Excellent</td>\n",
       "      <td>Excellent</td>\n",
       "      <td>Excellent</td>\n",
       "      <td>Excellent</td>\n",
       "      <td>Excellent</td>\n",
       "      <td>Excellent</td>\n",
       "      <td>Excellent</td>\n",
       "      <td>Excellent</td>\n",
       "      <td>Excellent</td>\n",
       "      <td>Excellent</td>\n",
       "      <td>Excellent</td>\n",
       "      <td>EXCELLENT COURSE</td>\n",
       "      <td>Positive</td>\n",
       "    </tr>\n",
       "    <tr>\n",
       "      <th>3</th>\n",
       "      <td>27-04-2023</td>\n",
       "      <td>64.0</td>\n",
       "      <td>Excellent</td>\n",
       "      <td>Excellent</td>\n",
       "      <td>Excellent</td>\n",
       "      <td>Excellent</td>\n",
       "      <td>Excellent</td>\n",
       "      <td>Excellent</td>\n",
       "      <td>Excellent</td>\n",
       "      <td>Excellent</td>\n",
       "      <td>Excellent</td>\n",
       "      <td>Excellent</td>\n",
       "      <td>Excellent</td>\n",
       "      <td>NaN</td>\n",
       "      <td>Neutral</td>\n",
       "    </tr>\n",
       "    <tr>\n",
       "      <th>4</th>\n",
       "      <td>27-04-2023</td>\n",
       "      <td>64.0</td>\n",
       "      <td>Excellent</td>\n",
       "      <td>Excellent</td>\n",
       "      <td>Excellent</td>\n",
       "      <td>Excellent</td>\n",
       "      <td>Excellent</td>\n",
       "      <td>Excellent</td>\n",
       "      <td>Excellent</td>\n",
       "      <td>Excellent</td>\n",
       "      <td>Excellent</td>\n",
       "      <td>Excellent</td>\n",
       "      <td>Excellent</td>\n",
       "      <td>Good Session</td>\n",
       "      <td>Positive</td>\n",
       "    </tr>\n",
       "  </tbody>\n",
       "</table>\n",
       "</div>"
      ],
      "text/plain": [
       "         Date  improvement  \\\n",
       "0  27-04-2023         64.0   \n",
       "1  27-04-2023         64.0   \n",
       "2  27-04-2023         64.0   \n",
       "3  27-04-2023         64.0   \n",
       "4  27-04-2023         64.0   \n",
       "\n",
       "  The trainer communicated clearly and was easy to understand  \\\n",
       "0                                          Excellent            \n",
       "1                                          Excellent            \n",
       "2                                          Excellent            \n",
       "3                                          Excellent            \n",
       "4                                          Excellent            \n",
       "\n",
       "  The trainer presented in away that held my interest  \\\n",
       "0                                          Excellent    \n",
       "1                                          Excellent    \n",
       "2                                          Excellent    \n",
       "3                                          Excellent    \n",
       "4                                          Excellent    \n",
       "\n",
       "  The pace of this session was appropriate  \\\n",
       "0                                Excellent   \n",
       "1                                Excellent   \n",
       "2                                Excellent   \n",
       "3                                Excellent   \n",
       "4                                Excellent   \n",
       "\n",
       "  Examples provided were practical and realistic  \\\n",
       "0                                      Excellent   \n",
       "1                                      Excellent   \n",
       "2                                      Excellent   \n",
       "3                                      Excellent   \n",
       "4                                      Excellent   \n",
       "\n",
       "  The session included ample opportunities for active involvement  \\\n",
       "0                                          Excellent                \n",
       "1                                          Excellent                \n",
       "2                                          Excellent                \n",
       "3                                          Excellent                \n",
       "4                                          Excellent                \n",
       "\n",
       "  There was ample time for questions The course objectives were met  \\\n",
       "0                          Excellent                      Excellent   \n",
       "1                          Excellent                      Excellent   \n",
       "2                          Excellent                      Excellent   \n",
       "3                          Excellent                      Excellent   \n",
       "4                          Excellent                      Excellent   \n",
       "\n",
       "  It provided valuable information that can be transferred to my job\\n  \\\n",
       "0                                          Excellent                     \n",
       "1                                               Good                     \n",
       "2                                          Excellent                     \n",
       "3                                          Excellent                     \n",
       "4                                          Excellent                     \n",
       "\n",
       "  It was logically sequenced  \\\n",
       "0                  Excellent   \n",
       "1                  Excellent   \n",
       "2                  Excellent   \n",
       "3                  Excellent   \n",
       "4                  Excellent   \n",
       "\n",
       "  Your ability to apply the acquired knowledge or training received  \\\n",
       "0                                          Excellent                  \n",
       "1                                          Excellent                  \n",
       "2                                          Excellent                  \n",
       "3                                          Excellent                  \n",
       "4                                          Excellent                  \n",
       "\n",
       "  How do you rate the e-learning experience overall?  \\\n",
       "0                                          Excellent   \n",
       "1                                          Excellent   \n",
       "2                                          Excellent   \n",
       "3                                          Excellent   \n",
       "4                                          Excellent   \n",
       "\n",
       "  Any other comments to appreciator help us improve the training service provided:  \\\n",
       "0                   I learned a lot on this training                                 \n",
       "1                                               none                                 \n",
       "2                                   EXCELLENT COURSE                                 \n",
       "3                                                NaN                                 \n",
       "4                                       Good Session                                 \n",
       "\n",
       "  sentiment  \n",
       "0  Positive  \n",
       "1   Neutral  \n",
       "2  Positive  \n",
       "3   Neutral  \n",
       "4  Positive  "
      ]
     },
     "execution_count": 2,
     "metadata": {},
     "output_type": "execute_result"
    }
   ],
   "source": [
    "main_df = pd.read_excel(\"Assignment.xlsx\")\n",
    "main_df.head()"
   ]
  },
  {
   "cell_type": "code",
   "execution_count": 3,
   "id": "fc766b5c",
   "metadata": {},
   "outputs": [],
   "source": [
    "main_df = main_df.drop(['Date', 'improvement'], axis =1 )"
   ]
  },
  {
   "cell_type": "code",
   "execution_count": 4,
   "id": "9b7881e6",
   "metadata": {},
   "outputs": [],
   "source": [
    "new_column_names = {'The trainer communicated clearly and was easy to understand': 'communication',\n",
    "                    'The trainer presented in away that held my interest': 'presentation',\n",
    "                    'The pace of this session was appropriate': 'pace',\n",
    "                    'Examples provided were practical and realistic': 'examples',\n",
    "                    'The session included ample opportunities for active involvement': 'involvemen',\n",
    "                    'The course objectives were met': 'objective',\n",
    "                    'It provided valuable information that can be transferred to my job\\n': 'valuable information',\n",
    "                    'It was logically sequenced': 'sequence',\n",
    "                    'Your ability to apply the acquired knowledge or training received': 'apply',\n",
    "                    'How do you rate the e-learning experience overall?': 'e-learning',\n",
    "                    'Any other comments to appreciator help us improve the training service provided:': 'comment',\n",
    "                    'sentiment': 'target',\n",
    "                    'There was ample time for questions': 'questions'\n",
    "                   }\n",
    "main_df.rename(columns=new_column_names, inplace=True)"
   ]
  },
  {
   "cell_type": "code",
   "execution_count": 5,
   "id": "b07e4b51",
   "metadata": {},
   "outputs": [
    {
     "data": {
      "text/html": [
       "<div>\n",
       "<style scoped>\n",
       "    .dataframe tbody tr th:only-of-type {\n",
       "        vertical-align: middle;\n",
       "    }\n",
       "\n",
       "    .dataframe tbody tr th {\n",
       "        vertical-align: top;\n",
       "    }\n",
       "\n",
       "    .dataframe thead th {\n",
       "        text-align: right;\n",
       "    }\n",
       "</style>\n",
       "<table border=\"1\" class=\"dataframe\">\n",
       "  <thead>\n",
       "    <tr style=\"text-align: right;\">\n",
       "      <th></th>\n",
       "      <th>communication</th>\n",
       "      <th>presentation</th>\n",
       "      <th>pace</th>\n",
       "      <th>examples</th>\n",
       "      <th>involvemen</th>\n",
       "      <th>questions</th>\n",
       "      <th>objective</th>\n",
       "      <th>valuable information</th>\n",
       "      <th>sequence</th>\n",
       "      <th>apply</th>\n",
       "      <th>e-learning</th>\n",
       "      <th>comment</th>\n",
       "      <th>target</th>\n",
       "    </tr>\n",
       "  </thead>\n",
       "  <tbody>\n",
       "    <tr>\n",
       "      <th>2389</th>\n",
       "      <td>Excellent</td>\n",
       "      <td>Excellent</td>\n",
       "      <td>Excellent</td>\n",
       "      <td>Excellent</td>\n",
       "      <td>Excellent</td>\n",
       "      <td>Excellent</td>\n",
       "      <td>Excellent</td>\n",
       "      <td>Excellent</td>\n",
       "      <td>Excellent</td>\n",
       "      <td>Excellent</td>\n",
       "      <td>Excellent</td>\n",
       "      <td>It was Great opportunity to understand more ab...</td>\n",
       "      <td>NaN</td>\n",
       "    </tr>\n",
       "    <tr>\n",
       "      <th>2390</th>\n",
       "      <td>Good</td>\n",
       "      <td>Excellent</td>\n",
       "      <td>Good</td>\n",
       "      <td>Good</td>\n",
       "      <td>Good</td>\n",
       "      <td>Excellent</td>\n",
       "      <td>Excellent</td>\n",
       "      <td>Good</td>\n",
       "      <td>Good</td>\n",
       "      <td>Excellent</td>\n",
       "      <td>Excellent</td>\n",
       "      <td>NaN</td>\n",
       "      <td>NaN</td>\n",
       "    </tr>\n",
       "    <tr>\n",
       "      <th>2391</th>\n",
       "      <td>Excellent</td>\n",
       "      <td>Excellent</td>\n",
       "      <td>Excellent</td>\n",
       "      <td>Excellent</td>\n",
       "      <td>Excellent</td>\n",
       "      <td>Excellent</td>\n",
       "      <td>Excellent</td>\n",
       "      <td>Excellent</td>\n",
       "      <td>Excellent</td>\n",
       "      <td>Excellent</td>\n",
       "      <td>Excellent</td>\n",
       "      <td>NaN</td>\n",
       "      <td>NaN</td>\n",
       "    </tr>\n",
       "    <tr>\n",
       "      <th>2392</th>\n",
       "      <td>NaN</td>\n",
       "      <td>NaN</td>\n",
       "      <td>NaN</td>\n",
       "      <td>NaN</td>\n",
       "      <td>NaN</td>\n",
       "      <td>NaN</td>\n",
       "      <td>NaN</td>\n",
       "      <td>NaN</td>\n",
       "      <td>NaN</td>\n",
       "      <td>NaN</td>\n",
       "      <td>NaN</td>\n",
       "      <td>NaN</td>\n",
       "      <td>NaN</td>\n",
       "    </tr>\n",
       "    <tr>\n",
       "      <th>2393</th>\n",
       "      <td>2</td>\n",
       "      <td>4</td>\n",
       "      <td>4</td>\n",
       "      <td>6</td>\n",
       "      <td>7</td>\n",
       "      <td>6</td>\n",
       "      <td>5</td>\n",
       "      <td>9</td>\n",
       "      <td>5</td>\n",
       "      <td>5</td>\n",
       "      <td>7</td>\n",
       "      <td>NaN</td>\n",
       "      <td>NaN</td>\n",
       "    </tr>\n",
       "  </tbody>\n",
       "</table>\n",
       "</div>"
      ],
      "text/plain": [
       "     communication presentation        pace    examples  involvemen  \\\n",
       "2389    Excellent    Excellent   Excellent   Excellent   Excellent    \n",
       "2390          Good   Excellent         Good        Good        Good   \n",
       "2391    Excellent    Excellent   Excellent   Excellent   Excellent    \n",
       "2392           NaN          NaN         NaN         NaN         NaN   \n",
       "2393             2            4           4           6           7   \n",
       "\n",
       "       questions   objective valuable information    sequence       apply  \\\n",
       "2389  Excellent   Excellent            Excellent   Excellent   Excellent    \n",
       "2390  Excellent   Excellent                  Good        Good  Excellent    \n",
       "2391  Excellent   Excellent            Excellent   Excellent   Excellent    \n",
       "2392         NaN         NaN                  NaN         NaN         NaN   \n",
       "2393           6           5                    9           5           5   \n",
       "\n",
       "      e-learning                                            comment target  \n",
       "2389  Excellent   It was Great opportunity to understand more ab...    NaN  \n",
       "2390  Excellent                                                 NaN    NaN  \n",
       "2391  Excellent                                                 NaN    NaN  \n",
       "2392         NaN                                                NaN    NaN  \n",
       "2393           7                                                NaN    NaN  "
      ]
     },
     "execution_count": 5,
     "metadata": {},
     "output_type": "execute_result"
    }
   ],
   "source": [
    "main_df.tail()"
   ]
  },
  {
   "cell_type": "code",
   "execution_count": 6,
   "id": "b0c01e1d",
   "metadata": {},
   "outputs": [
    {
     "data": {
      "text/plain": [
       "2394"
      ]
     },
     "execution_count": 6,
     "metadata": {},
     "output_type": "execute_result"
    }
   ],
   "source": [
    "len(main_df)"
   ]
  },
  {
   "cell_type": "code",
   "execution_count": 7,
   "id": "e8853e70",
   "metadata": {},
   "outputs": [
    {
     "data": {
      "text/plain": [
       "Positive    1095\n",
       "Neutral      422\n",
       "Negative      60\n",
       "Name: target, dtype: int64"
      ]
     },
     "execution_count": 7,
     "metadata": {},
     "output_type": "execute_result"
    }
   ],
   "source": [
    "main_df['target'].value_counts()"
   ]
  },
  {
   "cell_type": "markdown",
   "id": "25dc45bf",
   "metadata": {},
   "source": [
    "## Check target column, and change \"No\" comment to be with \"Natural\" target"
   ]
  },
  {
   "cell_type": "code",
   "execution_count": 8,
   "id": "418da067",
   "metadata": {},
   "outputs": [
    {
     "data": {
      "text/plain": [
       "85"
      ]
     },
     "execution_count": 8,
     "metadata": {},
     "output_type": "execute_result"
    }
   ],
   "source": [
    "len(main_df[main_df['comment'].isin(['no', 'No', 'NO'])])"
   ]
  },
  {
   "cell_type": "code",
   "execution_count": 9,
   "id": "08328d3c",
   "metadata": {},
   "outputs": [],
   "source": [
    "main_df.loc[main_df[\"comment\"].isin(['no', 'No', 'NO']), \"target\"] = \"Neutral\""
   ]
  },
  {
   "cell_type": "code",
   "execution_count": 10,
   "id": "7e573805",
   "metadata": {},
   "outputs": [
    {
     "data": {
      "text/html": [
       "<div>\n",
       "<style scoped>\n",
       "    .dataframe tbody tr th:only-of-type {\n",
       "        vertical-align: middle;\n",
       "    }\n",
       "\n",
       "    .dataframe tbody tr th {\n",
       "        vertical-align: top;\n",
       "    }\n",
       "\n",
       "    .dataframe thead th {\n",
       "        text-align: right;\n",
       "    }\n",
       "</style>\n",
       "<table border=\"1\" class=\"dataframe\">\n",
       "  <thead>\n",
       "    <tr style=\"text-align: right;\">\n",
       "      <th></th>\n",
       "      <th>communication</th>\n",
       "      <th>presentation</th>\n",
       "      <th>pace</th>\n",
       "      <th>examples</th>\n",
       "      <th>involvemen</th>\n",
       "      <th>questions</th>\n",
       "      <th>objective</th>\n",
       "      <th>valuable information</th>\n",
       "      <th>sequence</th>\n",
       "      <th>apply</th>\n",
       "      <th>e-learning</th>\n",
       "      <th>comment</th>\n",
       "      <th>target</th>\n",
       "    </tr>\n",
       "  </thead>\n",
       "  <tbody>\n",
       "    <tr>\n",
       "      <th>0</th>\n",
       "      <td>Excellent</td>\n",
       "      <td>Excellent</td>\n",
       "      <td>Excellent</td>\n",
       "      <td>Excellent</td>\n",
       "      <td>Excellent</td>\n",
       "      <td>Excellent</td>\n",
       "      <td>Excellent</td>\n",
       "      <td>Excellent</td>\n",
       "      <td>Excellent</td>\n",
       "      <td>Excellent</td>\n",
       "      <td>Excellent</td>\n",
       "      <td>I learned a lot on this training</td>\n",
       "      <td>Positive</td>\n",
       "    </tr>\n",
       "    <tr>\n",
       "      <th>1</th>\n",
       "      <td>Excellent</td>\n",
       "      <td>Excellent</td>\n",
       "      <td>Excellent</td>\n",
       "      <td>Excellent</td>\n",
       "      <td>Excellent</td>\n",
       "      <td>Excellent</td>\n",
       "      <td>Excellent</td>\n",
       "      <td>Good</td>\n",
       "      <td>Excellent</td>\n",
       "      <td>Excellent</td>\n",
       "      <td>Excellent</td>\n",
       "      <td>none</td>\n",
       "      <td>Neutral</td>\n",
       "    </tr>\n",
       "    <tr>\n",
       "      <th>2</th>\n",
       "      <td>Excellent</td>\n",
       "      <td>Excellent</td>\n",
       "      <td>Excellent</td>\n",
       "      <td>Excellent</td>\n",
       "      <td>Excellent</td>\n",
       "      <td>Excellent</td>\n",
       "      <td>Excellent</td>\n",
       "      <td>Excellent</td>\n",
       "      <td>Excellent</td>\n",
       "      <td>Excellent</td>\n",
       "      <td>Excellent</td>\n",
       "      <td>EXCELLENT COURSE</td>\n",
       "      <td>Positive</td>\n",
       "    </tr>\n",
       "    <tr>\n",
       "      <th>3</th>\n",
       "      <td>Excellent</td>\n",
       "      <td>Excellent</td>\n",
       "      <td>Excellent</td>\n",
       "      <td>Excellent</td>\n",
       "      <td>Excellent</td>\n",
       "      <td>Excellent</td>\n",
       "      <td>Excellent</td>\n",
       "      <td>Excellent</td>\n",
       "      <td>Excellent</td>\n",
       "      <td>Excellent</td>\n",
       "      <td>Excellent</td>\n",
       "      <td>NaN</td>\n",
       "      <td>Neutral</td>\n",
       "    </tr>\n",
       "    <tr>\n",
       "      <th>4</th>\n",
       "      <td>Excellent</td>\n",
       "      <td>Excellent</td>\n",
       "      <td>Excellent</td>\n",
       "      <td>Excellent</td>\n",
       "      <td>Excellent</td>\n",
       "      <td>Excellent</td>\n",
       "      <td>Excellent</td>\n",
       "      <td>Excellent</td>\n",
       "      <td>Excellent</td>\n",
       "      <td>Excellent</td>\n",
       "      <td>Excellent</td>\n",
       "      <td>Good Session</td>\n",
       "      <td>Positive</td>\n",
       "    </tr>\n",
       "  </tbody>\n",
       "</table>\n",
       "</div>"
      ],
      "text/plain": [
       "  communication presentation       pace   examples involvemen  questions  \\\n",
       "0     Excellent    Excellent  Excellent  Excellent  Excellent  Excellent   \n",
       "1     Excellent    Excellent  Excellent  Excellent  Excellent  Excellent   \n",
       "2     Excellent    Excellent  Excellent  Excellent  Excellent  Excellent   \n",
       "3     Excellent    Excellent  Excellent  Excellent  Excellent  Excellent   \n",
       "4     Excellent    Excellent  Excellent  Excellent  Excellent  Excellent   \n",
       "\n",
       "   objective valuable information   sequence      apply e-learning  \\\n",
       "0  Excellent            Excellent  Excellent  Excellent  Excellent   \n",
       "1  Excellent                 Good  Excellent  Excellent  Excellent   \n",
       "2  Excellent            Excellent  Excellent  Excellent  Excellent   \n",
       "3  Excellent            Excellent  Excellent  Excellent  Excellent   \n",
       "4  Excellent            Excellent  Excellent  Excellent  Excellent   \n",
       "\n",
       "                            comment    target  \n",
       "0  I learned a lot on this training  Positive  \n",
       "1                              none   Neutral  \n",
       "2                  EXCELLENT COURSE  Positive  \n",
       "3                               NaN   Neutral  \n",
       "4                      Good Session  Positive  "
      ]
     },
     "execution_count": 10,
     "metadata": {},
     "output_type": "execute_result"
    }
   ],
   "source": [
    "main_df.head()"
   ]
  },
  {
   "cell_type": "code",
   "execution_count": 11,
   "id": "3b50805a",
   "metadata": {},
   "outputs": [
    {
     "data": {
      "text/plain": [
       "Positive    1095\n",
       "Neutral      463\n",
       "Negative      29\n",
       "Name: target, dtype: int64"
      ]
     },
     "execution_count": 11,
     "metadata": {},
     "output_type": "execute_result"
    }
   ],
   "source": [
    "main_df['target'].value_counts()"
   ]
  },
  {
   "cell_type": "code",
   "execution_count": 12,
   "id": "93ebf909",
   "metadata": {},
   "outputs": [],
   "source": [
    "#filter data \n",
    "\n",
    "df = main_df[main_df['target'].isin(['Positive', 'Neutral', 'Negative'])]"
   ]
  },
  {
   "cell_type": "code",
   "execution_count": 13,
   "id": "87024dbf",
   "metadata": {},
   "outputs": [
    {
     "data": {
      "text/plain": [
       "1587"
      ]
     },
     "execution_count": 13,
     "metadata": {},
     "output_type": "execute_result"
    }
   ],
   "source": [
    "len(df)"
   ]
  },
  {
   "cell_type": "markdown",
   "id": "1336fd3b",
   "metadata": {},
   "source": [
    "## Check and Handle Empty Values"
   ]
  },
  {
   "cell_type": "code",
   "execution_count": 14,
   "id": "1b095a84",
   "metadata": {},
   "outputs": [
    {
     "data": {
      "text/plain": [
       "Index(['communication', 'presentation', 'pace', 'examples', 'involvemen',\n",
       "       'questions', 'objective', 'valuable information', 'sequence', 'apply',\n",
       "       'e-learning', 'comment', 'target'],\n",
       "      dtype='object')"
      ]
     },
     "execution_count": 14,
     "metadata": {},
     "output_type": "execute_result"
    }
   ],
   "source": [
    "df.columns"
   ]
  },
  {
   "cell_type": "code",
   "execution_count": 15,
   "id": "1a56f37a",
   "metadata": {},
   "outputs": [],
   "source": [
    "col = ['communication','presentation', 'pace', 'examples','involvemen', 'questions','objective','valuable information','sequence','apply','e-learning']\n",
    "\n",
    "df['null'] = df[col].isnull().sum(axis = 1)\n"
   ]
  },
  {
   "cell_type": "code",
   "execution_count": 16,
   "id": "e8acb88a",
   "metadata": {},
   "outputs": [
    {
     "data": {
      "text/plain": [
       "15"
      ]
     },
     "execution_count": 16,
     "metadata": {},
     "output_type": "execute_result"
    }
   ],
   "source": [
    "len(df[df['null']>0])"
   ]
  },
  {
   "cell_type": "code",
   "execution_count": 17,
   "id": "11171811",
   "metadata": {},
   "outputs": [
    {
     "data": {
      "text/plain": [
       "4"
      ]
     },
     "execution_count": 17,
     "metadata": {},
     "output_type": "execute_result"
    }
   ],
   "source": [
    "len(df[df['null']>1])"
   ]
  },
  {
   "cell_type": "markdown",
   "id": "bcf2d898",
   "metadata": {},
   "source": [
    "### We can remove the rows which have more than 1 empty cell (4 Rows)\n",
    "### And for the rows which have 1 empty cell, we can replace it with the most freuqent item (11 Rows)"
   ]
  },
  {
   "cell_type": "code",
   "execution_count": 18,
   "id": "84279e36",
   "metadata": {},
   "outputs": [
    {
     "data": {
      "text/plain": [
       "1583"
      ]
     },
     "execution_count": 18,
     "metadata": {},
     "output_type": "execute_result"
    }
   ],
   "source": [
    "df = df[df['null']<2]\n",
    "len(df)"
   ]
  },
  {
   "cell_type": "code",
   "execution_count": 19,
   "id": "8cebfe65",
   "metadata": {},
   "outputs": [],
   "source": [
    "df = df.fillna(df.mode().iloc[0])"
   ]
  },
  {
   "cell_type": "code",
   "execution_count": 20,
   "id": "d08c53f8",
   "metadata": {},
   "outputs": [
    {
     "data": {
      "text/plain": [
       "communication           0\n",
       "presentation            0\n",
       "pace                    0\n",
       "examples                0\n",
       "involvemen              0\n",
       "questions               0\n",
       "objective               0\n",
       "valuable information    0\n",
       "sequence                0\n",
       "apply                   0\n",
       "e-learning              0\n",
       "comment                 0\n",
       "target                  0\n",
       "null                    0\n",
       "dtype: int64"
      ]
     },
     "execution_count": 20,
     "metadata": {},
     "output_type": "execute_result"
    }
   ],
   "source": [
    "df[df['null']>0].isnull().sum()"
   ]
  },
  {
   "cell_type": "code",
   "execution_count": 21,
   "id": "d59a6ca0",
   "metadata": {},
   "outputs": [],
   "source": [
    "df.drop(['null'] ,axis = 1, inplace= True)"
   ]
  },
  {
   "cell_type": "code",
   "execution_count": 22,
   "id": "7417ee35",
   "metadata": {},
   "outputs": [
    {
     "data": {
      "text/plain": [
       "Positive    1093\n",
       "Neutral      461\n",
       "Negative      29\n",
       "Name: target, dtype: int64"
      ]
     },
     "execution_count": 22,
     "metadata": {},
     "output_type": "execute_result"
    }
   ],
   "source": [
    "df['target'].value_counts()"
   ]
  },
  {
   "cell_type": "markdown",
   "id": "dc359f2c",
   "metadata": {},
   "source": [
    "## Need to add dummy data for \"Negative\" and \"Neutral\" to avoid imbalanced data"
   ]
  },
  {
   "cell_type": "code",
   "execution_count": 23,
   "id": "0685f901",
   "metadata": {},
   "outputs": [],
   "source": [
    "extra = pd.read_excel('Assignment_Extra_Data.xlsx')"
   ]
  },
  {
   "cell_type": "code",
   "execution_count": 24,
   "id": "3ee558b3",
   "metadata": {},
   "outputs": [
    {
     "data": {
      "text/html": [
       "<div>\n",
       "<style scoped>\n",
       "    .dataframe tbody tr th:only-of-type {\n",
       "        vertical-align: middle;\n",
       "    }\n",
       "\n",
       "    .dataframe tbody tr th {\n",
       "        vertical-align: top;\n",
       "    }\n",
       "\n",
       "    .dataframe thead th {\n",
       "        text-align: right;\n",
       "    }\n",
       "</style>\n",
       "<table border=\"1\" class=\"dataframe\">\n",
       "  <thead>\n",
       "    <tr style=\"text-align: right;\">\n",
       "      <th></th>\n",
       "      <th>comment</th>\n",
       "      <th>target</th>\n",
       "    </tr>\n",
       "  </thead>\n",
       "  <tbody>\n",
       "    <tr>\n",
       "      <th>282</th>\n",
       "      <td>The instructor did not provide enough opportun...</td>\n",
       "      <td>Negative</td>\n",
       "    </tr>\n",
       "    <tr>\n",
       "      <th>256</th>\n",
       "      <td>The instructor did not provide enough opportun...</td>\n",
       "      <td>Negative</td>\n",
       "    </tr>\n",
       "    <tr>\n",
       "      <th>708</th>\n",
       "      <td>The training was not well-received by particip...</td>\n",
       "      <td>Negative</td>\n",
       "    </tr>\n",
       "    <tr>\n",
       "      <th>864</th>\n",
       "      <td>The training was too basic and could have cove...</td>\n",
       "      <td>Neutral</td>\n",
       "    </tr>\n",
       "    <tr>\n",
       "      <th>933</th>\n",
       "      <td>The training was too noisy.</td>\n",
       "      <td>Negative</td>\n",
       "    </tr>\n",
       "    <tr>\n",
       "      <th>51</th>\n",
       "      <td>It would be beneficial to have more opportunit...</td>\n",
       "      <td>Neutral</td>\n",
       "    </tr>\n",
       "    <tr>\n",
       "      <th>829</th>\n",
       "      <td>The training was not well-taught.</td>\n",
       "      <td>Negative</td>\n",
       "    </tr>\n",
       "    <tr>\n",
       "      <th>491</th>\n",
       "      <td>The training material was outdated.</td>\n",
       "      <td>Negative</td>\n",
       "    </tr>\n",
       "    <tr>\n",
       "      <th>582</th>\n",
       "      <td>The training was not well-coordinated with oth...</td>\n",
       "      <td>Negative</td>\n",
       "    </tr>\n",
       "    <tr>\n",
       "      <th>498</th>\n",
       "      <td>The training materials were poorly designed an...</td>\n",
       "      <td>Negative</td>\n",
       "    </tr>\n",
       "  </tbody>\n",
       "</table>\n",
       "</div>"
      ],
      "text/plain": [
       "                                               comment    target\n",
       "282  The instructor did not provide enough opportun...  Negative\n",
       "256  The instructor did not provide enough opportun...  Negative\n",
       "708  The training was not well-received by particip...  Negative\n",
       "864  The training was too basic and could have cove...   Neutral\n",
       "933                        The training was too noisy.  Negative\n",
       "51   It would be beneficial to have more opportunit...   Neutral\n",
       "829                  The training was not well-taught.  Negative\n",
       "491                The training material was outdated.  Negative\n",
       "582  The training was not well-coordinated with oth...  Negative\n",
       "498  The training materials were poorly designed an...  Negative"
      ]
     },
     "execution_count": 24,
     "metadata": {},
     "output_type": "execute_result"
    }
   ],
   "source": [
    "extra.sample(10)"
   ]
  },
  {
   "cell_type": "code",
   "execution_count": 25,
   "id": "18a0ba43",
   "metadata": {},
   "outputs": [],
   "source": [
    "# append the extra data with df\n",
    "\n",
    "df = df.append(extra, ignore_index=True)"
   ]
  },
  {
   "cell_type": "code",
   "execution_count": 26,
   "id": "a1bce62d",
   "metadata": {},
   "outputs": [
    {
     "data": {
      "text/plain": [
       "2575"
      ]
     },
     "execution_count": 26,
     "metadata": {},
     "output_type": "execute_result"
    }
   ],
   "source": [
    "len(df)"
   ]
  },
  {
   "cell_type": "code",
   "execution_count": 27,
   "id": "c7b0a932",
   "metadata": {},
   "outputs": [
    {
     "data": {
      "text/plain": [
       "Positive    1093\n",
       "Negative     768\n",
       "Neutral      714\n",
       "Name: target, dtype: int64"
      ]
     },
     "execution_count": 27,
     "metadata": {},
     "output_type": "execute_result"
    }
   ],
   "source": [
    "df['target'].value_counts()"
   ]
  },
  {
   "cell_type": "markdown",
   "id": "1c6a321b",
   "metadata": {},
   "source": [
    "# OrdinalEncoder for Target"
   ]
  },
  {
   "cell_type": "code",
   "execution_count": 28,
   "id": "fe1f5ba8",
   "metadata": {},
   "outputs": [],
   "source": [
    "enc = OrdinalEncoder()\n",
    "df['target_enc']= (enc.fit_transform(df[['target']])).astype(int)"
   ]
  },
  {
   "cell_type": "code",
   "execution_count": 29,
   "id": "56a48942",
   "metadata": {},
   "outputs": [
    {
     "data": {
      "text/plain": [
       "[array(['Negative', 'Neutral', 'Positive'], dtype=object)]"
      ]
     },
     "execution_count": 29,
     "metadata": {},
     "output_type": "execute_result"
    }
   ],
   "source": [
    "enc.categories_"
   ]
  },
  {
   "cell_type": "markdown",
   "id": "43297247",
   "metadata": {},
   "source": [
    "# <font color='red'>Sentiment Analysis</font>"
   ]
  },
  {
   "cell_type": "code",
   "execution_count": 30,
   "id": "f21a5a04",
   "metadata": {},
   "outputs": [
    {
     "data": {
      "text/html": [
       "<div>\n",
       "<style scoped>\n",
       "    .dataframe tbody tr th:only-of-type {\n",
       "        vertical-align: middle;\n",
       "    }\n",
       "\n",
       "    .dataframe tbody tr th {\n",
       "        vertical-align: top;\n",
       "    }\n",
       "\n",
       "    .dataframe thead th {\n",
       "        text-align: right;\n",
       "    }\n",
       "</style>\n",
       "<table border=\"1\" class=\"dataframe\">\n",
       "  <thead>\n",
       "    <tr style=\"text-align: right;\">\n",
       "      <th></th>\n",
       "      <th>comment</th>\n",
       "      <th>target_enc</th>\n",
       "    </tr>\n",
       "  </thead>\n",
       "  <tbody>\n",
       "    <tr>\n",
       "      <th>0</th>\n",
       "      <td>I learned a lot on this training</td>\n",
       "      <td>2</td>\n",
       "    </tr>\n",
       "    <tr>\n",
       "      <th>1</th>\n",
       "      <td>none</td>\n",
       "      <td>1</td>\n",
       "    </tr>\n",
       "    <tr>\n",
       "      <th>2</th>\n",
       "      <td>EXCELLENT COURSE</td>\n",
       "      <td>2</td>\n",
       "    </tr>\n",
       "    <tr>\n",
       "      <th>3</th>\n",
       "      <td>Good</td>\n",
       "      <td>1</td>\n",
       "    </tr>\n",
       "    <tr>\n",
       "      <th>4</th>\n",
       "      <td>Good Session</td>\n",
       "      <td>2</td>\n",
       "    </tr>\n",
       "    <tr>\n",
       "      <th>...</th>\n",
       "      <td>...</td>\n",
       "      <td>...</td>\n",
       "    </tr>\n",
       "    <tr>\n",
       "      <th>2570</th>\n",
       "      <td>Uipath traning</td>\n",
       "      <td>1</td>\n",
       "    </tr>\n",
       "    <tr>\n",
       "      <th>2571</th>\n",
       "      <td>Use of other media such as Videos</td>\n",
       "      <td>1</td>\n",
       "    </tr>\n",
       "    <tr>\n",
       "      <th>2572</th>\n",
       "      <td>we need more Training like this one</td>\n",
       "      <td>1</td>\n",
       "    </tr>\n",
       "    <tr>\n",
       "      <th>2573</th>\n",
       "      <td>Would be nice if there are physical training p...</td>\n",
       "      <td>1</td>\n",
       "    </tr>\n",
       "    <tr>\n",
       "      <th>2574</th>\n",
       "      <td>Would prefer physical presence.</td>\n",
       "      <td>1</td>\n",
       "    </tr>\n",
       "  </tbody>\n",
       "</table>\n",
       "<p>2575 rows × 2 columns</p>\n",
       "</div>"
      ],
      "text/plain": [
       "                                                comment  target_enc\n",
       "0                      I learned a lot on this training           2\n",
       "1                                                  none           1\n",
       "2                                      EXCELLENT COURSE           2\n",
       "3                                                  Good           1\n",
       "4                                          Good Session           2\n",
       "...                                                 ...         ...\n",
       "2570                                     Uipath traning           1\n",
       "2571                  Use of other media such as Videos           1\n",
       "2572                we need more Training like this one           1\n",
       "2573  Would be nice if there are physical training p...           1\n",
       "2574                    Would prefer physical presence.           1\n",
       "\n",
       "[2575 rows x 2 columns]"
      ]
     },
     "execution_count": 30,
     "metadata": {},
     "output_type": "execute_result"
    }
   ],
   "source": [
    "data = df[['comment', 'target_enc']]\n",
    "data"
   ]
  },
  {
   "cell_type": "code",
   "execution_count": 31,
   "id": "82f86351",
   "metadata": {},
   "outputs": [
    {
     "name": "stderr",
     "output_type": "stream",
     "text": [
      "[nltk_data] Downloading package stopwords to\n",
      "[nltk_data]     C:\\Users\\soada\\AppData\\Roaming\\nltk_data...\n",
      "[nltk_data]   Package stopwords is already up-to-date!\n"
     ]
    }
   ],
   "source": [
    "nltk.download(\"stopwords\")\n",
    "stop = stopwords.words(\"English\")\n",
    "l_stem =LancasterStemmer()\n",
    "p_stem = PorterStemmer()\n",
    "lem = WordNetLemmatizer()"
   ]
  },
  {
   "cell_type": "code",
   "execution_count": 32,
   "id": "142dbc7f",
   "metadata": {},
   "outputs": [],
   "source": [
    "def preprocessing_l_stem(text):\n",
    "    text = text.lower()\n",
    "    pattern = \"[a-zA-Z]+\"\n",
    "    token = re.findall(pattern, text)\n",
    "    token = list(set(token))\n",
    "    final_token =[]\n",
    "    for i in token:\n",
    "        if i not in stop:\n",
    "            stem = l_stem.stem(i)\n",
    "            final_token.append(stem)\n",
    "    return final_token\n",
    "    "
   ]
  },
  {
   "cell_type": "code",
   "execution_count": 33,
   "id": "33382f9d",
   "metadata": {},
   "outputs": [],
   "source": [
    "def preprocessing_p_stem(text):\n",
    "    text = text.lower()\n",
    "    pattern = \"[a-zA-Z]+\"\n",
    "    token = re.findall(pattern, text)\n",
    "    token = list(set(token))\n",
    "    final_token =[]\n",
    "    for i in token:\n",
    "        if i not in stop:\n",
    "            stem = p_stem.stem(i)\n",
    "            final_token.append(stem)\n",
    "    return final_token\n",
    "    "
   ]
  },
  {
   "cell_type": "code",
   "execution_count": 34,
   "id": "60e4b8d3",
   "metadata": {},
   "outputs": [],
   "source": [
    "def preprocessing_lem(text):\n",
    "    text = text.lower()\n",
    "    pattern = \"[a-zA-Z]+\"\n",
    "    token = re.findall(pattern, text)\n",
    "    token = list(set(token))\n",
    "    final_token =[]\n",
    "    for i in token:\n",
    "        if i not in stop:\n",
    "            lemm = lem.lemmatize(i)\n",
    "            final_token.append(lemm)\n",
    "    return final_token"
   ]
  },
  {
   "cell_type": "code",
   "execution_count": 35,
   "id": "72a5b30e",
   "metadata": {},
   "outputs": [],
   "source": [
    "# error due to data type\n",
    "\n",
    "data['comment'] = data['comment'].astype(str)"
   ]
  },
  {
   "cell_type": "code",
   "execution_count": 36,
   "id": "688a9786",
   "metadata": {},
   "outputs": [
    {
     "data": {
      "text/html": [
       "<div>\n",
       "<style scoped>\n",
       "    .dataframe tbody tr th:only-of-type {\n",
       "        vertical-align: middle;\n",
       "    }\n",
       "\n",
       "    .dataframe tbody tr th {\n",
       "        vertical-align: top;\n",
       "    }\n",
       "\n",
       "    .dataframe thead th {\n",
       "        text-align: right;\n",
       "    }\n",
       "</style>\n",
       "<table border=\"1\" class=\"dataframe\">\n",
       "  <thead>\n",
       "    <tr style=\"text-align: right;\">\n",
       "      <th></th>\n",
       "      <th>comment</th>\n",
       "      <th>target_enc</th>\n",
       "      <th>l_stem</th>\n",
       "      <th>p_stem</th>\n",
       "      <th>lem</th>\n",
       "    </tr>\n",
       "  </thead>\n",
       "  <tbody>\n",
       "    <tr>\n",
       "      <th>0</th>\n",
       "      <td>I learned a lot on this training</td>\n",
       "      <td>2</td>\n",
       "      <td>[learn, lot, train]</td>\n",
       "      <td>[learn, lot, train]</td>\n",
       "      <td>[learned, lot, training]</td>\n",
       "    </tr>\n",
       "    <tr>\n",
       "      <th>1</th>\n",
       "      <td>none</td>\n",
       "      <td>1</td>\n",
       "      <td>[non]</td>\n",
       "      <td>[none]</td>\n",
       "      <td>[none]</td>\n",
       "    </tr>\n",
       "    <tr>\n",
       "      <th>2</th>\n",
       "      <td>EXCELLENT COURSE</td>\n",
       "      <td>2</td>\n",
       "      <td>[excel, cours]</td>\n",
       "      <td>[excel, cours]</td>\n",
       "      <td>[excellent, course]</td>\n",
       "    </tr>\n",
       "    <tr>\n",
       "      <th>3</th>\n",
       "      <td>Good</td>\n",
       "      <td>1</td>\n",
       "      <td>[good]</td>\n",
       "      <td>[good]</td>\n",
       "      <td>[good]</td>\n",
       "    </tr>\n",
       "    <tr>\n",
       "      <th>4</th>\n",
       "      <td>Good Session</td>\n",
       "      <td>2</td>\n",
       "      <td>[good, sess]</td>\n",
       "      <td>[good, session]</td>\n",
       "      <td>[good, session]</td>\n",
       "    </tr>\n",
       "    <tr>\n",
       "      <th>...</th>\n",
       "      <td>...</td>\n",
       "      <td>...</td>\n",
       "      <td>...</td>\n",
       "      <td>...</td>\n",
       "      <td>...</td>\n",
       "    </tr>\n",
       "    <tr>\n",
       "      <th>2570</th>\n",
       "      <td>Uipath traning</td>\n",
       "      <td>1</td>\n",
       "      <td>[uipa, tran]</td>\n",
       "      <td>[uipath, trane]</td>\n",
       "      <td>[uipath, traning]</td>\n",
       "    </tr>\n",
       "    <tr>\n",
       "      <th>2571</th>\n",
       "      <td>Use of other media such as Videos</td>\n",
       "      <td>1</td>\n",
       "      <td>[video, med, us]</td>\n",
       "      <td>[video, media, use]</td>\n",
       "      <td>[video, medium, use]</td>\n",
       "    </tr>\n",
       "    <tr>\n",
       "      <th>2572</th>\n",
       "      <td>we need more Training like this one</td>\n",
       "      <td>1</td>\n",
       "      <td>[nee, lik, train, on]</td>\n",
       "      <td>[need, like, train, one]</td>\n",
       "      <td>[need, like, training, one]</td>\n",
       "    </tr>\n",
       "    <tr>\n",
       "      <th>2573</th>\n",
       "      <td>Would be nice if there are physical training p...</td>\n",
       "      <td>1</td>\n",
       "      <td>[focus, would, platform, nic, phys, train, sess]</td>\n",
       "      <td>[focus, would, platform, nice, physic, train, ...</td>\n",
       "      <td>[focused, would, platform, nice, physical, tra...</td>\n",
       "    </tr>\n",
       "    <tr>\n",
       "      <th>2574</th>\n",
       "      <td>Would prefer physical presence.</td>\n",
       "      <td>1</td>\n",
       "      <td>[pres, would, phys, pref]</td>\n",
       "      <td>[presenc, would, physic, prefer]</td>\n",
       "      <td>[presence, would, physical, prefer]</td>\n",
       "    </tr>\n",
       "  </tbody>\n",
       "</table>\n",
       "<p>2575 rows × 5 columns</p>\n",
       "</div>"
      ],
      "text/plain": [
       "                                                comment  target_enc  \\\n",
       "0                      I learned a lot on this training           2   \n",
       "1                                                  none           1   \n",
       "2                                      EXCELLENT COURSE           2   \n",
       "3                                                  Good           1   \n",
       "4                                          Good Session           2   \n",
       "...                                                 ...         ...   \n",
       "2570                                     Uipath traning           1   \n",
       "2571                  Use of other media such as Videos           1   \n",
       "2572                we need more Training like this one           1   \n",
       "2573  Would be nice if there are physical training p...           1   \n",
       "2574                    Would prefer physical presence.           1   \n",
       "\n",
       "                                                l_stem  \\\n",
       "0                                  [learn, lot, train]   \n",
       "1                                                [non]   \n",
       "2                                       [excel, cours]   \n",
       "3                                               [good]   \n",
       "4                                         [good, sess]   \n",
       "...                                                ...   \n",
       "2570                                      [uipa, tran]   \n",
       "2571                                  [video, med, us]   \n",
       "2572                             [nee, lik, train, on]   \n",
       "2573  [focus, would, platform, nic, phys, train, sess]   \n",
       "2574                         [pres, would, phys, pref]   \n",
       "\n",
       "                                                 p_stem  \\\n",
       "0                                   [learn, lot, train]   \n",
       "1                                                [none]   \n",
       "2                                        [excel, cours]   \n",
       "3                                                [good]   \n",
       "4                                       [good, session]   \n",
       "...                                                 ...   \n",
       "2570                                    [uipath, trane]   \n",
       "2571                                [video, media, use]   \n",
       "2572                           [need, like, train, one]   \n",
       "2573  [focus, would, platform, nice, physic, train, ...   \n",
       "2574                   [presenc, would, physic, prefer]   \n",
       "\n",
       "                                                    lem  \n",
       "0                              [learned, lot, training]  \n",
       "1                                                [none]  \n",
       "2                                   [excellent, course]  \n",
       "3                                                [good]  \n",
       "4                                       [good, session]  \n",
       "...                                                 ...  \n",
       "2570                                  [uipath, traning]  \n",
       "2571                               [video, medium, use]  \n",
       "2572                        [need, like, training, one]  \n",
       "2573  [focused, would, platform, nice, physical, tra...  \n",
       "2574                [presence, would, physical, prefer]  \n",
       "\n",
       "[2575 rows x 5 columns]"
      ]
     },
     "execution_count": 36,
     "metadata": {},
     "output_type": "execute_result"
    }
   ],
   "source": [
    "data['l_stem'] = data['comment'].apply(preprocessing_l_stem)\n",
    "data['p_stem'] = data['comment'].apply(preprocessing_p_stem)\n",
    "data['lem'] = data['comment'].apply(preprocessing_lem)\n",
    "\n",
    "data"
   ]
  },
  {
   "cell_type": "markdown",
   "id": "edaeb642",
   "metadata": {},
   "source": [
    "# TF-IDF"
   ]
  },
  {
   "cell_type": "code",
   "execution_count": 37,
   "id": "ea8c8528",
   "metadata": {},
   "outputs": [],
   "source": [
    "tfidf = TfidfVectorizer()"
   ]
  },
  {
   "cell_type": "markdown",
   "id": "d6258a23",
   "metadata": {},
   "source": [
    "# <font color='orange'> 1- LancasterStemmer Data</font>"
   ]
  },
  {
   "cell_type": "code",
   "execution_count": 38,
   "id": "dd438dac",
   "metadata": {},
   "outputs": [
    {
     "data": {
      "text/html": [
       "<div>\n",
       "<style scoped>\n",
       "    .dataframe tbody tr th:only-of-type {\n",
       "        vertical-align: middle;\n",
       "    }\n",
       "\n",
       "    .dataframe tbody tr th {\n",
       "        vertical-align: top;\n",
       "    }\n",
       "\n",
       "    .dataframe thead th {\n",
       "        text-align: right;\n",
       "    }\n",
       "</style>\n",
       "<table border=\"1\" class=\"dataframe\">\n",
       "  <thead>\n",
       "    <tr style=\"text-align: right;\">\n",
       "      <th></th>\n",
       "      <th>l_stem</th>\n",
       "      <th>target_enc</th>\n",
       "    </tr>\n",
       "  </thead>\n",
       "  <tbody>\n",
       "    <tr>\n",
       "      <th>0</th>\n",
       "      <td>[learn, lot, train]</td>\n",
       "      <td>2</td>\n",
       "    </tr>\n",
       "    <tr>\n",
       "      <th>1</th>\n",
       "      <td>[non]</td>\n",
       "      <td>1</td>\n",
       "    </tr>\n",
       "    <tr>\n",
       "      <th>2</th>\n",
       "      <td>[excel, cours]</td>\n",
       "      <td>2</td>\n",
       "    </tr>\n",
       "    <tr>\n",
       "      <th>3</th>\n",
       "      <td>[good]</td>\n",
       "      <td>1</td>\n",
       "    </tr>\n",
       "    <tr>\n",
       "      <th>4</th>\n",
       "      <td>[good, sess]</td>\n",
       "      <td>2</td>\n",
       "    </tr>\n",
       "    <tr>\n",
       "      <th>...</th>\n",
       "      <td>...</td>\n",
       "      <td>...</td>\n",
       "    </tr>\n",
       "    <tr>\n",
       "      <th>2570</th>\n",
       "      <td>[uipa, tran]</td>\n",
       "      <td>1</td>\n",
       "    </tr>\n",
       "    <tr>\n",
       "      <th>2571</th>\n",
       "      <td>[video, med, us]</td>\n",
       "      <td>1</td>\n",
       "    </tr>\n",
       "    <tr>\n",
       "      <th>2572</th>\n",
       "      <td>[nee, lik, train, on]</td>\n",
       "      <td>1</td>\n",
       "    </tr>\n",
       "    <tr>\n",
       "      <th>2573</th>\n",
       "      <td>[focus, would, platform, nic, phys, train, sess]</td>\n",
       "      <td>1</td>\n",
       "    </tr>\n",
       "    <tr>\n",
       "      <th>2574</th>\n",
       "      <td>[pres, would, phys, pref]</td>\n",
       "      <td>1</td>\n",
       "    </tr>\n",
       "  </tbody>\n",
       "</table>\n",
       "<p>2575 rows × 2 columns</p>\n",
       "</div>"
      ],
      "text/plain": [
       "                                                l_stem  target_enc\n",
       "0                                  [learn, lot, train]           2\n",
       "1                                                [non]           1\n",
       "2                                       [excel, cours]           2\n",
       "3                                               [good]           1\n",
       "4                                         [good, sess]           2\n",
       "...                                                ...         ...\n",
       "2570                                      [uipa, tran]           1\n",
       "2571                                  [video, med, us]           1\n",
       "2572                             [nee, lik, train, on]           1\n",
       "2573  [focus, would, platform, nic, phys, train, sess]           1\n",
       "2574                         [pres, would, phys, pref]           1\n",
       "\n",
       "[2575 rows x 2 columns]"
      ]
     },
     "execution_count": 38,
     "metadata": {},
     "output_type": "execute_result"
    }
   ],
   "source": [
    "df_Lstem = data[['l_stem', 'target_enc']]\n",
    "df_Lstem"
   ]
  },
  {
   "cell_type": "code",
   "execution_count": 39,
   "id": "218ce7d2",
   "metadata": {},
   "outputs": [],
   "source": [
    "text_lstem = [\" \".join(i) for i in list(df_Lstem['l_stem'])]"
   ]
  },
  {
   "cell_type": "code",
   "execution_count": 40,
   "id": "e28c1155",
   "metadata": {},
   "outputs": [
    {
     "data": {
      "text/plain": [
       "2575"
      ]
     },
     "execution_count": 40,
     "metadata": {},
     "output_type": "execute_result"
    }
   ],
   "source": [
    "len(text_lstem)"
   ]
  },
  {
   "cell_type": "code",
   "execution_count": 41,
   "id": "f9509035",
   "metadata": {},
   "outputs": [],
   "source": [
    "tfidf_text_lstem = tfidf.fit_transform(text_lstem)"
   ]
  },
  {
   "cell_type": "code",
   "execution_count": 42,
   "id": "59a5a6bf",
   "metadata": {
    "scrolled": true
   },
   "outputs": [
    {
     "data": {
      "text/plain": [
       "array(['ab', 'abba', 'abl', 'absorb', 'academy', 'acc', 'access',\n",
       "       'accommod', 'across', 'act', 'ad', 'adapt', 'address', 'adequ',\n",
       "       'adjust', 'admin', 'adv', 'advert', 'afford', 'ahm', 'ai', 'al',\n",
       "       'ala', 'alaa', 'align', 'alloc', 'allow', 'almost', 'alobeidl',\n",
       "       'along', 'alot', 'already', 'also', 'alway', 'amaz', 'ampl',\n",
       "       'analys', 'angry', 'anoth', 'answ', 'anyth', 'anytim', 'appl',\n",
       "       'apply', 'apprecy', 'approach', 'approv', 'are', 'area', 'arrang',\n",
       "       'ask', 'aspir', 'assess', 'assign', 'at', 'attend', 'attitud',\n",
       "       'audy', 'avail', 'avoid', 'aw', 'awesom', 'background', 'bad',\n",
       "       'bal', 'bas', 'bay', 'becom', 'begin', 'believ', 'benef',\n",
       "       'benefit', 'best', 'bet', 'beyond', 'bi', 'bias', 'bit', 'blend',\n",
       "       'bless', 'block', 'book', 'brand', 'break', 'build', 'busy',\n",
       "       'cabl', 'cam', 'car', 'cas', 'catch', 'caus', 'cert', 'chain',\n",
       "       'challeng', 'chandr', 'chang', 'chaot', 'chatbot', 'chatgpt',\n",
       "       'check', 'chos', 'clar', 'class', 'classroom', 'clear', 'cloud',\n",
       "       'cmd', 'coach', 'cod', 'coh', 'cohort', 'collab', 'com', 'comfort',\n",
       "       'commin', 'commun', 'comp', 'company', 'compass', 'compet',\n",
       "       'complain', 'complet', 'complex', 'comprehend', 'conceiv',\n",
       "       'concern', 'condens', 'condescend', 'conduc', 'confid', 'config',\n",
       "       'confirm', 'conflict', 'connect', 'consid', 'construct', 'cont',\n",
       "       'contain', 'context', 'continu', 'continues', 'contribut',\n",
       "       'convers', 'coordin', 'cor', 'could', 'cours', 'cov', 'craft',\n",
       "       'cre', 'cred', 'cris', 'crit', 'crowd', 'cryst', 'cult', 'cur',\n",
       "       'custom', 'dai', 'dashboard', 'dat', 'day', 'deb', 'decid', 'ded',\n",
       "       'deep', 'definit', 'del', 'delivery', 'demo', 'demonst', 'dep',\n",
       "       'depart', 'depend', 'design', 'despit', 'detail', 'dev', 'develop',\n",
       "       'dhcp', 'diff', 'difficul', 'difficult', 'direct', 'dis', 'disagr',\n",
       "       'discuss', 'dismit', 'disorg', 'disrespect', 'distract', 'disturb',\n",
       "       'divers', 'docu', 'domain', 'don', 'doubt', 'download', 'drag',\n",
       "       'due', 'dur', 'dynam', 'eand', 'easiest', 'easy', 'econom', 'educ',\n",
       "       'effect', 'efficy', 'effort', 'elearn', 'els', 'email', 'emot',\n",
       "       'empathy', 'emprov', 'en', 'enco', 'end', 'eng', 'enh', 'enjoy',\n",
       "       'enough', 'enrol', 'ens', 'entertain', 'enthusiasm', 'entir',\n",
       "       'environ', 'equip', 'eslam', 'espec', 'ess', 'et', 'eth', 'ev',\n",
       "       'evalu', 'evergth', 'every', 'everyon', 'everyth', 'evid',\n",
       "       'exampl', 'excel', 'excess', 'exchang', 'execut', 'exerc',\n",
       "       'exmapl', 'expect', 'expend', 'expert', 'expery', 'expl',\n",
       "       'explain', 'extr', 'ey', 'fac', 'facil', 'facilit', 'fair', 'famy',\n",
       "       'fantast', 'far', 'fast', 'feat', 'feedback', 'feel', 'felt',\n",
       "       'fib', 'field', 'fight', 'fil', 'fin', 'find', 'first', 'flex',\n",
       "       'foc', 'focus', 'follow', 'form', 'forward', 'found', 'framework',\n",
       "       'friend', 'fruit', 'fruitful', 'ful', 'fulfil', 'fun', 'funct',\n",
       "       'fut', 'gain', 'gam', 'gav', 'gcp', 'gen', 'geograph', 'get',\n",
       "       'giv', 'glad', 'go', 'goal', 'goid', 'going', 'good', 'got', 'gr',\n",
       "       'grad', 'grasp', 'gre', 'greet', 'group', 'grow', 'guid', 'hal',\n",
       "       'hand', 'handl', 'handson', 'happy', 'hard', 'hardw', 'heal',\n",
       "       'hear', 'heard', 'held', 'help', 'helpful', 'hig', 'high',\n",
       "       'holiday', 'hom', 'hood', 'hop', 'hostil', 'hour', 'howev', 'hug',\n",
       "       'hybrid', 'ide', 'idea', 'il', 'immedy', 'immens', 'impl',\n",
       "       'import', 'impress', 'improp', 'improv', 'in', 'inacc', 'includ',\n",
       "       'incorp', 'increas', 'individ', 'industry', 'influ', 'info',\n",
       "       'inform', 'init', 'innov', 'input', 'inshallah', 'insight',\n",
       "       'inspir', 'instal', 'instead', 'instruct', 'integr', 'intellig',\n",
       "       'interact', 'interest', 'interperson', 'interst', 'intract',\n",
       "       'intrest', 'intro', 'introduc', 'invest', 'invit', 'involv',\n",
       "       'iptv', 'ipv', 'irrelev', 'isp', 'issu', 'job', 'join', 'journay',\n",
       "       'keep', 'kept', 'kind', 'knack', 'know', 'knowl', 'knowldg',\n",
       "       'knowledg', 'knowleg', 'kudo', 'kum', 'lab', 'lack', 'laptop',\n",
       "       'latest', 'launch', 'lead', 'lean', 'learn', 'learnt', 'least',\n",
       "       'leav', 'lengthy', 'less', 'lesson', 'level', 'lif', 'lik',\n",
       "       'limit', 'lingu', 'littl', 'liv', 'loc', 'long', 'look', 'lost',\n",
       "       'lot', 'lov', 'low', 'mad', 'mahr', 'maintain', 'majorty', 'mak',\n",
       "       'man', 'mand', 'many', 'maraw', 'mariam', 'market', 'marw', 'mat',\n",
       "       'may', 'mean', 'meas', 'med', 'meet', 'ment', 'met', 'method',\n",
       "       'microsoft', 'might', 'migr', 'mind', 'minut', 'miss',\n",
       "       'misunderstand', 'mod', 'moham', 'money', 'monoton', 'month',\n",
       "       'morn', 'mot', 'mov', 'mr', 'ms', 'msd', 'much', 'muhamad',\n",
       "       'muhammad', 'multipl', 'must', 'na', 'near', 'neat', 'nee',\n",
       "       'needm', 'negoty', 'network', 'new', 'next', 'nft', 'nic', 'nil',\n",
       "       'nl', 'noisy', 'non', 'noth', 'nul', 'numb', 'object', 'off', 'ok',\n",
       "       'okay', 'om', 'on', 'onlin', 'ont', 'op', 'opportun', 'opt', 'org',\n",
       "       'ory', 'oth', 'outcom', 'outd', 'outsid', 'outstand', 'ov',\n",
       "       'overal', 'overcom', 'overpr', 'oversight', 'overwhelm', 'pac',\n",
       "       'packet', 'pacy', 'pad', 'pag', 'paint', 'part', 'particip',\n",
       "       'paty', 'pc', 'peer', 'peopl', 'perc', 'perfect', 'perform',\n",
       "       'person', 'perspect', 'phon', 'phys', 'plan', 'platform', 'play',\n",
       "       'pleas', 'point', 'polit', 'poor', 'port', 'posit', 'poss', 'pow',\n",
       "       'powerb', 'ppts', 'pract', 'pre', 'prec', 'pref', 'prefect',\n",
       "       'prefer', 'prep', 'pres', 'pri', 'priv', 'privileg', 'problem',\n",
       "       'process', 'profess', 'program', 'progress', 'project', 'promot',\n",
       "       'prop', 'protocol', 'prov', 'provid', 'python', 'qliksens', 'qual',\n",
       "       'quest', 'quit', 'quizz', 'rais', 'ran', 'rapid', 'rat', 'rath',\n",
       "       'read', 'real', 'recal', 'receiv', 'recommend', 'record', 'reduc',\n",
       "       'ref', 'reflect', 'reg', 'regard', 'rel', 'relev', 'remot', 'rep',\n",
       "       'repetit', 'report', 'request', 'requir', 'requisit', 'research',\n",
       "       'resolv', 'resourc', 'respect', 'respond', 'respons', 'rest',\n",
       "       'resy', 'return', 'review', 'rich', 'risk', 'robot', 'rol', 'room',\n",
       "       'rout', 'rpa', 'rud', 'run', 'rush', 'sad', 'sal', 'satisfact',\n",
       "       'satisfy', 'saturday', 'say', 'scenario', 'schedule', 'scheduled',\n",
       "       'schedules', 'sci', 'sd', 'season', 'sec', 'second', 'sect', 'see',\n",
       "       'seek', 'seem', 'seg', 'self', 'send', 'sensit', 'sep', 'sequ',\n",
       "       'serv', 'sess', 'shal', 'shar', 'shift', 'short', 'show', 'sid',\n",
       "       'sign', 'sijin', 'sim', 'simil', 'simpl', 'sint', 'sir', 'situ',\n",
       "       'skil', 'skip', 'slid', 'slow', 'smart', 'soc', 'soft', 'softw',\n",
       "       'solv', 'someth', 'somewh', 'spec', 'spend', 'split', 'sql',\n",
       "       'ssess', 'st', 'staff', 'stakehold', 'start', 'stay', 'step',\n",
       "       'stil', 'story', 'strategic', 'strategies', 'stress', 'strong',\n",
       "       'structure', 'structured', 'structures', 'study', 'stuff', 'styl',\n",
       "       'subject', 'sufficy', 'suggest', 'suit', 'sunday', 'superb',\n",
       "       'superv', 'support', 'supportedby', 'sur', 'suresh', 'sw',\n",
       "       'system', 'tableau', 'tail', 'tak', 'talk', 'task', 'taught',\n",
       "       'teach', 'team', 'teamwork', 'tech', 'techn', 'technolog', 'tel',\n",
       "       'telegram', 'term', 'thank', 'thannk', 'the', 'theoret', 'thing',\n",
       "       'think', 'thnx', 'thorou', 'thorough', 'thought', 'throat',\n",
       "       'throwback', 'tim', 'time', 'tip', 'tissy', 'today', 'togeth',\n",
       "       'took', 'tool', 'top', 'tought', 'toward', 'tra', 'trac', 'track',\n",
       "       'train', 'trainig', 'tran', 'transf', 'transform', 'transp',\n",
       "       'trend', 'trin', 'troubleshoot', 'try', 'tut', 'two', 'typ',\n",
       "       'uipa', 'un', 'unapproach', 'unclear', 'uncomfort', 'underatand',\n",
       "       'understand', 'understood', 'uneng', 'unenthusiast', 'unmut',\n",
       "       'unnecess', 'unprep', 'unprofess', 'unrespond', 'unwelcom', 'urg',\n",
       "       'us', 'useful', 'util', 'valu', 'vary', 'vast', 'vb', 'veary',\n",
       "       'venu', 'ver', 'vers', 'vert', 'video', 'view', 'vis', 'voic',\n",
       "       'wait', 'want', 'wast', 'way', 'weak', 'weal', 'weekend', 'wel',\n",
       "       'welcom', 'whenev', 'whiteboard', 'wil', 'wish', 'within', 'wond',\n",
       "       'wor', 'work', 'workshop', 'world', 'worthy', 'would', 'writ',\n",
       "       'ye', 'yor', 'yr'], dtype=object)"
      ]
     },
     "execution_count": 42,
     "metadata": {},
     "output_type": "execute_result"
    }
   ],
   "source": [
    "tfidf.get_feature_names_out()"
   ]
  },
  {
   "cell_type": "code",
   "execution_count": 43,
   "id": "54a11ec0",
   "metadata": {},
   "outputs": [
    {
     "data": {
      "text/plain": [
       "array([[0., 0., 0., ..., 0., 0., 0.],\n",
       "       [0., 0., 0., ..., 0., 0., 0.],\n",
       "       [0., 0., 0., ..., 0., 0., 0.],\n",
       "       ...,\n",
       "       [0., 0., 0., ..., 0., 0., 0.],\n",
       "       [0., 0., 0., ..., 0., 0., 0.],\n",
       "       [0., 0., 0., ..., 0., 0., 0.]])"
      ]
     },
     "execution_count": 43,
     "metadata": {},
     "output_type": "execute_result"
    }
   ],
   "source": [
    "tfidf_text_lstem.toarray()"
   ]
  },
  {
   "cell_type": "code",
   "execution_count": 44,
   "id": "2c8e4a92",
   "metadata": {},
   "outputs": [
    {
     "data": {
      "text/html": [
       "<div>\n",
       "<style scoped>\n",
       "    .dataframe tbody tr th:only-of-type {\n",
       "        vertical-align: middle;\n",
       "    }\n",
       "\n",
       "    .dataframe tbody tr th {\n",
       "        vertical-align: top;\n",
       "    }\n",
       "\n",
       "    .dataframe thead th {\n",
       "        text-align: right;\n",
       "    }\n",
       "</style>\n",
       "<table border=\"1\" class=\"dataframe\">\n",
       "  <thead>\n",
       "    <tr style=\"text-align: right;\">\n",
       "      <th></th>\n",
       "      <th>ab</th>\n",
       "      <th>abba</th>\n",
       "      <th>abl</th>\n",
       "      <th>absorb</th>\n",
       "      <th>academy</th>\n",
       "      <th>acc</th>\n",
       "      <th>access</th>\n",
       "      <th>accommod</th>\n",
       "      <th>across</th>\n",
       "      <th>act</th>\n",
       "      <th>...</th>\n",
       "      <th>wor</th>\n",
       "      <th>work</th>\n",
       "      <th>workshop</th>\n",
       "      <th>world</th>\n",
       "      <th>worthy</th>\n",
       "      <th>would</th>\n",
       "      <th>writ</th>\n",
       "      <th>ye</th>\n",
       "      <th>yor</th>\n",
       "      <th>yr</th>\n",
       "    </tr>\n",
       "  </thead>\n",
       "  <tbody>\n",
       "    <tr>\n",
       "      <th>0</th>\n",
       "      <td>0.0</td>\n",
       "      <td>0.0</td>\n",
       "      <td>0.0</td>\n",
       "      <td>0.0</td>\n",
       "      <td>0.0</td>\n",
       "      <td>0.0</td>\n",
       "      <td>0.0</td>\n",
       "      <td>0.0</td>\n",
       "      <td>0.0</td>\n",
       "      <td>0.0</td>\n",
       "      <td>...</td>\n",
       "      <td>0.0</td>\n",
       "      <td>0.0</td>\n",
       "      <td>0.0</td>\n",
       "      <td>0.0</td>\n",
       "      <td>0.0</td>\n",
       "      <td>0.000000</td>\n",
       "      <td>0.0</td>\n",
       "      <td>0.0</td>\n",
       "      <td>0.0</td>\n",
       "      <td>0.0</td>\n",
       "    </tr>\n",
       "    <tr>\n",
       "      <th>1</th>\n",
       "      <td>0.0</td>\n",
       "      <td>0.0</td>\n",
       "      <td>0.0</td>\n",
       "      <td>0.0</td>\n",
       "      <td>0.0</td>\n",
       "      <td>0.0</td>\n",
       "      <td>0.0</td>\n",
       "      <td>0.0</td>\n",
       "      <td>0.0</td>\n",
       "      <td>0.0</td>\n",
       "      <td>...</td>\n",
       "      <td>0.0</td>\n",
       "      <td>0.0</td>\n",
       "      <td>0.0</td>\n",
       "      <td>0.0</td>\n",
       "      <td>0.0</td>\n",
       "      <td>0.000000</td>\n",
       "      <td>0.0</td>\n",
       "      <td>0.0</td>\n",
       "      <td>0.0</td>\n",
       "      <td>0.0</td>\n",
       "    </tr>\n",
       "    <tr>\n",
       "      <th>2</th>\n",
       "      <td>0.0</td>\n",
       "      <td>0.0</td>\n",
       "      <td>0.0</td>\n",
       "      <td>0.0</td>\n",
       "      <td>0.0</td>\n",
       "      <td>0.0</td>\n",
       "      <td>0.0</td>\n",
       "      <td>0.0</td>\n",
       "      <td>0.0</td>\n",
       "      <td>0.0</td>\n",
       "      <td>...</td>\n",
       "      <td>0.0</td>\n",
       "      <td>0.0</td>\n",
       "      <td>0.0</td>\n",
       "      <td>0.0</td>\n",
       "      <td>0.0</td>\n",
       "      <td>0.000000</td>\n",
       "      <td>0.0</td>\n",
       "      <td>0.0</td>\n",
       "      <td>0.0</td>\n",
       "      <td>0.0</td>\n",
       "    </tr>\n",
       "    <tr>\n",
       "      <th>3</th>\n",
       "      <td>0.0</td>\n",
       "      <td>0.0</td>\n",
       "      <td>0.0</td>\n",
       "      <td>0.0</td>\n",
       "      <td>0.0</td>\n",
       "      <td>0.0</td>\n",
       "      <td>0.0</td>\n",
       "      <td>0.0</td>\n",
       "      <td>0.0</td>\n",
       "      <td>0.0</td>\n",
       "      <td>...</td>\n",
       "      <td>0.0</td>\n",
       "      <td>0.0</td>\n",
       "      <td>0.0</td>\n",
       "      <td>0.0</td>\n",
       "      <td>0.0</td>\n",
       "      <td>0.000000</td>\n",
       "      <td>0.0</td>\n",
       "      <td>0.0</td>\n",
       "      <td>0.0</td>\n",
       "      <td>0.0</td>\n",
       "    </tr>\n",
       "    <tr>\n",
       "      <th>4</th>\n",
       "      <td>0.0</td>\n",
       "      <td>0.0</td>\n",
       "      <td>0.0</td>\n",
       "      <td>0.0</td>\n",
       "      <td>0.0</td>\n",
       "      <td>0.0</td>\n",
       "      <td>0.0</td>\n",
       "      <td>0.0</td>\n",
       "      <td>0.0</td>\n",
       "      <td>0.0</td>\n",
       "      <td>...</td>\n",
       "      <td>0.0</td>\n",
       "      <td>0.0</td>\n",
       "      <td>0.0</td>\n",
       "      <td>0.0</td>\n",
       "      <td>0.0</td>\n",
       "      <td>0.000000</td>\n",
       "      <td>0.0</td>\n",
       "      <td>0.0</td>\n",
       "      <td>0.0</td>\n",
       "      <td>0.0</td>\n",
       "    </tr>\n",
       "    <tr>\n",
       "      <th>...</th>\n",
       "      <td>...</td>\n",
       "      <td>...</td>\n",
       "      <td>...</td>\n",
       "      <td>...</td>\n",
       "      <td>...</td>\n",
       "      <td>...</td>\n",
       "      <td>...</td>\n",
       "      <td>...</td>\n",
       "      <td>...</td>\n",
       "      <td>...</td>\n",
       "      <td>...</td>\n",
       "      <td>...</td>\n",
       "      <td>...</td>\n",
       "      <td>...</td>\n",
       "      <td>...</td>\n",
       "      <td>...</td>\n",
       "      <td>...</td>\n",
       "      <td>...</td>\n",
       "      <td>...</td>\n",
       "      <td>...</td>\n",
       "      <td>...</td>\n",
       "    </tr>\n",
       "    <tr>\n",
       "      <th>2570</th>\n",
       "      <td>0.0</td>\n",
       "      <td>0.0</td>\n",
       "      <td>0.0</td>\n",
       "      <td>0.0</td>\n",
       "      <td>0.0</td>\n",
       "      <td>0.0</td>\n",
       "      <td>0.0</td>\n",
       "      <td>0.0</td>\n",
       "      <td>0.0</td>\n",
       "      <td>0.0</td>\n",
       "      <td>...</td>\n",
       "      <td>0.0</td>\n",
       "      <td>0.0</td>\n",
       "      <td>0.0</td>\n",
       "      <td>0.0</td>\n",
       "      <td>0.0</td>\n",
       "      <td>0.000000</td>\n",
       "      <td>0.0</td>\n",
       "      <td>0.0</td>\n",
       "      <td>0.0</td>\n",
       "      <td>0.0</td>\n",
       "    </tr>\n",
       "    <tr>\n",
       "      <th>2571</th>\n",
       "      <td>0.0</td>\n",
       "      <td>0.0</td>\n",
       "      <td>0.0</td>\n",
       "      <td>0.0</td>\n",
       "      <td>0.0</td>\n",
       "      <td>0.0</td>\n",
       "      <td>0.0</td>\n",
       "      <td>0.0</td>\n",
       "      <td>0.0</td>\n",
       "      <td>0.0</td>\n",
       "      <td>...</td>\n",
       "      <td>0.0</td>\n",
       "      <td>0.0</td>\n",
       "      <td>0.0</td>\n",
       "      <td>0.0</td>\n",
       "      <td>0.0</td>\n",
       "      <td>0.000000</td>\n",
       "      <td>0.0</td>\n",
       "      <td>0.0</td>\n",
       "      <td>0.0</td>\n",
       "      <td>0.0</td>\n",
       "    </tr>\n",
       "    <tr>\n",
       "      <th>2572</th>\n",
       "      <td>0.0</td>\n",
       "      <td>0.0</td>\n",
       "      <td>0.0</td>\n",
       "      <td>0.0</td>\n",
       "      <td>0.0</td>\n",
       "      <td>0.0</td>\n",
       "      <td>0.0</td>\n",
       "      <td>0.0</td>\n",
       "      <td>0.0</td>\n",
       "      <td>0.0</td>\n",
       "      <td>...</td>\n",
       "      <td>0.0</td>\n",
       "      <td>0.0</td>\n",
       "      <td>0.0</td>\n",
       "      <td>0.0</td>\n",
       "      <td>0.0</td>\n",
       "      <td>0.000000</td>\n",
       "      <td>0.0</td>\n",
       "      <td>0.0</td>\n",
       "      <td>0.0</td>\n",
       "      <td>0.0</td>\n",
       "    </tr>\n",
       "    <tr>\n",
       "      <th>2573</th>\n",
       "      <td>0.0</td>\n",
       "      <td>0.0</td>\n",
       "      <td>0.0</td>\n",
       "      <td>0.0</td>\n",
       "      <td>0.0</td>\n",
       "      <td>0.0</td>\n",
       "      <td>0.0</td>\n",
       "      <td>0.0</td>\n",
       "      <td>0.0</td>\n",
       "      <td>0.0</td>\n",
       "      <td>...</td>\n",
       "      <td>0.0</td>\n",
       "      <td>0.0</td>\n",
       "      <td>0.0</td>\n",
       "      <td>0.0</td>\n",
       "      <td>0.0</td>\n",
       "      <td>0.298995</td>\n",
       "      <td>0.0</td>\n",
       "      <td>0.0</td>\n",
       "      <td>0.0</td>\n",
       "      <td>0.0</td>\n",
       "    </tr>\n",
       "    <tr>\n",
       "      <th>2574</th>\n",
       "      <td>0.0</td>\n",
       "      <td>0.0</td>\n",
       "      <td>0.0</td>\n",
       "      <td>0.0</td>\n",
       "      <td>0.0</td>\n",
       "      <td>0.0</td>\n",
       "      <td>0.0</td>\n",
       "      <td>0.0</td>\n",
       "      <td>0.0</td>\n",
       "      <td>0.0</td>\n",
       "      <td>...</td>\n",
       "      <td>0.0</td>\n",
       "      <td>0.0</td>\n",
       "      <td>0.0</td>\n",
       "      <td>0.0</td>\n",
       "      <td>0.0</td>\n",
       "      <td>0.364412</td>\n",
       "      <td>0.0</td>\n",
       "      <td>0.0</td>\n",
       "      <td>0.0</td>\n",
       "      <td>0.0</td>\n",
       "    </tr>\n",
       "  </tbody>\n",
       "</table>\n",
       "<p>2575 rows × 820 columns</p>\n",
       "</div>"
      ],
      "text/plain": [
       "       ab  abba  abl  absorb  academy  acc  access  accommod  across  act  \\\n",
       "0     0.0   0.0  0.0     0.0      0.0  0.0     0.0       0.0     0.0  0.0   \n",
       "1     0.0   0.0  0.0     0.0      0.0  0.0     0.0       0.0     0.0  0.0   \n",
       "2     0.0   0.0  0.0     0.0      0.0  0.0     0.0       0.0     0.0  0.0   \n",
       "3     0.0   0.0  0.0     0.0      0.0  0.0     0.0       0.0     0.0  0.0   \n",
       "4     0.0   0.0  0.0     0.0      0.0  0.0     0.0       0.0     0.0  0.0   \n",
       "...   ...   ...  ...     ...      ...  ...     ...       ...     ...  ...   \n",
       "2570  0.0   0.0  0.0     0.0      0.0  0.0     0.0       0.0     0.0  0.0   \n",
       "2571  0.0   0.0  0.0     0.0      0.0  0.0     0.0       0.0     0.0  0.0   \n",
       "2572  0.0   0.0  0.0     0.0      0.0  0.0     0.0       0.0     0.0  0.0   \n",
       "2573  0.0   0.0  0.0     0.0      0.0  0.0     0.0       0.0     0.0  0.0   \n",
       "2574  0.0   0.0  0.0     0.0      0.0  0.0     0.0       0.0     0.0  0.0   \n",
       "\n",
       "      ...  wor  work  workshop  world  worthy     would  writ   ye  yor   yr  \n",
       "0     ...  0.0   0.0       0.0    0.0     0.0  0.000000   0.0  0.0  0.0  0.0  \n",
       "1     ...  0.0   0.0       0.0    0.0     0.0  0.000000   0.0  0.0  0.0  0.0  \n",
       "2     ...  0.0   0.0       0.0    0.0     0.0  0.000000   0.0  0.0  0.0  0.0  \n",
       "3     ...  0.0   0.0       0.0    0.0     0.0  0.000000   0.0  0.0  0.0  0.0  \n",
       "4     ...  0.0   0.0       0.0    0.0     0.0  0.000000   0.0  0.0  0.0  0.0  \n",
       "...   ...  ...   ...       ...    ...     ...       ...   ...  ...  ...  ...  \n",
       "2570  ...  0.0   0.0       0.0    0.0     0.0  0.000000   0.0  0.0  0.0  0.0  \n",
       "2571  ...  0.0   0.0       0.0    0.0     0.0  0.000000   0.0  0.0  0.0  0.0  \n",
       "2572  ...  0.0   0.0       0.0    0.0     0.0  0.000000   0.0  0.0  0.0  0.0  \n",
       "2573  ...  0.0   0.0       0.0    0.0     0.0  0.298995   0.0  0.0  0.0  0.0  \n",
       "2574  ...  0.0   0.0       0.0    0.0     0.0  0.364412   0.0  0.0  0.0  0.0  \n",
       "\n",
       "[2575 rows x 820 columns]"
      ]
     },
     "execution_count": 44,
     "metadata": {},
     "output_type": "execute_result"
    }
   ],
   "source": [
    "df_tfidf_lstem = pd.DataFrame(tfidf_text_lstem.toarray(), columns=tfidf.get_feature_names_out())\n",
    "df_tfidf_lstem"
   ]
  },
  {
   "cell_type": "markdown",
   "id": "9039a014",
   "metadata": {},
   "source": [
    "## Splitting Data"
   ]
  },
  {
   "cell_type": "code",
   "execution_count": 45,
   "id": "daeb4aba",
   "metadata": {},
   "outputs": [],
   "source": [
    "xtrain, xtest, ytrain, ytest = train_test_split(df_tfidf_lstem,df_Lstem['target_enc'], random_state=1,\n",
    "                                                test_size=0.1)\n"
   ]
  },
  {
   "cell_type": "code",
   "execution_count": 46,
   "id": "6b6bba88",
   "metadata": {},
   "outputs": [
    {
     "name": "stdout",
     "output_type": "stream",
     "text": [
      "x_train shape is > (2317, 820)\n",
      "y_train shape is > (2317,)\n",
      "x_test shape is > (258, 820)\n",
      "y_test shape is > (258,)\n"
     ]
    }
   ],
   "source": [
    "print(f\"x_train shape is > {xtrain.shape}\")\n",
    "print(f\"y_train shape is > {ytrain.shape}\")\n",
    "print(f\"x_test shape is > {xtest.shape}\")\n",
    "print(f\"y_test shape is > {ytest.shape}\")"
   ]
  },
  {
   "cell_type": "markdown",
   "id": "7a9c34e5",
   "metadata": {},
   "source": [
    "## Model:"
   ]
  },
  {
   "cell_type": "markdown",
   "id": "662d57c2",
   "metadata": {},
   "source": [
    "##  1 - Naiev Bais"
   ]
  },
  {
   "cell_type": "code",
   "execution_count": 47,
   "id": "4107cddb",
   "metadata": {},
   "outputs": [],
   "source": [
    "nb = MultinomialNB()\n",
    "nb.fit(xtrain, ytrain)\n",
    "nb_ypred = nb.predict(xtest)"
   ]
  },
  {
   "cell_type": "code",
   "execution_count": 48,
   "id": "2139f7ff",
   "metadata": {},
   "outputs": [
    {
     "data": {
      "text/plain": [
       "0.8410852713178295"
      ]
     },
     "execution_count": 48,
     "metadata": {},
     "output_type": "execute_result"
    }
   ],
   "source": [
    "accuracy_score(ytest,nb_ypred)"
   ]
  },
  {
   "cell_type": "code",
   "execution_count": 49,
   "id": "54dd00d3",
   "metadata": {},
   "outputs": [
    {
     "data": {
      "text/plain": [
       "array([[65,  1,  3],\n",
       "       [ 2, 53, 31],\n",
       "       [ 0,  4, 99]], dtype=int64)"
      ]
     },
     "execution_count": 49,
     "metadata": {},
     "output_type": "execute_result"
    }
   ],
   "source": [
    "confusion_matrix(ytest, nb_ypred)"
   ]
  },
  {
   "cell_type": "code",
   "execution_count": 50,
   "id": "d842efea",
   "metadata": {},
   "outputs": [
    {
     "name": "stdout",
     "output_type": "stream",
     "text": [
      "              precision    recall  f1-score   support\n",
      "\n",
      "           0       0.97      0.94      0.96        69\n",
      "           1       0.91      0.62      0.74        86\n",
      "           2       0.74      0.96      0.84       103\n",
      "\n",
      "    accuracy                           0.84       258\n",
      "   macro avg       0.88      0.84      0.84       258\n",
      "weighted avg       0.86      0.84      0.84       258\n",
      "\n"
     ]
    }
   ],
   "source": [
    "print(classification_report(ytest,nb_ypred))"
   ]
  },
  {
   "cell_type": "markdown",
   "id": "a813e73a",
   "metadata": {},
   "source": [
    "## 2 - Logistic regression"
   ]
  },
  {
   "cell_type": "code",
   "execution_count": 51,
   "id": "60ffc4e7",
   "metadata": {},
   "outputs": [],
   "source": [
    "lr = LogisticRegression()\n",
    "lr.fit(xtrain, ytrain)\n",
    "lr_ypred = lr.predict(xtest)"
   ]
  },
  {
   "cell_type": "code",
   "execution_count": 52,
   "id": "bc7caa2e",
   "metadata": {},
   "outputs": [
    {
     "data": {
      "text/plain": [
       "0.9186046511627907"
      ]
     },
     "execution_count": 52,
     "metadata": {},
     "output_type": "execute_result"
    }
   ],
   "source": [
    "accuracy_score(ytest,lr_ypred)"
   ]
  },
  {
   "cell_type": "code",
   "execution_count": 53,
   "id": "1ca29f50",
   "metadata": {},
   "outputs": [
    {
     "data": {
      "text/plain": [
       "array([[65,  3,  1],\n",
       "       [ 1, 78,  7],\n",
       "       [ 1,  8, 94]], dtype=int64)"
      ]
     },
     "execution_count": 53,
     "metadata": {},
     "output_type": "execute_result"
    }
   ],
   "source": [
    "confusion_matrix(ytest,lr_ypred)"
   ]
  },
  {
   "cell_type": "code",
   "execution_count": 54,
   "id": "a14e67a6",
   "metadata": {},
   "outputs": [
    {
     "name": "stdout",
     "output_type": "stream",
     "text": [
      "              precision    recall  f1-score   support\n",
      "\n",
      "           0       0.97      0.94      0.96        69\n",
      "           1       0.88      0.91      0.89        86\n",
      "           2       0.92      0.91      0.92       103\n",
      "\n",
      "    accuracy                           0.92       258\n",
      "   macro avg       0.92      0.92      0.92       258\n",
      "weighted avg       0.92      0.92      0.92       258\n",
      "\n"
     ]
    }
   ],
   "source": [
    "print(classification_report(ytest,lr_ypred))"
   ]
  },
  {
   "cell_type": "markdown",
   "id": "e9a0d4ec",
   "metadata": {},
   "source": [
    "## 3 - Decision Tree"
   ]
  },
  {
   "cell_type": "code",
   "execution_count": 55,
   "id": "27fb02b5",
   "metadata": {},
   "outputs": [],
   "source": [
    "dt = DecisionTreeClassifier()\n",
    "dt.fit(xtrain, ytrain)\n",
    "dt_ypred = lr.predict(xtest)"
   ]
  },
  {
   "cell_type": "code",
   "execution_count": 56,
   "id": "139f3eeb",
   "metadata": {},
   "outputs": [
    {
     "data": {
      "text/plain": [
       "0.9186046511627907"
      ]
     },
     "execution_count": 56,
     "metadata": {},
     "output_type": "execute_result"
    }
   ],
   "source": [
    "accuracy_score(ytest,dt_ypred)"
   ]
  },
  {
   "cell_type": "code",
   "execution_count": 57,
   "id": "7f123079",
   "metadata": {},
   "outputs": [
    {
     "data": {
      "text/plain": [
       "array([[65,  3,  1],\n",
       "       [ 1, 78,  7],\n",
       "       [ 1,  8, 94]], dtype=int64)"
      ]
     },
     "execution_count": 57,
     "metadata": {},
     "output_type": "execute_result"
    }
   ],
   "source": [
    "confusion_matrix(ytest,dt_ypred)"
   ]
  },
  {
   "cell_type": "code",
   "execution_count": 58,
   "id": "e660e0d7",
   "metadata": {},
   "outputs": [
    {
     "name": "stdout",
     "output_type": "stream",
     "text": [
      "              precision    recall  f1-score   support\n",
      "\n",
      "           0       0.97      0.94      0.96        69\n",
      "           1       0.88      0.91      0.89        86\n",
      "           2       0.92      0.91      0.92       103\n",
      "\n",
      "    accuracy                           0.92       258\n",
      "   macro avg       0.92      0.92      0.92       258\n",
      "weighted avg       0.92      0.92      0.92       258\n",
      "\n"
     ]
    }
   ],
   "source": [
    "print(classification_report(ytest,dt_ypred))"
   ]
  },
  {
   "cell_type": "markdown",
   "id": "9af21037",
   "metadata": {},
   "source": [
    "## 4- KNN"
   ]
  },
  {
   "cell_type": "code",
   "execution_count": 59,
   "id": "35ce0b44",
   "metadata": {},
   "outputs": [],
   "source": [
    "knn = KNeighborsClassifier(n_neighbors=7)\n",
    "knn.fit(xtrain, ytrain)\n",
    "knn_ypred = knn.predict(xtest)"
   ]
  },
  {
   "cell_type": "code",
   "execution_count": 60,
   "id": "699d57e3",
   "metadata": {},
   "outputs": [
    {
     "data": {
      "text/plain": [
       "0.7868217054263565"
      ]
     },
     "execution_count": 60,
     "metadata": {},
     "output_type": "execute_result"
    }
   ],
   "source": [
    "accuracy_score(ytest,knn_ypred)"
   ]
  },
  {
   "cell_type": "code",
   "execution_count": 61,
   "id": "013f09c6",
   "metadata": {},
   "outputs": [
    {
     "data": {
      "text/plain": [
       "array([[45, 23,  1],\n",
       "       [ 1, 79,  6],\n",
       "       [ 0, 24, 79]], dtype=int64)"
      ]
     },
     "execution_count": 61,
     "metadata": {},
     "output_type": "execute_result"
    }
   ],
   "source": [
    "confusion_matrix(ytest,knn_ypred)"
   ]
  },
  {
   "cell_type": "code",
   "execution_count": 62,
   "id": "f6979ab4",
   "metadata": {},
   "outputs": [
    {
     "name": "stdout",
     "output_type": "stream",
     "text": [
      "              precision    recall  f1-score   support\n",
      "\n",
      "           0       0.98      0.65      0.78        69\n",
      "           1       0.63      0.92      0.75        86\n",
      "           2       0.92      0.77      0.84       103\n",
      "\n",
      "    accuracy                           0.79       258\n",
      "   macro avg       0.84      0.78      0.79       258\n",
      "weighted avg       0.84      0.79      0.79       258\n",
      "\n"
     ]
    }
   ],
   "source": [
    "print(classification_report(ytest, knn_ypred))"
   ]
  },
  {
   "cell_type": "markdown",
   "id": "6edd753e",
   "metadata": {},
   "source": [
    "# ------------------------------------------------------------------------------"
   ]
  },
  {
   "cell_type": "markdown",
   "id": "42879b2a",
   "metadata": {},
   "source": [
    "# ------------------------------------------------------------------------------"
   ]
  },
  {
   "cell_type": "markdown",
   "id": "7938d259",
   "metadata": {},
   "source": [
    "# <font color='orange'> 2- PorterStemmer Data</font>"
   ]
  },
  {
   "cell_type": "code",
   "execution_count": 63,
   "id": "b1349812",
   "metadata": {},
   "outputs": [
    {
     "data": {
      "text/html": [
       "<div>\n",
       "<style scoped>\n",
       "    .dataframe tbody tr th:only-of-type {\n",
       "        vertical-align: middle;\n",
       "    }\n",
       "\n",
       "    .dataframe tbody tr th {\n",
       "        vertical-align: top;\n",
       "    }\n",
       "\n",
       "    .dataframe thead th {\n",
       "        text-align: right;\n",
       "    }\n",
       "</style>\n",
       "<table border=\"1\" class=\"dataframe\">\n",
       "  <thead>\n",
       "    <tr style=\"text-align: right;\">\n",
       "      <th></th>\n",
       "      <th>p_stem</th>\n",
       "      <th>target_enc</th>\n",
       "    </tr>\n",
       "  </thead>\n",
       "  <tbody>\n",
       "    <tr>\n",
       "      <th>0</th>\n",
       "      <td>[learn, lot, train]</td>\n",
       "      <td>2</td>\n",
       "    </tr>\n",
       "    <tr>\n",
       "      <th>1</th>\n",
       "      <td>[none]</td>\n",
       "      <td>1</td>\n",
       "    </tr>\n",
       "    <tr>\n",
       "      <th>2</th>\n",
       "      <td>[excel, cours]</td>\n",
       "      <td>2</td>\n",
       "    </tr>\n",
       "    <tr>\n",
       "      <th>3</th>\n",
       "      <td>[good]</td>\n",
       "      <td>1</td>\n",
       "    </tr>\n",
       "    <tr>\n",
       "      <th>4</th>\n",
       "      <td>[good, session]</td>\n",
       "      <td>2</td>\n",
       "    </tr>\n",
       "    <tr>\n",
       "      <th>...</th>\n",
       "      <td>...</td>\n",
       "      <td>...</td>\n",
       "    </tr>\n",
       "    <tr>\n",
       "      <th>2570</th>\n",
       "      <td>[uipath, trane]</td>\n",
       "      <td>1</td>\n",
       "    </tr>\n",
       "    <tr>\n",
       "      <th>2571</th>\n",
       "      <td>[video, media, use]</td>\n",
       "      <td>1</td>\n",
       "    </tr>\n",
       "    <tr>\n",
       "      <th>2572</th>\n",
       "      <td>[need, like, train, one]</td>\n",
       "      <td>1</td>\n",
       "    </tr>\n",
       "    <tr>\n",
       "      <th>2573</th>\n",
       "      <td>[focus, would, platform, nice, physic, train, ...</td>\n",
       "      <td>1</td>\n",
       "    </tr>\n",
       "    <tr>\n",
       "      <th>2574</th>\n",
       "      <td>[presenc, would, physic, prefer]</td>\n",
       "      <td>1</td>\n",
       "    </tr>\n",
       "  </tbody>\n",
       "</table>\n",
       "<p>2575 rows × 2 columns</p>\n",
       "</div>"
      ],
      "text/plain": [
       "                                                 p_stem  target_enc\n",
       "0                                   [learn, lot, train]           2\n",
       "1                                                [none]           1\n",
       "2                                        [excel, cours]           2\n",
       "3                                                [good]           1\n",
       "4                                       [good, session]           2\n",
       "...                                                 ...         ...\n",
       "2570                                    [uipath, trane]           1\n",
       "2571                                [video, media, use]           1\n",
       "2572                           [need, like, train, one]           1\n",
       "2573  [focus, would, platform, nice, physic, train, ...           1\n",
       "2574                   [presenc, would, physic, prefer]           1\n",
       "\n",
       "[2575 rows x 2 columns]"
      ]
     },
     "execution_count": 63,
     "metadata": {},
     "output_type": "execute_result"
    }
   ],
   "source": [
    "df_pstem = data[['p_stem', 'target_enc']]\n",
    "df_pstem"
   ]
  },
  {
   "cell_type": "code",
   "execution_count": 64,
   "id": "6e195e6e",
   "metadata": {},
   "outputs": [],
   "source": [
    "text_pstem = [\" \".join(i) for i in list(df_pstem['p_stem'])]"
   ]
  },
  {
   "cell_type": "code",
   "execution_count": 65,
   "id": "2748720d",
   "metadata": {},
   "outputs": [
    {
     "data": {
      "text/plain": [
       "2575"
      ]
     },
     "execution_count": 65,
     "metadata": {},
     "output_type": "execute_result"
    }
   ],
   "source": [
    "len(text_pstem)"
   ]
  },
  {
   "cell_type": "code",
   "execution_count": 66,
   "id": "51d64dab",
   "metadata": {},
   "outputs": [],
   "source": [
    "tfidf_text_pstem = tfidf.fit_transform(text_pstem)"
   ]
  },
  {
   "cell_type": "code",
   "execution_count": 67,
   "id": "d4c3d856",
   "metadata": {
    "scrolled": true
   },
   "outputs": [
    {
     "data": {
      "text/plain": [
       "array(['abba', 'abl', 'absorb', 'abul', 'academi', 'access', 'accommod',\n",
       "       'accur', 'across', 'activ', 'actual', 'ad', 'adapt', 'add',\n",
       "       'address', 'adequ', 'adjust', 'administ', 'advanc', 'advertis',\n",
       "       'advic', 'advis', 'afford', 'ahm', 'ai', 'al', 'alaa', 'alaaal',\n",
       "       'ali', 'align', 'alloc', 'allow', 'almost', 'alobeidli', 'along',\n",
       "       'alot', 'alreadi', 'also', 'alway', 'amaz', 'ampl', 'analysi',\n",
       "       'angri', 'anoth', 'answer', 'anyth', 'anytim', 'appli', 'applic',\n",
       "       'appreci', 'approach', 'approv', 'area', 'arrang', 'ask', 'aspir',\n",
       "       'assess', 'assign', 'attend', 'attent', 'attitud', 'audienc',\n",
       "       'avail', 'avoid', 'aw', 'awar', 'awesom', 'background', 'bad',\n",
       "       'balanc', 'base', 'basi', 'basic', 'bayan', 'becom', 'beginn',\n",
       "       'believ', 'benefici', 'benefit', 'best', 'better', 'beyond', 'bi',\n",
       "       'bias', 'bit', 'blend', 'bless', 'block', 'book', 'brand', 'break',\n",
       "       'build', 'busi', 'cabl', 'came', 'career', 'carer', 'case',\n",
       "       'catch', 'caus', 'certif', 'chain', 'challeng', 'chandran',\n",
       "       'chang', 'chaotic', 'chatbot', 'chatgpt', 'check', 'chosen',\n",
       "       'clarif', 'clarifi', 'clariti', 'class', 'classroom', 'clear',\n",
       "       'clearli', 'cloud', 'cmd', 'coach', 'code', 'coher', 'cohort',\n",
       "       'collabor', 'com', 'comfort', 'comment', 'commin', 'commun',\n",
       "       'compani', 'compar', 'compass', 'compet', 'complain', 'complet',\n",
       "       'complex', 'comprehend', 'conceiv', 'concentr', 'concept',\n",
       "       'concern', 'condens', 'condescend', 'conduct', 'confid',\n",
       "       'confidenti', 'configur', 'confirm', 'conflict', 'connect',\n",
       "       'consid', 'construct', 'contain', 'content', 'context', 'continu',\n",
       "       'continuesli', 'contribut', 'convers', 'coordin', 'core', 'could',\n",
       "       'cours', 'cover', 'craft', 'creat', 'creativ', 'credibl', 'crisi',\n",
       "       'critic', 'crowd', 'crystal', 'cultur', 'current', 'custom',\n",
       "       'daili', 'dashboard', 'data', 'date', 'day', 'debat', 'decis',\n",
       "       'dedic', 'deep', 'definit', 'deliv', 'deliveri', 'demo',\n",
       "       'demonstr', 'depart', 'depend', 'depth', 'design', 'despit',\n",
       "       'detail', 'develop', 'devic', 'dhcp', 'differ', 'difficult',\n",
       "       'difficulti', 'direct', 'disabl', 'disagr', 'discuss', 'dismiss',\n",
       "       'disorgan', 'disrespect', 'distract', 'disturb', 'divers',\n",
       "       'document', 'domain', 'done', 'doubt', 'download', 'drag', 'due',\n",
       "       'durat', 'dynam', 'eand', 'easi', 'easiest', 'easili', 'econom',\n",
       "       'educ', 'effect', 'effici', 'effort', 'elearn', 'els', 'email',\n",
       "       'emot', 'empathi', 'emprov', 'enabl', 'encourag', 'end', 'engag',\n",
       "       'enhanc', 'enjoy', 'enough', 'enrol', 'ensur', 'entertain',\n",
       "       'enthusiasm', 'entir', 'environ', 'equip', 'eslam', 'especi',\n",
       "       'essenti', 'ethic', 'etisalat', 'evalu', 'even', 'event',\n",
       "       'evergth', 'everi', 'everyon', 'everyth', 'evid', 'exampl',\n",
       "       'exceed', 'excel', 'exchang', 'execut', 'exercis', 'exmapl',\n",
       "       'expect', 'expens', 'experi', 'experienc', 'expert', 'expertis',\n",
       "       'explain', 'explan', 'explanat', 'explor', 'extra', 'eye', 'face',\n",
       "       'facil', 'facilit', 'fairli', 'famili', 'fantast', 'far', 'fast',\n",
       "       'faster', 'featur', 'feedback', 'feel', 'felt', 'fiber', 'field',\n",
       "       'fight', 'fill', 'financi', 'find', 'fine', 'first', 'flexibl',\n",
       "       'focu', 'focus', 'follow', 'form', 'format', 'forward', 'found',\n",
       "       'foundat', 'framework', 'friendli', 'fruit', 'fruitful', 'fulfil',\n",
       "       'full', 'fulli', 'fun', 'function', 'futur', 'gain', 'game',\n",
       "       'gave', 'gcp', 'gener', 'geograph', 'get', 'give', 'given', 'glad',\n",
       "       'go', 'goal', 'goid', 'good', 'got', 'gr', 'grade', 'grasp',\n",
       "       'great', 'greet', 'group', 'growth', 'guid', 'guidanc', 'hall',\n",
       "       'hand', 'handl', 'handson', 'happi', 'hard', 'hardwar', 'health',\n",
       "       'hear', 'heard', 'held', 'help', 'helpful', 'helpul', 'hige',\n",
       "       'high', 'higher', 'highli', 'holiday', 'home', 'hood', 'hope',\n",
       "       'hostil', 'hour', 'howev', 'huge', 'hybrid', 'idea', 'ill',\n",
       "       'immedi', 'immens', 'implement', 'import', 'impress', 'improp',\n",
       "       'improv', 'inaccur', 'includ', 'inclus', 'incorpor', 'increas',\n",
       "       'individu', 'industri', 'influenc', 'info', 'inform', 'initi',\n",
       "       'innov', 'input', 'inshallah', 'insight', 'inspir', 'instal',\n",
       "       'instead', 'instructor', 'integr', 'intellig', 'interact',\n",
       "       'interest', 'interperson', 'interst', 'intract', 'intrest',\n",
       "       'intro', 'introduc', 'introduct', 'invest', 'invit', 'involv',\n",
       "       'iptv', 'ipv', 'irrelev', 'isp', 'issu', 'job', 'join', 'journay',\n",
       "       'keep', 'kept', 'kind', 'kindli', 'knack', 'know', 'knowl',\n",
       "       'knowldg', 'knowledg', 'knowleg', 'kudo', 'kumar', 'lab', 'lack',\n",
       "       'laptop', 'latest', 'launch', 'leadership', 'lean', 'learn',\n",
       "       'learnt', 'least', 'leav', 'lengthi', 'less', 'lessen', 'lesson',\n",
       "       'level', 'life', 'like', 'limit', 'linguist', 'littl', 'live',\n",
       "       'locat', 'long', 'longer', 'look', 'lost', 'lot', 'love', 'low',\n",
       "       'made', 'mahra', 'maintain', 'majorti', 'make', 'manag',\n",
       "       'mandatori', 'mani', 'marawan', 'mariam', 'market', 'marwan',\n",
       "       'materi', 'matter', 'may', 'mean', 'measur', 'media', 'meet',\n",
       "       'mental', 'mention', 'mentorship', 'met', 'method', 'microsoft',\n",
       "       'might', 'migrat', 'mind', 'minut', 'miss', 'misunderstand',\n",
       "       'modal', 'mode', 'moham', 'money', 'monoton', 'monthli', 'morn',\n",
       "       'motiv', 'move', 'movement', 'mr', 'ms', 'msd', 'much', 'muhamad',\n",
       "       'muhammad', 'multipl', 'must', 'na', 'near', 'neat', 'need',\n",
       "       'needmor', 'negoti', 'network', 'new', 'next', 'nft', 'nice',\n",
       "       'nil', 'nill', 'nl', 'noisi', 'non', 'none', 'noth', 'null',\n",
       "       'number', 'object', 'offic', 'ok', 'okay', 'oke', 'omar', 'one',\n",
       "       'onlin', 'ont', 'open', 'opportun', 'optic', 'option', 'organ',\n",
       "       'organis', 'organiz', 'orient', 'other', 'outcom', 'outdat',\n",
       "       'outsid', 'outstand', 'ovar', 'overal', 'overcom', 'overpr',\n",
       "       'oversight', 'overwhelm', 'pace', 'pacienc', 'packet', 'pad',\n",
       "       'page', 'paint', 'part', 'particip', 'patient', 'pc', 'peer',\n",
       "       'peopl', 'percentag', 'perfect', 'perfectli', 'perform', 'person',\n",
       "       'perspect', 'phone', 'physic', 'plan', 'platform', 'play', 'pleas',\n",
       "       'point', 'polit', 'poorli', 'port', 'posit', 'possibl', 'power',\n",
       "       'powerbi', 'ppt', 'practic', 'practis', 'pre', 'precis', 'prefect',\n",
       "       'prefer', 'prepar', 'presenc', 'present', 'prior', 'privaci',\n",
       "       'privileg', 'problem', 'proceed', 'process', 'profession',\n",
       "       'program', 'progress', 'project', 'promot', 'proper', 'properli',\n",
       "       'protocol', 'prove', 'provid', 'python', 'qliksens', 'qualif',\n",
       "       'qualiti', 'question', 'quit', 'quizz', 'rais', 'ran', 'rapid',\n",
       "       'rate', 'rather', 'read', 'real', 'realist', 'realli', 'recal',\n",
       "       'receiv', 'recommend', 'record', 'reduc', 'refer', 'reflect',\n",
       "       'regard', 'regist', 'regulatori', 'relat', 'relationship', 'relev',\n",
       "       'remot', 'repeat', 'repetit', 'report', 'request', 'requir',\n",
       "       'requisit', 'research', 'resili', 'resolut', 'resolv', 'resourc',\n",
       "       'respect', 'respons', 'rest', 'return', 'review', 'richer', 'risk',\n",
       "       'robot', 'role', 'room', 'rout', 'router', 'rpa', 'rude', 'run',\n",
       "       'rush', 'sad', 'sale', 'satisfact', 'satisfi', 'saturday', 'say',\n",
       "       'scenario', 'schedul', 'scienc', 'sd', 'season', 'second',\n",
       "       'section', 'sector', 'secur', 'see', 'seed', 'seek', 'seem',\n",
       "       'segment', 'self', 'send', 'sensit', 'separ', 'sequenc', 'servic',\n",
       "       'session', 'shall', 'share', 'shift', 'short', 'show', 'side',\n",
       "       'signal', 'sijin', 'similar', 'simpl', 'simul', 'sinc', 'sir',\n",
       "       'situat', 'skill', 'skip', 'slide', 'slow', 'smart', 'social',\n",
       "       'soft', 'softwar', 'solv', 'someth', 'somewhat', 'special',\n",
       "       'specif', 'spend', 'split', 'sql', 'ssession', 'st', 'staff',\n",
       "       'stakehold', 'start', 'stay', 'step', 'still', 'stori', 'strateg',\n",
       "       'strategi', 'stress', 'strong', 'structur', 'studi', 'stuff',\n",
       "       'style', 'subject', 'suffici', 'sufficien', 'suggest', 'suit',\n",
       "       'suitabl', 'sunday', 'superb', 'supervis', 'support',\n",
       "       'supportedbi', 'sure', 'suresh', 'sw', 'system', 'tableau',\n",
       "       'tailor', 'take', 'talk', 'task', 'taught', 'teach', 'teacher',\n",
       "       'team', 'teamwork', 'tech', 'technic', 'technician', 'techniqu',\n",
       "       'technolog', 'telegram', 'tell', 'term', 'thank', 'thannk',\n",
       "       'theoret', 'theori', 'thing', 'think', 'thnx', 'thoroughli',\n",
       "       'thorouli', 'thought', 'throat', 'throwback', 'time', 'timei',\n",
       "       'tip', 'tissi', 'today', 'togeth', 'took', 'tool', 'topic',\n",
       "       'tought', 'toward', 'tra', 'tracer', 'track', 'train', 'traine',\n",
       "       'trainer', 'trainig', 'trainner', 'trainor', 'tran', 'trane',\n",
       "       'tranis', 'transfer', 'transform', 'transpar', 'trend', 'tri',\n",
       "       'trine', 'troubleshoot', 'tutor', 'two', 'type', 'uipath',\n",
       "       'unapproach', 'unclear', 'uncomfort', 'underatand', 'understand',\n",
       "       'understood', 'unengag', 'unenthusiast', 'uniqu', 'unmut',\n",
       "       'unnecessarili', 'unprepar', 'unprofession', 'unrespons',\n",
       "       'unwelcom', 'urgent', 'us', 'use', 'useful', 'usual', 'utilis',\n",
       "       'valu', 'valuabl', 'varieti', 'vast', 'vb', 'veari', 'venu', 'ver',\n",
       "       'vers', 'vert', 'video', 'view', 'visibl', 'visual', 'voic',\n",
       "       'wait', 'want', 'wast', 'way', 'weak', 'wealth', 'weekend',\n",
       "       'welcom', 'well', 'whenev', 'whiteboard', 'will', 'wish', 'within',\n",
       "       'wonder', 'work', 'workshop', 'world', 'worth', 'worthi', 'would',\n",
       "       'write', 'ye', 'yor', 'yr'], dtype=object)"
      ]
     },
     "execution_count": 67,
     "metadata": {},
     "output_type": "execute_result"
    }
   ],
   "source": [
    "tfidf.get_feature_names_out()"
   ]
  },
  {
   "cell_type": "code",
   "execution_count": 68,
   "id": "0732e62e",
   "metadata": {},
   "outputs": [
    {
     "data": {
      "text/plain": [
       "array([[0., 0., 0., ..., 0., 0., 0.],\n",
       "       [0., 0., 0., ..., 0., 0., 0.],\n",
       "       [0., 0., 0., ..., 0., 0., 0.],\n",
       "       ...,\n",
       "       [0., 0., 0., ..., 0., 0., 0.],\n",
       "       [0., 0., 0., ..., 0., 0., 0.],\n",
       "       [0., 0., 0., ..., 0., 0., 0.]])"
      ]
     },
     "execution_count": 68,
     "metadata": {},
     "output_type": "execute_result"
    }
   ],
   "source": [
    "tfidf_text_pstem.toarray()"
   ]
  },
  {
   "cell_type": "code",
   "execution_count": 69,
   "id": "8e943f11",
   "metadata": {},
   "outputs": [
    {
     "data": {
      "text/html": [
       "<div>\n",
       "<style scoped>\n",
       "    .dataframe tbody tr th:only-of-type {\n",
       "        vertical-align: middle;\n",
       "    }\n",
       "\n",
       "    .dataframe tbody tr th {\n",
       "        vertical-align: top;\n",
       "    }\n",
       "\n",
       "    .dataframe thead th {\n",
       "        text-align: right;\n",
       "    }\n",
       "</style>\n",
       "<table border=\"1\" class=\"dataframe\">\n",
       "  <thead>\n",
       "    <tr style=\"text-align: right;\">\n",
       "      <th></th>\n",
       "      <th>abba</th>\n",
       "      <th>abl</th>\n",
       "      <th>absorb</th>\n",
       "      <th>abul</th>\n",
       "      <th>academi</th>\n",
       "      <th>access</th>\n",
       "      <th>accommod</th>\n",
       "      <th>accur</th>\n",
       "      <th>across</th>\n",
       "      <th>activ</th>\n",
       "      <th>...</th>\n",
       "      <th>work</th>\n",
       "      <th>workshop</th>\n",
       "      <th>world</th>\n",
       "      <th>worth</th>\n",
       "      <th>worthi</th>\n",
       "      <th>would</th>\n",
       "      <th>write</th>\n",
       "      <th>ye</th>\n",
       "      <th>yor</th>\n",
       "      <th>yr</th>\n",
       "    </tr>\n",
       "  </thead>\n",
       "  <tbody>\n",
       "    <tr>\n",
       "      <th>0</th>\n",
       "      <td>0.0</td>\n",
       "      <td>0.0</td>\n",
       "      <td>0.0</td>\n",
       "      <td>0.0</td>\n",
       "      <td>0.0</td>\n",
       "      <td>0.0</td>\n",
       "      <td>0.0</td>\n",
       "      <td>0.0</td>\n",
       "      <td>0.0</td>\n",
       "      <td>0.0</td>\n",
       "      <td>...</td>\n",
       "      <td>0.0</td>\n",
       "      <td>0.0</td>\n",
       "      <td>0.0</td>\n",
       "      <td>0.0</td>\n",
       "      <td>0.0</td>\n",
       "      <td>0.000000</td>\n",
       "      <td>0.0</td>\n",
       "      <td>0.0</td>\n",
       "      <td>0.0</td>\n",
       "      <td>0.0</td>\n",
       "    </tr>\n",
       "    <tr>\n",
       "      <th>1</th>\n",
       "      <td>0.0</td>\n",
       "      <td>0.0</td>\n",
       "      <td>0.0</td>\n",
       "      <td>0.0</td>\n",
       "      <td>0.0</td>\n",
       "      <td>0.0</td>\n",
       "      <td>0.0</td>\n",
       "      <td>0.0</td>\n",
       "      <td>0.0</td>\n",
       "      <td>0.0</td>\n",
       "      <td>...</td>\n",
       "      <td>0.0</td>\n",
       "      <td>0.0</td>\n",
       "      <td>0.0</td>\n",
       "      <td>0.0</td>\n",
       "      <td>0.0</td>\n",
       "      <td>0.000000</td>\n",
       "      <td>0.0</td>\n",
       "      <td>0.0</td>\n",
       "      <td>0.0</td>\n",
       "      <td>0.0</td>\n",
       "    </tr>\n",
       "    <tr>\n",
       "      <th>2</th>\n",
       "      <td>0.0</td>\n",
       "      <td>0.0</td>\n",
       "      <td>0.0</td>\n",
       "      <td>0.0</td>\n",
       "      <td>0.0</td>\n",
       "      <td>0.0</td>\n",
       "      <td>0.0</td>\n",
       "      <td>0.0</td>\n",
       "      <td>0.0</td>\n",
       "      <td>0.0</td>\n",
       "      <td>...</td>\n",
       "      <td>0.0</td>\n",
       "      <td>0.0</td>\n",
       "      <td>0.0</td>\n",
       "      <td>0.0</td>\n",
       "      <td>0.0</td>\n",
       "      <td>0.000000</td>\n",
       "      <td>0.0</td>\n",
       "      <td>0.0</td>\n",
       "      <td>0.0</td>\n",
       "      <td>0.0</td>\n",
       "    </tr>\n",
       "    <tr>\n",
       "      <th>3</th>\n",
       "      <td>0.0</td>\n",
       "      <td>0.0</td>\n",
       "      <td>0.0</td>\n",
       "      <td>0.0</td>\n",
       "      <td>0.0</td>\n",
       "      <td>0.0</td>\n",
       "      <td>0.0</td>\n",
       "      <td>0.0</td>\n",
       "      <td>0.0</td>\n",
       "      <td>0.0</td>\n",
       "      <td>...</td>\n",
       "      <td>0.0</td>\n",
       "      <td>0.0</td>\n",
       "      <td>0.0</td>\n",
       "      <td>0.0</td>\n",
       "      <td>0.0</td>\n",
       "      <td>0.000000</td>\n",
       "      <td>0.0</td>\n",
       "      <td>0.0</td>\n",
       "      <td>0.0</td>\n",
       "      <td>0.0</td>\n",
       "    </tr>\n",
       "    <tr>\n",
       "      <th>4</th>\n",
       "      <td>0.0</td>\n",
       "      <td>0.0</td>\n",
       "      <td>0.0</td>\n",
       "      <td>0.0</td>\n",
       "      <td>0.0</td>\n",
       "      <td>0.0</td>\n",
       "      <td>0.0</td>\n",
       "      <td>0.0</td>\n",
       "      <td>0.0</td>\n",
       "      <td>0.0</td>\n",
       "      <td>...</td>\n",
       "      <td>0.0</td>\n",
       "      <td>0.0</td>\n",
       "      <td>0.0</td>\n",
       "      <td>0.0</td>\n",
       "      <td>0.0</td>\n",
       "      <td>0.000000</td>\n",
       "      <td>0.0</td>\n",
       "      <td>0.0</td>\n",
       "      <td>0.0</td>\n",
       "      <td>0.0</td>\n",
       "    </tr>\n",
       "    <tr>\n",
       "      <th>...</th>\n",
       "      <td>...</td>\n",
       "      <td>...</td>\n",
       "      <td>...</td>\n",
       "      <td>...</td>\n",
       "      <td>...</td>\n",
       "      <td>...</td>\n",
       "      <td>...</td>\n",
       "      <td>...</td>\n",
       "      <td>...</td>\n",
       "      <td>...</td>\n",
       "      <td>...</td>\n",
       "      <td>...</td>\n",
       "      <td>...</td>\n",
       "      <td>...</td>\n",
       "      <td>...</td>\n",
       "      <td>...</td>\n",
       "      <td>...</td>\n",
       "      <td>...</td>\n",
       "      <td>...</td>\n",
       "      <td>...</td>\n",
       "      <td>...</td>\n",
       "    </tr>\n",
       "    <tr>\n",
       "      <th>2570</th>\n",
       "      <td>0.0</td>\n",
       "      <td>0.0</td>\n",
       "      <td>0.0</td>\n",
       "      <td>0.0</td>\n",
       "      <td>0.0</td>\n",
       "      <td>0.0</td>\n",
       "      <td>0.0</td>\n",
       "      <td>0.0</td>\n",
       "      <td>0.0</td>\n",
       "      <td>0.0</td>\n",
       "      <td>...</td>\n",
       "      <td>0.0</td>\n",
       "      <td>0.0</td>\n",
       "      <td>0.0</td>\n",
       "      <td>0.0</td>\n",
       "      <td>0.0</td>\n",
       "      <td>0.000000</td>\n",
       "      <td>0.0</td>\n",
       "      <td>0.0</td>\n",
       "      <td>0.0</td>\n",
       "      <td>0.0</td>\n",
       "    </tr>\n",
       "    <tr>\n",
       "      <th>2571</th>\n",
       "      <td>0.0</td>\n",
       "      <td>0.0</td>\n",
       "      <td>0.0</td>\n",
       "      <td>0.0</td>\n",
       "      <td>0.0</td>\n",
       "      <td>0.0</td>\n",
       "      <td>0.0</td>\n",
       "      <td>0.0</td>\n",
       "      <td>0.0</td>\n",
       "      <td>0.0</td>\n",
       "      <td>...</td>\n",
       "      <td>0.0</td>\n",
       "      <td>0.0</td>\n",
       "      <td>0.0</td>\n",
       "      <td>0.0</td>\n",
       "      <td>0.0</td>\n",
       "      <td>0.000000</td>\n",
       "      <td>0.0</td>\n",
       "      <td>0.0</td>\n",
       "      <td>0.0</td>\n",
       "      <td>0.0</td>\n",
       "    </tr>\n",
       "    <tr>\n",
       "      <th>2572</th>\n",
       "      <td>0.0</td>\n",
       "      <td>0.0</td>\n",
       "      <td>0.0</td>\n",
       "      <td>0.0</td>\n",
       "      <td>0.0</td>\n",
       "      <td>0.0</td>\n",
       "      <td>0.0</td>\n",
       "      <td>0.0</td>\n",
       "      <td>0.0</td>\n",
       "      <td>0.0</td>\n",
       "      <td>...</td>\n",
       "      <td>0.0</td>\n",
       "      <td>0.0</td>\n",
       "      <td>0.0</td>\n",
       "      <td>0.0</td>\n",
       "      <td>0.0</td>\n",
       "      <td>0.000000</td>\n",
       "      <td>0.0</td>\n",
       "      <td>0.0</td>\n",
       "      <td>0.0</td>\n",
       "      <td>0.0</td>\n",
       "    </tr>\n",
       "    <tr>\n",
       "      <th>2573</th>\n",
       "      <td>0.0</td>\n",
       "      <td>0.0</td>\n",
       "      <td>0.0</td>\n",
       "      <td>0.0</td>\n",
       "      <td>0.0</td>\n",
       "      <td>0.0</td>\n",
       "      <td>0.0</td>\n",
       "      <td>0.0</td>\n",
       "      <td>0.0</td>\n",
       "      <td>0.0</td>\n",
       "      <td>...</td>\n",
       "      <td>0.0</td>\n",
       "      <td>0.0</td>\n",
       "      <td>0.0</td>\n",
       "      <td>0.0</td>\n",
       "      <td>0.0</td>\n",
       "      <td>0.298453</td>\n",
       "      <td>0.0</td>\n",
       "      <td>0.0</td>\n",
       "      <td>0.0</td>\n",
       "      <td>0.0</td>\n",
       "    </tr>\n",
       "    <tr>\n",
       "      <th>2574</th>\n",
       "      <td>0.0</td>\n",
       "      <td>0.0</td>\n",
       "      <td>0.0</td>\n",
       "      <td>0.0</td>\n",
       "      <td>0.0</td>\n",
       "      <td>0.0</td>\n",
       "      <td>0.0</td>\n",
       "      <td>0.0</td>\n",
       "      <td>0.0</td>\n",
       "      <td>0.0</td>\n",
       "      <td>...</td>\n",
       "      <td>0.0</td>\n",
       "      <td>0.0</td>\n",
       "      <td>0.0</td>\n",
       "      <td>0.0</td>\n",
       "      <td>0.0</td>\n",
       "      <td>0.340415</td>\n",
       "      <td>0.0</td>\n",
       "      <td>0.0</td>\n",
       "      <td>0.0</td>\n",
       "      <td>0.0</td>\n",
       "    </tr>\n",
       "  </tbody>\n",
       "</table>\n",
       "<p>2575 rows × 890 columns</p>\n",
       "</div>"
      ],
      "text/plain": [
       "      abba  abl  absorb  abul  academi  access  accommod  accur  across  \\\n",
       "0      0.0  0.0     0.0   0.0      0.0     0.0       0.0    0.0     0.0   \n",
       "1      0.0  0.0     0.0   0.0      0.0     0.0       0.0    0.0     0.0   \n",
       "2      0.0  0.0     0.0   0.0      0.0     0.0       0.0    0.0     0.0   \n",
       "3      0.0  0.0     0.0   0.0      0.0     0.0       0.0    0.0     0.0   \n",
       "4      0.0  0.0     0.0   0.0      0.0     0.0       0.0    0.0     0.0   \n",
       "...    ...  ...     ...   ...      ...     ...       ...    ...     ...   \n",
       "2570   0.0  0.0     0.0   0.0      0.0     0.0       0.0    0.0     0.0   \n",
       "2571   0.0  0.0     0.0   0.0      0.0     0.0       0.0    0.0     0.0   \n",
       "2572   0.0  0.0     0.0   0.0      0.0     0.0       0.0    0.0     0.0   \n",
       "2573   0.0  0.0     0.0   0.0      0.0     0.0       0.0    0.0     0.0   \n",
       "2574   0.0  0.0     0.0   0.0      0.0     0.0       0.0    0.0     0.0   \n",
       "\n",
       "      activ  ...  work  workshop  world  worth  worthi     would  write   ye  \\\n",
       "0       0.0  ...   0.0       0.0    0.0    0.0     0.0  0.000000    0.0  0.0   \n",
       "1       0.0  ...   0.0       0.0    0.0    0.0     0.0  0.000000    0.0  0.0   \n",
       "2       0.0  ...   0.0       0.0    0.0    0.0     0.0  0.000000    0.0  0.0   \n",
       "3       0.0  ...   0.0       0.0    0.0    0.0     0.0  0.000000    0.0  0.0   \n",
       "4       0.0  ...   0.0       0.0    0.0    0.0     0.0  0.000000    0.0  0.0   \n",
       "...     ...  ...   ...       ...    ...    ...     ...       ...    ...  ...   \n",
       "2570    0.0  ...   0.0       0.0    0.0    0.0     0.0  0.000000    0.0  0.0   \n",
       "2571    0.0  ...   0.0       0.0    0.0    0.0     0.0  0.000000    0.0  0.0   \n",
       "2572    0.0  ...   0.0       0.0    0.0    0.0     0.0  0.000000    0.0  0.0   \n",
       "2573    0.0  ...   0.0       0.0    0.0    0.0     0.0  0.298453    0.0  0.0   \n",
       "2574    0.0  ...   0.0       0.0    0.0    0.0     0.0  0.340415    0.0  0.0   \n",
       "\n",
       "      yor   yr  \n",
       "0     0.0  0.0  \n",
       "1     0.0  0.0  \n",
       "2     0.0  0.0  \n",
       "3     0.0  0.0  \n",
       "4     0.0  0.0  \n",
       "...   ...  ...  \n",
       "2570  0.0  0.0  \n",
       "2571  0.0  0.0  \n",
       "2572  0.0  0.0  \n",
       "2573  0.0  0.0  \n",
       "2574  0.0  0.0  \n",
       "\n",
       "[2575 rows x 890 columns]"
      ]
     },
     "execution_count": 69,
     "metadata": {},
     "output_type": "execute_result"
    }
   ],
   "source": [
    "df_tfidf_pstem = pd.DataFrame(tfidf_text_pstem.toarray(), columns=tfidf.get_feature_names_out())\n",
    "df_tfidf_pstem"
   ]
  },
  {
   "cell_type": "markdown",
   "id": "7b68a012",
   "metadata": {},
   "source": [
    "## Splitting Data"
   ]
  },
  {
   "cell_type": "code",
   "execution_count": 70,
   "id": "aee3e92d",
   "metadata": {},
   "outputs": [],
   "source": [
    "xtrain, xtest, ytrain, ytest = train_test_split(df_tfidf_pstem,df_Lstem['target_enc'], random_state=1,\n",
    "                                                test_size=0.1)\n"
   ]
  },
  {
   "cell_type": "code",
   "execution_count": 71,
   "id": "c78ccc22",
   "metadata": {},
   "outputs": [
    {
     "name": "stdout",
     "output_type": "stream",
     "text": [
      "x_train shape is > (2317, 890)\n",
      "y_train shape is > (2317,)\n",
      "x_test shape is > (258, 890)\n",
      "y_test shape is > (258,)\n"
     ]
    }
   ],
   "source": [
    "print(f\"x_train shape is > {xtrain.shape}\")\n",
    "print(f\"y_train shape is > {ytrain.shape}\")\n",
    "print(f\"x_test shape is > {xtest.shape}\")\n",
    "print(f\"y_test shape is > {ytest.shape}\")"
   ]
  },
  {
   "cell_type": "markdown",
   "id": "26ed9720",
   "metadata": {},
   "source": [
    "## Model:"
   ]
  },
  {
   "cell_type": "markdown",
   "id": "875d6b21",
   "metadata": {},
   "source": [
    "##  1 - Naiev Bais"
   ]
  },
  {
   "cell_type": "code",
   "execution_count": 72,
   "id": "b7823984",
   "metadata": {},
   "outputs": [],
   "source": [
    "nb = MultinomialNB()\n",
    "nb.fit(xtrain, ytrain)\n",
    "nb_ypred = nb.predict(xtest)"
   ]
  },
  {
   "cell_type": "code",
   "execution_count": 73,
   "id": "57c40e5d",
   "metadata": {},
   "outputs": [
    {
     "data": {
      "text/plain": [
       "0.8372093023255814"
      ]
     },
     "execution_count": 73,
     "metadata": {},
     "output_type": "execute_result"
    }
   ],
   "source": [
    "accuracy_score(ytest,nb_ypred)"
   ]
  },
  {
   "cell_type": "code",
   "execution_count": 74,
   "id": "392b21e8",
   "metadata": {},
   "outputs": [
    {
     "data": {
      "text/plain": [
       "array([[64,  1,  4],\n",
       "       [ 2, 53, 31],\n",
       "       [ 0,  4, 99]], dtype=int64)"
      ]
     },
     "execution_count": 74,
     "metadata": {},
     "output_type": "execute_result"
    }
   ],
   "source": [
    "confusion_matrix(ytest, nb_ypred)"
   ]
  },
  {
   "cell_type": "code",
   "execution_count": 75,
   "id": "cc782cc4",
   "metadata": {},
   "outputs": [
    {
     "name": "stdout",
     "output_type": "stream",
     "text": [
      "              precision    recall  f1-score   support\n",
      "\n",
      "           0       0.97      0.93      0.95        69\n",
      "           1       0.91      0.62      0.74        86\n",
      "           2       0.74      0.96      0.84       103\n",
      "\n",
      "    accuracy                           0.84       258\n",
      "   macro avg       0.87      0.83      0.84       258\n",
      "weighted avg       0.86      0.84      0.83       258\n",
      "\n"
     ]
    }
   ],
   "source": [
    "print(classification_report(ytest,nb_ypred))"
   ]
  },
  {
   "cell_type": "markdown",
   "id": "9439db78",
   "metadata": {},
   "source": [
    "## 2 - Logistic regression"
   ]
  },
  {
   "cell_type": "code",
   "execution_count": 76,
   "id": "545a93de",
   "metadata": {},
   "outputs": [],
   "source": [
    "lr = LogisticRegression()\n",
    "lr.fit(xtrain, ytrain)\n",
    "lr_ypred = lr.predict(xtest)"
   ]
  },
  {
   "cell_type": "code",
   "execution_count": 77,
   "id": "25ec9da8",
   "metadata": {},
   "outputs": [
    {
     "data": {
      "text/plain": [
       "0.9147286821705426"
      ]
     },
     "execution_count": 77,
     "metadata": {},
     "output_type": "execute_result"
    }
   ],
   "source": [
    "accuracy_score(ytest,lr_ypred)"
   ]
  },
  {
   "cell_type": "code",
   "execution_count": 78,
   "id": "2758b23c",
   "metadata": {},
   "outputs": [
    {
     "data": {
      "text/plain": [
       "array([[65,  3,  1],\n",
       "       [ 2, 77,  7],\n",
       "       [ 1,  8, 94]], dtype=int64)"
      ]
     },
     "execution_count": 78,
     "metadata": {},
     "output_type": "execute_result"
    }
   ],
   "source": [
    "confusion_matrix(ytest,lr_ypred)"
   ]
  },
  {
   "cell_type": "code",
   "execution_count": 79,
   "id": "74c8d4a7",
   "metadata": {},
   "outputs": [
    {
     "name": "stdout",
     "output_type": "stream",
     "text": [
      "              precision    recall  f1-score   support\n",
      "\n",
      "           0       0.96      0.94      0.95        69\n",
      "           1       0.88      0.90      0.89        86\n",
      "           2       0.92      0.91      0.92       103\n",
      "\n",
      "    accuracy                           0.91       258\n",
      "   macro avg       0.92      0.92      0.92       258\n",
      "weighted avg       0.92      0.91      0.91       258\n",
      "\n"
     ]
    }
   ],
   "source": [
    "print(classification_report(ytest,lr_ypred))"
   ]
  },
  {
   "cell_type": "markdown",
   "id": "d213efad",
   "metadata": {},
   "source": [
    "## 3 - Decision Tree"
   ]
  },
  {
   "cell_type": "code",
   "execution_count": 80,
   "id": "15f5bea7",
   "metadata": {},
   "outputs": [],
   "source": [
    "dt = DecisionTreeClassifier()\n",
    "dt.fit(xtrain, ytrain)\n",
    "dt_ypred = lr.predict(xtest)"
   ]
  },
  {
   "cell_type": "code",
   "execution_count": 81,
   "id": "f6cedbff",
   "metadata": {},
   "outputs": [
    {
     "data": {
      "text/plain": [
       "0.9147286821705426"
      ]
     },
     "execution_count": 81,
     "metadata": {},
     "output_type": "execute_result"
    }
   ],
   "source": [
    "accuracy_score(ytest,dt_ypred)"
   ]
  },
  {
   "cell_type": "code",
   "execution_count": 82,
   "id": "396010fb",
   "metadata": {},
   "outputs": [
    {
     "data": {
      "text/plain": [
       "array([[65,  3,  1],\n",
       "       [ 2, 77,  7],\n",
       "       [ 1,  8, 94]], dtype=int64)"
      ]
     },
     "execution_count": 82,
     "metadata": {},
     "output_type": "execute_result"
    }
   ],
   "source": [
    "confusion_matrix(ytest,dt_ypred)"
   ]
  },
  {
   "cell_type": "code",
   "execution_count": 83,
   "id": "b3b663be",
   "metadata": {},
   "outputs": [
    {
     "name": "stdout",
     "output_type": "stream",
     "text": [
      "              precision    recall  f1-score   support\n",
      "\n",
      "           0       0.96      0.94      0.95        69\n",
      "           1       0.88      0.90      0.89        86\n",
      "           2       0.92      0.91      0.92       103\n",
      "\n",
      "    accuracy                           0.91       258\n",
      "   macro avg       0.92      0.92      0.92       258\n",
      "weighted avg       0.92      0.91      0.91       258\n",
      "\n"
     ]
    }
   ],
   "source": [
    "print(classification_report(ytest,dt_ypred))"
   ]
  },
  {
   "cell_type": "markdown",
   "id": "166c0db9",
   "metadata": {},
   "source": [
    "## 4- KNN"
   ]
  },
  {
   "cell_type": "code",
   "execution_count": 84,
   "id": "56d45798",
   "metadata": {},
   "outputs": [],
   "source": [
    "knn = KNeighborsClassifier(n_neighbors=7)\n",
    "knn.fit(xtrain, ytrain)\n",
    "knn_ypred = knn.predict(xtest)"
   ]
  },
  {
   "cell_type": "code",
   "execution_count": 85,
   "id": "1d08285f",
   "metadata": {
    "scrolled": true
   },
   "outputs": [
    {
     "data": {
      "text/plain": [
       "0.7945736434108527"
      ]
     },
     "execution_count": 85,
     "metadata": {},
     "output_type": "execute_result"
    }
   ],
   "source": [
    "accuracy_score(ytest,knn_ypred)"
   ]
  },
  {
   "cell_type": "code",
   "execution_count": 86,
   "id": "f182358e",
   "metadata": {},
   "outputs": [
    {
     "data": {
      "text/plain": [
       "array([[48, 20,  1],\n",
       "       [ 1, 79,  6],\n",
       "       [ 0, 25, 78]], dtype=int64)"
      ]
     },
     "execution_count": 86,
     "metadata": {},
     "output_type": "execute_result"
    }
   ],
   "source": [
    "confusion_matrix(ytest,knn_ypred)"
   ]
  },
  {
   "cell_type": "code",
   "execution_count": 87,
   "id": "8a452724",
   "metadata": {},
   "outputs": [
    {
     "name": "stdout",
     "output_type": "stream",
     "text": [
      "              precision    recall  f1-score   support\n",
      "\n",
      "           0       0.98      0.70      0.81        69\n",
      "           1       0.64      0.92      0.75        86\n",
      "           2       0.92      0.76      0.83       103\n",
      "\n",
      "    accuracy                           0.79       258\n",
      "   macro avg       0.84      0.79      0.80       258\n",
      "weighted avg       0.84      0.79      0.80       258\n",
      "\n"
     ]
    }
   ],
   "source": [
    "print(classification_report(ytest, knn_ypred))"
   ]
  },
  {
   "cell_type": "markdown",
   "id": "4b41645b",
   "metadata": {},
   "source": [
    "# ------------------------------------------------------------------------------"
   ]
  },
  {
   "cell_type": "markdown",
   "id": "0da419da",
   "metadata": {},
   "source": [
    "# ------------------------------------------------------------------------------"
   ]
  },
  {
   "cell_type": "markdown",
   "id": "d56dd2c0",
   "metadata": {},
   "source": [
    "# <font color='orange'> 3- WordNetLemmatizer Data</font>"
   ]
  },
  {
   "cell_type": "code",
   "execution_count": 88,
   "id": "b6824002",
   "metadata": {},
   "outputs": [
    {
     "data": {
      "text/html": [
       "<div>\n",
       "<style scoped>\n",
       "    .dataframe tbody tr th:only-of-type {\n",
       "        vertical-align: middle;\n",
       "    }\n",
       "\n",
       "    .dataframe tbody tr th {\n",
       "        vertical-align: top;\n",
       "    }\n",
       "\n",
       "    .dataframe thead th {\n",
       "        text-align: right;\n",
       "    }\n",
       "</style>\n",
       "<table border=\"1\" class=\"dataframe\">\n",
       "  <thead>\n",
       "    <tr style=\"text-align: right;\">\n",
       "      <th></th>\n",
       "      <th>lem</th>\n",
       "      <th>target_enc</th>\n",
       "    </tr>\n",
       "  </thead>\n",
       "  <tbody>\n",
       "    <tr>\n",
       "      <th>0</th>\n",
       "      <td>[learned, lot, training]</td>\n",
       "      <td>2</td>\n",
       "    </tr>\n",
       "    <tr>\n",
       "      <th>1</th>\n",
       "      <td>[none]</td>\n",
       "      <td>1</td>\n",
       "    </tr>\n",
       "    <tr>\n",
       "      <th>2</th>\n",
       "      <td>[excellent, course]</td>\n",
       "      <td>2</td>\n",
       "    </tr>\n",
       "    <tr>\n",
       "      <th>3</th>\n",
       "      <td>[good]</td>\n",
       "      <td>1</td>\n",
       "    </tr>\n",
       "    <tr>\n",
       "      <th>4</th>\n",
       "      <td>[good, session]</td>\n",
       "      <td>2</td>\n",
       "    </tr>\n",
       "    <tr>\n",
       "      <th>...</th>\n",
       "      <td>...</td>\n",
       "      <td>...</td>\n",
       "    </tr>\n",
       "    <tr>\n",
       "      <th>2570</th>\n",
       "      <td>[uipath, traning]</td>\n",
       "      <td>1</td>\n",
       "    </tr>\n",
       "    <tr>\n",
       "      <th>2571</th>\n",
       "      <td>[video, medium, use]</td>\n",
       "      <td>1</td>\n",
       "    </tr>\n",
       "    <tr>\n",
       "      <th>2572</th>\n",
       "      <td>[need, like, training, one]</td>\n",
       "      <td>1</td>\n",
       "    </tr>\n",
       "    <tr>\n",
       "      <th>2573</th>\n",
       "      <td>[focused, would, platform, nice, physical, tra...</td>\n",
       "      <td>1</td>\n",
       "    </tr>\n",
       "    <tr>\n",
       "      <th>2574</th>\n",
       "      <td>[presence, would, physical, prefer]</td>\n",
       "      <td>1</td>\n",
       "    </tr>\n",
       "  </tbody>\n",
       "</table>\n",
       "<p>2575 rows × 2 columns</p>\n",
       "</div>"
      ],
      "text/plain": [
       "                                                    lem  target_enc\n",
       "0                              [learned, lot, training]           2\n",
       "1                                                [none]           1\n",
       "2                                   [excellent, course]           2\n",
       "3                                                [good]           1\n",
       "4                                       [good, session]           2\n",
       "...                                                 ...         ...\n",
       "2570                                  [uipath, traning]           1\n",
       "2571                               [video, medium, use]           1\n",
       "2572                        [need, like, training, one]           1\n",
       "2573  [focused, would, platform, nice, physical, tra...           1\n",
       "2574                [presence, would, physical, prefer]           1\n",
       "\n",
       "[2575 rows x 2 columns]"
      ]
     },
     "execution_count": 88,
     "metadata": {},
     "output_type": "execute_result"
    }
   ],
   "source": [
    "df_lem = data[['lem', 'target_enc']]\n",
    "df_lem"
   ]
  },
  {
   "cell_type": "code",
   "execution_count": 89,
   "id": "b376b3ae",
   "metadata": {},
   "outputs": [],
   "source": [
    "text_lem = [\" \".join(i) for i in list(df_lem['lem'])]"
   ]
  },
  {
   "cell_type": "code",
   "execution_count": 90,
   "id": "4a86dbdf",
   "metadata": {},
   "outputs": [
    {
     "data": {
      "text/plain": [
       "2575"
      ]
     },
     "execution_count": 90,
     "metadata": {},
     "output_type": "execute_result"
    }
   ],
   "source": [
    "len(text_lem)"
   ]
  },
  {
   "cell_type": "code",
   "execution_count": 91,
   "id": "3a001aa7",
   "metadata": {},
   "outputs": [],
   "source": [
    "tfidf_text_lem = tfidf.fit_transform(text_lem)"
   ]
  },
  {
   "cell_type": "code",
   "execution_count": 92,
   "id": "aed76395",
   "metadata": {
    "scrolled": true
   },
   "outputs": [
    {
     "data": {
      "text/plain": [
       "array(['abbas', 'able', 'absorb', ..., 'yes', 'yor', 'yr'], dtype=object)"
      ]
     },
     "execution_count": 92,
     "metadata": {},
     "output_type": "execute_result"
    }
   ],
   "source": [
    "tfidf.get_feature_names_out()"
   ]
  },
  {
   "cell_type": "code",
   "execution_count": 93,
   "id": "c1e31023",
   "metadata": {},
   "outputs": [
    {
     "data": {
      "text/plain": [
       "array([[0., 0., 0., ..., 0., 0., 0.],\n",
       "       [0., 0., 0., ..., 0., 0., 0.],\n",
       "       [0., 0., 0., ..., 0., 0., 0.],\n",
       "       ...,\n",
       "       [0., 0., 0., ..., 0., 0., 0.],\n",
       "       [0., 0., 0., ..., 0., 0., 0.],\n",
       "       [0., 0., 0., ..., 0., 0., 0.]])"
      ]
     },
     "execution_count": 93,
     "metadata": {},
     "output_type": "execute_result"
    }
   ],
   "source": [
    "tfidf_text_lem.toarray()"
   ]
  },
  {
   "cell_type": "code",
   "execution_count": 94,
   "id": "c5d861bf",
   "metadata": {},
   "outputs": [
    {
     "data": {
      "text/html": [
       "<div>\n",
       "<style scoped>\n",
       "    .dataframe tbody tr th:only-of-type {\n",
       "        vertical-align: middle;\n",
       "    }\n",
       "\n",
       "    .dataframe tbody tr th {\n",
       "        vertical-align: top;\n",
       "    }\n",
       "\n",
       "    .dataframe thead th {\n",
       "        text-align: right;\n",
       "    }\n",
       "</style>\n",
       "<table border=\"1\" class=\"dataframe\">\n",
       "  <thead>\n",
       "    <tr style=\"text-align: right;\">\n",
       "      <th></th>\n",
       "      <th>abbas</th>\n",
       "      <th>able</th>\n",
       "      <th>absorb</th>\n",
       "      <th>abul</th>\n",
       "      <th>academy</th>\n",
       "      <th>access</th>\n",
       "      <th>accommodate</th>\n",
       "      <th>accommodating</th>\n",
       "      <th>accuring</th>\n",
       "      <th>across</th>\n",
       "      <th>...</th>\n",
       "      <th>world</th>\n",
       "      <th>worth</th>\n",
       "      <th>worthy</th>\n",
       "      <th>would</th>\n",
       "      <th>write</th>\n",
       "      <th>writing</th>\n",
       "      <th>ye</th>\n",
       "      <th>yes</th>\n",
       "      <th>yor</th>\n",
       "      <th>yr</th>\n",
       "    </tr>\n",
       "  </thead>\n",
       "  <tbody>\n",
       "    <tr>\n",
       "      <th>0</th>\n",
       "      <td>0.0</td>\n",
       "      <td>0.0</td>\n",
       "      <td>0.0</td>\n",
       "      <td>0.0</td>\n",
       "      <td>0.0</td>\n",
       "      <td>0.0</td>\n",
       "      <td>0.0</td>\n",
       "      <td>0.0</td>\n",
       "      <td>0.0</td>\n",
       "      <td>0.0</td>\n",
       "      <td>...</td>\n",
       "      <td>0.0</td>\n",
       "      <td>0.0</td>\n",
       "      <td>0.0</td>\n",
       "      <td>0.000000</td>\n",
       "      <td>0.0</td>\n",
       "      <td>0.0</td>\n",
       "      <td>0.0</td>\n",
       "      <td>0.0</td>\n",
       "      <td>0.0</td>\n",
       "      <td>0.0</td>\n",
       "    </tr>\n",
       "    <tr>\n",
       "      <th>1</th>\n",
       "      <td>0.0</td>\n",
       "      <td>0.0</td>\n",
       "      <td>0.0</td>\n",
       "      <td>0.0</td>\n",
       "      <td>0.0</td>\n",
       "      <td>0.0</td>\n",
       "      <td>0.0</td>\n",
       "      <td>0.0</td>\n",
       "      <td>0.0</td>\n",
       "      <td>0.0</td>\n",
       "      <td>...</td>\n",
       "      <td>0.0</td>\n",
       "      <td>0.0</td>\n",
       "      <td>0.0</td>\n",
       "      <td>0.000000</td>\n",
       "      <td>0.0</td>\n",
       "      <td>0.0</td>\n",
       "      <td>0.0</td>\n",
       "      <td>0.0</td>\n",
       "      <td>0.0</td>\n",
       "      <td>0.0</td>\n",
       "    </tr>\n",
       "    <tr>\n",
       "      <th>2</th>\n",
       "      <td>0.0</td>\n",
       "      <td>0.0</td>\n",
       "      <td>0.0</td>\n",
       "      <td>0.0</td>\n",
       "      <td>0.0</td>\n",
       "      <td>0.0</td>\n",
       "      <td>0.0</td>\n",
       "      <td>0.0</td>\n",
       "      <td>0.0</td>\n",
       "      <td>0.0</td>\n",
       "      <td>...</td>\n",
       "      <td>0.0</td>\n",
       "      <td>0.0</td>\n",
       "      <td>0.0</td>\n",
       "      <td>0.000000</td>\n",
       "      <td>0.0</td>\n",
       "      <td>0.0</td>\n",
       "      <td>0.0</td>\n",
       "      <td>0.0</td>\n",
       "      <td>0.0</td>\n",
       "      <td>0.0</td>\n",
       "    </tr>\n",
       "    <tr>\n",
       "      <th>3</th>\n",
       "      <td>0.0</td>\n",
       "      <td>0.0</td>\n",
       "      <td>0.0</td>\n",
       "      <td>0.0</td>\n",
       "      <td>0.0</td>\n",
       "      <td>0.0</td>\n",
       "      <td>0.0</td>\n",
       "      <td>0.0</td>\n",
       "      <td>0.0</td>\n",
       "      <td>0.0</td>\n",
       "      <td>...</td>\n",
       "      <td>0.0</td>\n",
       "      <td>0.0</td>\n",
       "      <td>0.0</td>\n",
       "      <td>0.000000</td>\n",
       "      <td>0.0</td>\n",
       "      <td>0.0</td>\n",
       "      <td>0.0</td>\n",
       "      <td>0.0</td>\n",
       "      <td>0.0</td>\n",
       "      <td>0.0</td>\n",
       "    </tr>\n",
       "    <tr>\n",
       "      <th>4</th>\n",
       "      <td>0.0</td>\n",
       "      <td>0.0</td>\n",
       "      <td>0.0</td>\n",
       "      <td>0.0</td>\n",
       "      <td>0.0</td>\n",
       "      <td>0.0</td>\n",
       "      <td>0.0</td>\n",
       "      <td>0.0</td>\n",
       "      <td>0.0</td>\n",
       "      <td>0.0</td>\n",
       "      <td>...</td>\n",
       "      <td>0.0</td>\n",
       "      <td>0.0</td>\n",
       "      <td>0.0</td>\n",
       "      <td>0.000000</td>\n",
       "      <td>0.0</td>\n",
       "      <td>0.0</td>\n",
       "      <td>0.0</td>\n",
       "      <td>0.0</td>\n",
       "      <td>0.0</td>\n",
       "      <td>0.0</td>\n",
       "    </tr>\n",
       "    <tr>\n",
       "      <th>...</th>\n",
       "      <td>...</td>\n",
       "      <td>...</td>\n",
       "      <td>...</td>\n",
       "      <td>...</td>\n",
       "      <td>...</td>\n",
       "      <td>...</td>\n",
       "      <td>...</td>\n",
       "      <td>...</td>\n",
       "      <td>...</td>\n",
       "      <td>...</td>\n",
       "      <td>...</td>\n",
       "      <td>...</td>\n",
       "      <td>...</td>\n",
       "      <td>...</td>\n",
       "      <td>...</td>\n",
       "      <td>...</td>\n",
       "      <td>...</td>\n",
       "      <td>...</td>\n",
       "      <td>...</td>\n",
       "      <td>...</td>\n",
       "      <td>...</td>\n",
       "    </tr>\n",
       "    <tr>\n",
       "      <th>2570</th>\n",
       "      <td>0.0</td>\n",
       "      <td>0.0</td>\n",
       "      <td>0.0</td>\n",
       "      <td>0.0</td>\n",
       "      <td>0.0</td>\n",
       "      <td>0.0</td>\n",
       "      <td>0.0</td>\n",
       "      <td>0.0</td>\n",
       "      <td>0.0</td>\n",
       "      <td>0.0</td>\n",
       "      <td>...</td>\n",
       "      <td>0.0</td>\n",
       "      <td>0.0</td>\n",
       "      <td>0.0</td>\n",
       "      <td>0.000000</td>\n",
       "      <td>0.0</td>\n",
       "      <td>0.0</td>\n",
       "      <td>0.0</td>\n",
       "      <td>0.0</td>\n",
       "      <td>0.0</td>\n",
       "      <td>0.0</td>\n",
       "    </tr>\n",
       "    <tr>\n",
       "      <th>2571</th>\n",
       "      <td>0.0</td>\n",
       "      <td>0.0</td>\n",
       "      <td>0.0</td>\n",
       "      <td>0.0</td>\n",
       "      <td>0.0</td>\n",
       "      <td>0.0</td>\n",
       "      <td>0.0</td>\n",
       "      <td>0.0</td>\n",
       "      <td>0.0</td>\n",
       "      <td>0.0</td>\n",
       "      <td>...</td>\n",
       "      <td>0.0</td>\n",
       "      <td>0.0</td>\n",
       "      <td>0.0</td>\n",
       "      <td>0.000000</td>\n",
       "      <td>0.0</td>\n",
       "      <td>0.0</td>\n",
       "      <td>0.0</td>\n",
       "      <td>0.0</td>\n",
       "      <td>0.0</td>\n",
       "      <td>0.0</td>\n",
       "    </tr>\n",
       "    <tr>\n",
       "      <th>2572</th>\n",
       "      <td>0.0</td>\n",
       "      <td>0.0</td>\n",
       "      <td>0.0</td>\n",
       "      <td>0.0</td>\n",
       "      <td>0.0</td>\n",
       "      <td>0.0</td>\n",
       "      <td>0.0</td>\n",
       "      <td>0.0</td>\n",
       "      <td>0.0</td>\n",
       "      <td>0.0</td>\n",
       "      <td>...</td>\n",
       "      <td>0.0</td>\n",
       "      <td>0.0</td>\n",
       "      <td>0.0</td>\n",
       "      <td>0.000000</td>\n",
       "      <td>0.0</td>\n",
       "      <td>0.0</td>\n",
       "      <td>0.0</td>\n",
       "      <td>0.0</td>\n",
       "      <td>0.0</td>\n",
       "      <td>0.0</td>\n",
       "    </tr>\n",
       "    <tr>\n",
       "      <th>2573</th>\n",
       "      <td>0.0</td>\n",
       "      <td>0.0</td>\n",
       "      <td>0.0</td>\n",
       "      <td>0.0</td>\n",
       "      <td>0.0</td>\n",
       "      <td>0.0</td>\n",
       "      <td>0.0</td>\n",
       "      <td>0.0</td>\n",
       "      <td>0.0</td>\n",
       "      <td>0.0</td>\n",
       "      <td>...</td>\n",
       "      <td>0.0</td>\n",
       "      <td>0.0</td>\n",
       "      <td>0.0</td>\n",
       "      <td>0.297068</td>\n",
       "      <td>0.0</td>\n",
       "      <td>0.0</td>\n",
       "      <td>0.0</td>\n",
       "      <td>0.0</td>\n",
       "      <td>0.0</td>\n",
       "      <td>0.0</td>\n",
       "    </tr>\n",
       "    <tr>\n",
       "      <th>2574</th>\n",
       "      <td>0.0</td>\n",
       "      <td>0.0</td>\n",
       "      <td>0.0</td>\n",
       "      <td>0.0</td>\n",
       "      <td>0.0</td>\n",
       "      <td>0.0</td>\n",
       "      <td>0.0</td>\n",
       "      <td>0.0</td>\n",
       "      <td>0.0</td>\n",
       "      <td>0.0</td>\n",
       "      <td>...</td>\n",
       "      <td>0.0</td>\n",
       "      <td>0.0</td>\n",
       "      <td>0.0</td>\n",
       "      <td>0.332539</td>\n",
       "      <td>0.0</td>\n",
       "      <td>0.0</td>\n",
       "      <td>0.0</td>\n",
       "      <td>0.0</td>\n",
       "      <td>0.0</td>\n",
       "      <td>0.0</td>\n",
       "    </tr>\n",
       "  </tbody>\n",
       "</table>\n",
       "<p>2575 rows × 1094 columns</p>\n",
       "</div>"
      ],
      "text/plain": [
       "      abbas  able  absorb  abul  academy  access  accommodate  accommodating  \\\n",
       "0       0.0   0.0     0.0   0.0      0.0     0.0          0.0            0.0   \n",
       "1       0.0   0.0     0.0   0.0      0.0     0.0          0.0            0.0   \n",
       "2       0.0   0.0     0.0   0.0      0.0     0.0          0.0            0.0   \n",
       "3       0.0   0.0     0.0   0.0      0.0     0.0          0.0            0.0   \n",
       "4       0.0   0.0     0.0   0.0      0.0     0.0          0.0            0.0   \n",
       "...     ...   ...     ...   ...      ...     ...          ...            ...   \n",
       "2570    0.0   0.0     0.0   0.0      0.0     0.0          0.0            0.0   \n",
       "2571    0.0   0.0     0.0   0.0      0.0     0.0          0.0            0.0   \n",
       "2572    0.0   0.0     0.0   0.0      0.0     0.0          0.0            0.0   \n",
       "2573    0.0   0.0     0.0   0.0      0.0     0.0          0.0            0.0   \n",
       "2574    0.0   0.0     0.0   0.0      0.0     0.0          0.0            0.0   \n",
       "\n",
       "      accuring  across  ...  world  worth  worthy     would  write  writing  \\\n",
       "0          0.0     0.0  ...    0.0    0.0     0.0  0.000000    0.0      0.0   \n",
       "1          0.0     0.0  ...    0.0    0.0     0.0  0.000000    0.0      0.0   \n",
       "2          0.0     0.0  ...    0.0    0.0     0.0  0.000000    0.0      0.0   \n",
       "3          0.0     0.0  ...    0.0    0.0     0.0  0.000000    0.0      0.0   \n",
       "4          0.0     0.0  ...    0.0    0.0     0.0  0.000000    0.0      0.0   \n",
       "...        ...     ...  ...    ...    ...     ...       ...    ...      ...   \n",
       "2570       0.0     0.0  ...    0.0    0.0     0.0  0.000000    0.0      0.0   \n",
       "2571       0.0     0.0  ...    0.0    0.0     0.0  0.000000    0.0      0.0   \n",
       "2572       0.0     0.0  ...    0.0    0.0     0.0  0.000000    0.0      0.0   \n",
       "2573       0.0     0.0  ...    0.0    0.0     0.0  0.297068    0.0      0.0   \n",
       "2574       0.0     0.0  ...    0.0    0.0     0.0  0.332539    0.0      0.0   \n",
       "\n",
       "       ye  yes  yor   yr  \n",
       "0     0.0  0.0  0.0  0.0  \n",
       "1     0.0  0.0  0.0  0.0  \n",
       "2     0.0  0.0  0.0  0.0  \n",
       "3     0.0  0.0  0.0  0.0  \n",
       "4     0.0  0.0  0.0  0.0  \n",
       "...   ...  ...  ...  ...  \n",
       "2570  0.0  0.0  0.0  0.0  \n",
       "2571  0.0  0.0  0.0  0.0  \n",
       "2572  0.0  0.0  0.0  0.0  \n",
       "2573  0.0  0.0  0.0  0.0  \n",
       "2574  0.0  0.0  0.0  0.0  \n",
       "\n",
       "[2575 rows x 1094 columns]"
      ]
     },
     "execution_count": 94,
     "metadata": {},
     "output_type": "execute_result"
    }
   ],
   "source": [
    "df_tfidf_lem = pd.DataFrame(tfidf_text_lem.toarray(), columns=tfidf.get_feature_names_out())\n",
    "df_tfidf_lem"
   ]
  },
  {
   "cell_type": "markdown",
   "id": "e81f2969",
   "metadata": {},
   "source": [
    "## Splitting Data"
   ]
  },
  {
   "cell_type": "code",
   "execution_count": 95,
   "id": "e26a854a",
   "metadata": {},
   "outputs": [],
   "source": [
    "xtrain, xtest, ytrain, ytest = train_test_split(tfidf_text_lem,df_lem['target_enc'], random_state=1,\n",
    "                                                test_size=0.1)\n"
   ]
  },
  {
   "cell_type": "code",
   "execution_count": 96,
   "id": "09dfe4c6",
   "metadata": {},
   "outputs": [
    {
     "name": "stdout",
     "output_type": "stream",
     "text": [
      "x_train shape is > (2317, 1094)\n",
      "y_train shape is > (2317,)\n",
      "x_test shape is > (258, 1094)\n",
      "y_test shape is > (258,)\n"
     ]
    }
   ],
   "source": [
    "print(f\"x_train shape is > {xtrain.shape}\")\n",
    "print(f\"y_train shape is > {ytrain.shape}\")\n",
    "print(f\"x_test shape is > {xtest.shape}\")\n",
    "print(f\"y_test shape is > {ytest.shape}\")"
   ]
  },
  {
   "cell_type": "markdown",
   "id": "5fa54c8e",
   "metadata": {},
   "source": [
    "## Model:"
   ]
  },
  {
   "cell_type": "markdown",
   "id": "f575f0d7",
   "metadata": {},
   "source": [
    "##  1 - Naiev Bais"
   ]
  },
  {
   "cell_type": "code",
   "execution_count": 97,
   "id": "15b87a9b",
   "metadata": {},
   "outputs": [],
   "source": [
    "nb = MultinomialNB()\n",
    "nb.fit(xtrain, ytrain)\n",
    "nb_ypred = nb.predict(xtest)"
   ]
  },
  {
   "cell_type": "code",
   "execution_count": 98,
   "id": "54696e2d",
   "metadata": {},
   "outputs": [
    {
     "data": {
      "text/plain": [
       "0.8372093023255814"
      ]
     },
     "execution_count": 98,
     "metadata": {},
     "output_type": "execute_result"
    }
   ],
   "source": [
    "accuracy_score(ytest,nb_ypred)"
   ]
  },
  {
   "cell_type": "code",
   "execution_count": 99,
   "id": "9832057b",
   "metadata": {},
   "outputs": [
    {
     "data": {
      "text/plain": [
       "array([[65,  1,  3],\n",
       "       [ 2, 52, 32],\n",
       "       [ 1,  3, 99]], dtype=int64)"
      ]
     },
     "execution_count": 99,
     "metadata": {},
     "output_type": "execute_result"
    }
   ],
   "source": [
    "confusion_matrix(ytest, nb_ypred)"
   ]
  },
  {
   "cell_type": "code",
   "execution_count": 100,
   "id": "fd1d49b8",
   "metadata": {},
   "outputs": [
    {
     "name": "stdout",
     "output_type": "stream",
     "text": [
      "              precision    recall  f1-score   support\n",
      "\n",
      "           0       0.96      0.94      0.95        69\n",
      "           1       0.93      0.60      0.73        86\n",
      "           2       0.74      0.96      0.84       103\n",
      "\n",
      "    accuracy                           0.84       258\n",
      "   macro avg       0.87      0.84      0.84       258\n",
      "weighted avg       0.86      0.84      0.83       258\n",
      "\n"
     ]
    }
   ],
   "source": [
    "print(classification_report(ytest,nb_ypred))"
   ]
  },
  {
   "cell_type": "markdown",
   "id": "65a5edb5",
   "metadata": {},
   "source": [
    "## 2 - Logistic regression"
   ]
  },
  {
   "cell_type": "code",
   "execution_count": 101,
   "id": "19a90758",
   "metadata": {},
   "outputs": [],
   "source": [
    "lr = LogisticRegression()\n",
    "lr.fit(xtrain, ytrain)\n",
    "lr_ypred = lr.predict(xtest)"
   ]
  },
  {
   "cell_type": "code",
   "execution_count": 102,
   "id": "86dd1713",
   "metadata": {},
   "outputs": [
    {
     "data": {
      "text/plain": [
       "0.9031007751937985"
      ]
     },
     "execution_count": 102,
     "metadata": {},
     "output_type": "execute_result"
    }
   ],
   "source": [
    "accuracy_score(ytest,lr_ypred)"
   ]
  },
  {
   "cell_type": "code",
   "execution_count": 103,
   "id": "91c0fdf4",
   "metadata": {},
   "outputs": [
    {
     "data": {
      "text/plain": [
       "array([[64,  4,  1],\n",
       "       [ 2, 76,  8],\n",
       "       [ 1,  9, 93]], dtype=int64)"
      ]
     },
     "execution_count": 103,
     "metadata": {},
     "output_type": "execute_result"
    }
   ],
   "source": [
    "confusion_matrix(ytest,lr_ypred)"
   ]
  },
  {
   "cell_type": "code",
   "execution_count": 104,
   "id": "1258c209",
   "metadata": {},
   "outputs": [
    {
     "name": "stdout",
     "output_type": "stream",
     "text": [
      "              precision    recall  f1-score   support\n",
      "\n",
      "           0       0.96      0.93      0.94        69\n",
      "           1       0.85      0.88      0.87        86\n",
      "           2       0.91      0.90      0.91       103\n",
      "\n",
      "    accuracy                           0.90       258\n",
      "   macro avg       0.91      0.90      0.91       258\n",
      "weighted avg       0.90      0.90      0.90       258\n",
      "\n"
     ]
    }
   ],
   "source": [
    "print(classification_report(ytest,lr_ypred))"
   ]
  },
  {
   "cell_type": "markdown",
   "id": "ec31984b",
   "metadata": {},
   "source": [
    "## 3 - Decision Tree"
   ]
  },
  {
   "cell_type": "code",
   "execution_count": 105,
   "id": "58c8be56",
   "metadata": {},
   "outputs": [],
   "source": [
    "dt = DecisionTreeClassifier()\n",
    "dt.fit(xtrain, ytrain)\n",
    "dt_ypred = lr.predict(xtest)"
   ]
  },
  {
   "cell_type": "code",
   "execution_count": 106,
   "id": "fe124477",
   "metadata": {},
   "outputs": [
    {
     "data": {
      "text/plain": [
       "0.9031007751937985"
      ]
     },
     "execution_count": 106,
     "metadata": {},
     "output_type": "execute_result"
    }
   ],
   "source": [
    "accuracy_score(ytest,dt_ypred)"
   ]
  },
  {
   "cell_type": "code",
   "execution_count": 107,
   "id": "7d4b9285",
   "metadata": {},
   "outputs": [
    {
     "data": {
      "text/plain": [
       "array([[64,  4,  1],\n",
       "       [ 2, 76,  8],\n",
       "       [ 1,  9, 93]], dtype=int64)"
      ]
     },
     "execution_count": 107,
     "metadata": {},
     "output_type": "execute_result"
    }
   ],
   "source": [
    "confusion_matrix(ytest,dt_ypred)"
   ]
  },
  {
   "cell_type": "code",
   "execution_count": 108,
   "id": "94129195",
   "metadata": {},
   "outputs": [
    {
     "name": "stdout",
     "output_type": "stream",
     "text": [
      "              precision    recall  f1-score   support\n",
      "\n",
      "           0       0.96      0.93      0.94        69\n",
      "           1       0.85      0.88      0.87        86\n",
      "           2       0.91      0.90      0.91       103\n",
      "\n",
      "    accuracy                           0.90       258\n",
      "   macro avg       0.91      0.90      0.91       258\n",
      "weighted avg       0.90      0.90      0.90       258\n",
      "\n"
     ]
    }
   ],
   "source": [
    "print(classification_report(ytest,dt_ypred))"
   ]
  },
  {
   "cell_type": "markdown",
   "id": "bb0ebcf6",
   "metadata": {},
   "source": [
    "## 4- KNN"
   ]
  },
  {
   "cell_type": "code",
   "execution_count": 109,
   "id": "74cd5e35",
   "metadata": {},
   "outputs": [],
   "source": [
    "knn = KNeighborsClassifier(n_neighbors=5)\n",
    "knn.fit(xtrain, ytrain)\n",
    "knn_ypred = knn.predict(xtest)"
   ]
  },
  {
   "cell_type": "code",
   "execution_count": 110,
   "id": "7ea94f9f",
   "metadata": {},
   "outputs": [
    {
     "data": {
      "text/plain": [
       "0.7790697674418605"
      ]
     },
     "execution_count": 110,
     "metadata": {},
     "output_type": "execute_result"
    }
   ],
   "source": [
    "accuracy_score(ytest,knn_ypred)"
   ]
  },
  {
   "cell_type": "code",
   "execution_count": 111,
   "id": "f51c57bf",
   "metadata": {},
   "outputs": [
    {
     "data": {
      "text/plain": [
       "array([[44, 25,  0],\n",
       "       [ 1, 79,  6],\n",
       "       [ 0, 25, 78]], dtype=int64)"
      ]
     },
     "execution_count": 111,
     "metadata": {},
     "output_type": "execute_result"
    }
   ],
   "source": [
    "confusion_matrix(ytest,knn_ypred)"
   ]
  },
  {
   "cell_type": "code",
   "execution_count": 112,
   "id": "57315f8b",
   "metadata": {},
   "outputs": [
    {
     "name": "stdout",
     "output_type": "stream",
     "text": [
      "              precision    recall  f1-score   support\n",
      "\n",
      "           0       0.98      0.64      0.77        69\n",
      "           1       0.61      0.92      0.73        86\n",
      "           2       0.93      0.76      0.83       103\n",
      "\n",
      "    accuracy                           0.78       258\n",
      "   macro avg       0.84      0.77      0.78       258\n",
      "weighted avg       0.84      0.78      0.78       258\n",
      "\n"
     ]
    }
   ],
   "source": [
    "print(classification_report(ytest, knn_ypred))"
   ]
  },
  {
   "cell_type": "markdown",
   "id": "c087845c",
   "metadata": {},
   "source": [
    "# ------------------------------------------------------------------------------"
   ]
  },
  {
   "cell_type": "markdown",
   "id": "77415a9d",
   "metadata": {},
   "source": [
    "# ------------------------------------------------------------------------------"
   ]
  },
  {
   "cell_type": "markdown",
   "id": "40ed01ef",
   "metadata": {},
   "source": [
    "# Conclusion "
   ]
  },
  {
   "cell_type": "markdown",
   "id": "2e1bd0ff",
   "metadata": {},
   "source": [
    "## 1- The data is very imbalanced specially for \"Negative\" comment target,\n",
    "## so we added extra data with \"Negative\" and \"Neutral\" tagging \n",
    "##\n",
    "## 2- The best method of data stemming and lemmatization is LancasterStemmer\n",
    "##\n",
    "## 3- The best result is shared between Logistic Regression and Decision Tree\n",
    "## Both provid 92% accuracy, and 92% f1 score for \"Postive\" target,\n",
    "## 89% f1 score for \"Neutral\" target and 96% f1 score for \"Negative\" target\n",
    "##\n",
    "## 4- So we will use those two models to predict the score for comments with no target, \n",
    "## and will validate sample of it manually to check its accuracy"
   ]
  },
  {
   "cell_type": "markdown",
   "id": "0c88c5ea",
   "metadata": {},
   "source": [
    "# ------------------------------------------------------------------------------"
   ]
  },
  {
   "cell_type": "code",
   "execution_count": 113,
   "id": "31662fa5",
   "metadata": {},
   "outputs": [],
   "source": [
    "df_null = pd.DataFrame(main_df[['comment', 'target']].copy())"
   ]
  },
  {
   "cell_type": "code",
   "execution_count": 114,
   "id": "9d136a0b",
   "metadata": {},
   "outputs": [
    {
     "data": {
      "text/plain": [
       "2394"
      ]
     },
     "execution_count": 114,
     "metadata": {},
     "output_type": "execute_result"
    }
   ],
   "source": [
    "len(df_null)"
   ]
  },
  {
   "cell_type": "code",
   "execution_count": 115,
   "id": "20e97861",
   "metadata": {},
   "outputs": [
    {
     "data": {
      "text/html": [
       "<div>\n",
       "<style scoped>\n",
       "    .dataframe tbody tr th:only-of-type {\n",
       "        vertical-align: middle;\n",
       "    }\n",
       "\n",
       "    .dataframe tbody tr th {\n",
       "        vertical-align: top;\n",
       "    }\n",
       "\n",
       "    .dataframe thead th {\n",
       "        text-align: right;\n",
       "    }\n",
       "</style>\n",
       "<table border=\"1\" class=\"dataframe\">\n",
       "  <thead>\n",
       "    <tr style=\"text-align: right;\">\n",
       "      <th></th>\n",
       "      <th>comment</th>\n",
       "      <th>target</th>\n",
       "    </tr>\n",
       "  </thead>\n",
       "  <tbody>\n",
       "    <tr>\n",
       "      <th>0</th>\n",
       "      <td>I learned a lot on this training</td>\n",
       "      <td>Positive</td>\n",
       "    </tr>\n",
       "    <tr>\n",
       "      <th>1</th>\n",
       "      <td>none</td>\n",
       "      <td>Neutral</td>\n",
       "    </tr>\n",
       "    <tr>\n",
       "      <th>2</th>\n",
       "      <td>EXCELLENT COURSE</td>\n",
       "      <td>Positive</td>\n",
       "    </tr>\n",
       "    <tr>\n",
       "      <th>3</th>\n",
       "      <td>NaN</td>\n",
       "      <td>Neutral</td>\n",
       "    </tr>\n",
       "    <tr>\n",
       "      <th>4</th>\n",
       "      <td>Good Session</td>\n",
       "      <td>Positive</td>\n",
       "    </tr>\n",
       "  </tbody>\n",
       "</table>\n",
       "</div>"
      ],
      "text/plain": [
       "                            comment    target\n",
       "0  I learned a lot on this training  Positive\n",
       "1                              none   Neutral\n",
       "2                  EXCELLENT COURSE  Positive\n",
       "3                               NaN   Neutral\n",
       "4                      Good Session  Positive"
      ]
     },
     "execution_count": 115,
     "metadata": {},
     "output_type": "execute_result"
    }
   ],
   "source": [
    "df_null.head()"
   ]
  },
  {
   "cell_type": "code",
   "execution_count": 116,
   "id": "32594ede",
   "metadata": {
    "scrolled": true
   },
   "outputs": [
    {
     "data": {
      "text/html": [
       "<div>\n",
       "<style scoped>\n",
       "    .dataframe tbody tr th:only-of-type {\n",
       "        vertical-align: middle;\n",
       "    }\n",
       "\n",
       "    .dataframe tbody tr th {\n",
       "        vertical-align: top;\n",
       "    }\n",
       "\n",
       "    .dataframe thead th {\n",
       "        text-align: right;\n",
       "    }\n",
       "</style>\n",
       "<table border=\"1\" class=\"dataframe\">\n",
       "  <thead>\n",
       "    <tr style=\"text-align: right;\">\n",
       "      <th></th>\n",
       "      <th>comment</th>\n",
       "      <th>target</th>\n",
       "    </tr>\n",
       "  </thead>\n",
       "  <tbody>\n",
       "    <tr>\n",
       "      <th>9</th>\n",
       "      <td>Maybe a recording will allow the participants ...</td>\n",
       "      <td>NaN</td>\n",
       "    </tr>\n",
       "    <tr>\n",
       "      <th>21</th>\n",
       "      <td>NaN</td>\n",
       "      <td>NaN</td>\n",
       "    </tr>\n",
       "    <tr>\n",
       "      <th>22</th>\n",
       "      <td>Excellent training on new technology and learn...</td>\n",
       "      <td>NaN</td>\n",
       "    </tr>\n",
       "    <tr>\n",
       "      <th>26</th>\n",
       "      <td>it's very long, and the last part is the most ...</td>\n",
       "      <td>NaN</td>\n",
       "    </tr>\n",
       "    <tr>\n",
       "      <th>28</th>\n",
       "      <td>Thanks a lot for the great and interesting tra...</td>\n",
       "      <td>NaN</td>\n",
       "    </tr>\n",
       "    <tr>\n",
       "      <th>...</th>\n",
       "      <td>...</td>\n",
       "      <td>...</td>\n",
       "    </tr>\n",
       "    <tr>\n",
       "      <th>2389</th>\n",
       "      <td>It was Great opportunity to understand more ab...</td>\n",
       "      <td>NaN</td>\n",
       "    </tr>\n",
       "    <tr>\n",
       "      <th>2390</th>\n",
       "      <td>NaN</td>\n",
       "      <td>NaN</td>\n",
       "    </tr>\n",
       "    <tr>\n",
       "      <th>2391</th>\n",
       "      <td>NaN</td>\n",
       "      <td>NaN</td>\n",
       "    </tr>\n",
       "    <tr>\n",
       "      <th>2392</th>\n",
       "      <td>NaN</td>\n",
       "      <td>NaN</td>\n",
       "    </tr>\n",
       "    <tr>\n",
       "      <th>2393</th>\n",
       "      <td>NaN</td>\n",
       "      <td>NaN</td>\n",
       "    </tr>\n",
       "  </tbody>\n",
       "</table>\n",
       "<p>807 rows × 2 columns</p>\n",
       "</div>"
      ],
      "text/plain": [
       "                                                comment target\n",
       "9     Maybe a recording will allow the participants ...    NaN\n",
       "21                                                  NaN    NaN\n",
       "22    Excellent training on new technology and learn...    NaN\n",
       "26    it's very long, and the last part is the most ...    NaN\n",
       "28    Thanks a lot for the great and interesting tra...    NaN\n",
       "...                                                 ...    ...\n",
       "2389  It was Great opportunity to understand more ab...    NaN\n",
       "2390                                                NaN    NaN\n",
       "2391                                                NaN    NaN\n",
       "2392                                                NaN    NaN\n",
       "2393                                                NaN    NaN\n",
       "\n",
       "[807 rows x 2 columns]"
      ]
     },
     "execution_count": 116,
     "metadata": {},
     "output_type": "execute_result"
    }
   ],
   "source": [
    "# Removed target data\n",
    "\n",
    "values_to_remove = ['Positive', 'Negative', 'Neutral']\n",
    "df_null = df_null[~df_null.target.isin(values_to_remove)]\n",
    "df_null"
   ]
  },
  {
   "cell_type": "code",
   "execution_count": 117,
   "id": "159154d6",
   "metadata": {},
   "outputs": [
    {
     "data": {
      "text/plain": [
       "807"
      ]
     },
     "execution_count": 117,
     "metadata": {},
     "output_type": "execute_result"
    }
   ],
   "source": [
    "len(df_null)"
   ]
  },
  {
   "cell_type": "code",
   "execution_count": 118,
   "id": "ef339734",
   "metadata": {},
   "outputs": [],
   "source": [
    "df_null = df_null[['comment']].astype(str)"
   ]
  },
  {
   "cell_type": "code",
   "execution_count": 119,
   "id": "23e0601c",
   "metadata": {},
   "outputs": [],
   "source": [
    "df_null['len'] = [len(i) for i in df_null[\"comment\"]]"
   ]
  },
  {
   "cell_type": "code",
   "execution_count": 120,
   "id": "882844f5",
   "metadata": {},
   "outputs": [
    {
     "data": {
      "text/html": [
       "<div>\n",
       "<style scoped>\n",
       "    .dataframe tbody tr th:only-of-type {\n",
       "        vertical-align: middle;\n",
       "    }\n",
       "\n",
       "    .dataframe tbody tr th {\n",
       "        vertical-align: top;\n",
       "    }\n",
       "\n",
       "    .dataframe thead th {\n",
       "        text-align: right;\n",
       "    }\n",
       "</style>\n",
       "<table border=\"1\" class=\"dataframe\">\n",
       "  <thead>\n",
       "    <tr style=\"text-align: right;\">\n",
       "      <th></th>\n",
       "      <th>comment</th>\n",
       "      <th>len</th>\n",
       "    </tr>\n",
       "  </thead>\n",
       "  <tbody>\n",
       "    <tr>\n",
       "      <th>9</th>\n",
       "      <td>Maybe a recording will allow the participants ...</td>\n",
       "      <td>89</td>\n",
       "    </tr>\n",
       "    <tr>\n",
       "      <th>21</th>\n",
       "      <td>nan</td>\n",
       "      <td>3</td>\n",
       "    </tr>\n",
       "    <tr>\n",
       "      <th>22</th>\n",
       "      <td>Excellent training on new technology and learn...</td>\n",
       "      <td>63</td>\n",
       "    </tr>\n",
       "    <tr>\n",
       "      <th>26</th>\n",
       "      <td>it's very long, and the last part is the most ...</td>\n",
       "      <td>115</td>\n",
       "    </tr>\n",
       "    <tr>\n",
       "      <th>28</th>\n",
       "      <td>Thanks a lot for the great and interesting tra...</td>\n",
       "      <td>85</td>\n",
       "    </tr>\n",
       "    <tr>\n",
       "      <th>...</th>\n",
       "      <td>...</td>\n",
       "      <td>...</td>\n",
       "    </tr>\n",
       "    <tr>\n",
       "      <th>2389</th>\n",
       "      <td>It was Great opportunity to understand more ab...</td>\n",
       "      <td>88</td>\n",
       "    </tr>\n",
       "    <tr>\n",
       "      <th>2390</th>\n",
       "      <td>nan</td>\n",
       "      <td>3</td>\n",
       "    </tr>\n",
       "    <tr>\n",
       "      <th>2391</th>\n",
       "      <td>nan</td>\n",
       "      <td>3</td>\n",
       "    </tr>\n",
       "    <tr>\n",
       "      <th>2392</th>\n",
       "      <td>nan</td>\n",
       "      <td>3</td>\n",
       "    </tr>\n",
       "    <tr>\n",
       "      <th>2393</th>\n",
       "      <td>nan</td>\n",
       "      <td>3</td>\n",
       "    </tr>\n",
       "  </tbody>\n",
       "</table>\n",
       "<p>807 rows × 2 columns</p>\n",
       "</div>"
      ],
      "text/plain": [
       "                                                comment  len\n",
       "9     Maybe a recording will allow the participants ...   89\n",
       "21                                                  nan    3\n",
       "22    Excellent training on new technology and learn...   63\n",
       "26    it's very long, and the last part is the most ...  115\n",
       "28    Thanks a lot for the great and interesting tra...   85\n",
       "...                                                 ...  ...\n",
       "2389  It was Great opportunity to understand more ab...   88\n",
       "2390                                                nan    3\n",
       "2391                                                nan    3\n",
       "2392                                                nan    3\n",
       "2393                                                nan    3\n",
       "\n",
       "[807 rows x 2 columns]"
      ]
     },
     "execution_count": 120,
     "metadata": {},
     "output_type": "execute_result"
    }
   ],
   "source": [
    "df_null"
   ]
  },
  {
   "cell_type": "code",
   "execution_count": 121,
   "id": "8ff132d8",
   "metadata": {},
   "outputs": [
    {
     "data": {
      "text/plain": [
       "array(['nan', '.', 'G', 'N/L', 'Nill', 'Ok', 'Na', 'V', 'na', 'NL', 'nil',\n",
       "       'Null', 'Nil', 'Nli', 'Sure', 'Yes', 'Good', 'good', 'Done',\n",
       "       'Nice', 'N0', 'htt', 'W'], dtype=object)"
      ]
     },
     "execution_count": 121,
     "metadata": {},
     "output_type": "execute_result"
    }
   ],
   "source": [
    "temp = df_null[df_null['len'] <5]\n",
    "temp['comment'].unique()"
   ]
  },
  {
   "cell_type": "code",
   "execution_count": 122,
   "id": "01a373de",
   "metadata": {},
   "outputs": [
    {
     "data": {
      "text/plain": [
       "array(['nan', '.', 'G', 'N/L', 'Ok', 'Na', 'V', 'na', 'NL', 'nil', 'Nil',\n",
       "       'Nli', 'Yes', 'N0', 'htt', 'W'], dtype=object)"
      ]
     },
     "execution_count": 122,
     "metadata": {},
     "output_type": "execute_result"
    }
   ],
   "source": [
    "temp = df_null[df_null['len'] <4]\n",
    "temp['comment'].unique()"
   ]
  },
  {
   "cell_type": "markdown",
   "id": "69c16426",
   "metadata": {},
   "source": [
    "### Will remove the rows less than 4, and remove \"Nill\" & \"Null\" manually"
   ]
  },
  {
   "cell_type": "code",
   "execution_count": 123,
   "id": "d2db7168",
   "metadata": {},
   "outputs": [
    {
     "data": {
      "text/plain": [
       "807"
      ]
     },
     "execution_count": 123,
     "metadata": {},
     "output_type": "execute_result"
    }
   ],
   "source": [
    "len(df_null)"
   ]
  },
  {
   "cell_type": "code",
   "execution_count": 124,
   "id": "9347eabc",
   "metadata": {},
   "outputs": [
    {
     "data": {
      "text/plain": [
       "436"
      ]
     },
     "execution_count": 124,
     "metadata": {},
     "output_type": "execute_result"
    }
   ],
   "source": [
    "df_null = df_null[df_null['len'] >3]\n",
    "len(df_null)"
   ]
  },
  {
   "cell_type": "code",
   "execution_count": 125,
   "id": "87fa4367",
   "metadata": {},
   "outputs": [
    {
     "data": {
      "text/plain": [
       "433"
      ]
     },
     "execution_count": 125,
     "metadata": {},
     "output_type": "execute_result"
    }
   ],
   "source": [
    "comment_to_remove = ['Null', 'Nill']\n",
    "\n",
    "df_null = df_null[~df_null.comment.isin(comment_to_remove)]\n",
    "len(df_null)"
   ]
  },
  {
   "cell_type": "code",
   "execution_count": 126,
   "id": "63135408",
   "metadata": {},
   "outputs": [
    {
     "data": {
      "text/html": [
       "<div>\n",
       "<style scoped>\n",
       "    .dataframe tbody tr th:only-of-type {\n",
       "        vertical-align: middle;\n",
       "    }\n",
       "\n",
       "    .dataframe tbody tr th {\n",
       "        vertical-align: top;\n",
       "    }\n",
       "\n",
       "    .dataframe thead th {\n",
       "        text-align: right;\n",
       "    }\n",
       "</style>\n",
       "<table border=\"1\" class=\"dataframe\">\n",
       "  <thead>\n",
       "    <tr style=\"text-align: right;\">\n",
       "      <th></th>\n",
       "      <th>comment</th>\n",
       "      <th>len</th>\n",
       "    </tr>\n",
       "  </thead>\n",
       "  <tbody>\n",
       "    <tr>\n",
       "      <th>753</th>\n",
       "      <td>Sure</td>\n",
       "      <td>4</td>\n",
       "    </tr>\n",
       "    <tr>\n",
       "      <th>1219</th>\n",
       "      <td>Good</td>\n",
       "      <td>4</td>\n",
       "    </tr>\n",
       "    <tr>\n",
       "      <th>1223</th>\n",
       "      <td>good</td>\n",
       "      <td>4</td>\n",
       "    </tr>\n",
       "    <tr>\n",
       "      <th>1234</th>\n",
       "      <td>Done</td>\n",
       "      <td>4</td>\n",
       "    </tr>\n",
       "    <tr>\n",
       "      <th>1245</th>\n",
       "      <td>Good</td>\n",
       "      <td>4</td>\n",
       "    </tr>\n",
       "    <tr>\n",
       "      <th>1264</th>\n",
       "      <td>Good</td>\n",
       "      <td>4</td>\n",
       "    </tr>\n",
       "    <tr>\n",
       "      <th>1273</th>\n",
       "      <td>good</td>\n",
       "      <td>4</td>\n",
       "    </tr>\n",
       "    <tr>\n",
       "      <th>1278</th>\n",
       "      <td>Good</td>\n",
       "      <td>4</td>\n",
       "    </tr>\n",
       "    <tr>\n",
       "      <th>1299</th>\n",
       "      <td>Good</td>\n",
       "      <td>4</td>\n",
       "    </tr>\n",
       "    <tr>\n",
       "      <th>1305</th>\n",
       "      <td>good</td>\n",
       "      <td>4</td>\n",
       "    </tr>\n",
       "    <tr>\n",
       "      <th>1312</th>\n",
       "      <td>Good</td>\n",
       "      <td>4</td>\n",
       "    </tr>\n",
       "    <tr>\n",
       "      <th>1319</th>\n",
       "      <td>Good</td>\n",
       "      <td>4</td>\n",
       "    </tr>\n",
       "    <tr>\n",
       "      <th>1320</th>\n",
       "      <td>good</td>\n",
       "      <td>4</td>\n",
       "    </tr>\n",
       "    <tr>\n",
       "      <th>1337</th>\n",
       "      <td>Good</td>\n",
       "      <td>4</td>\n",
       "    </tr>\n",
       "    <tr>\n",
       "      <th>1358</th>\n",
       "      <td>Good</td>\n",
       "      <td>4</td>\n",
       "    </tr>\n",
       "    <tr>\n",
       "      <th>1365</th>\n",
       "      <td>Nice</td>\n",
       "      <td>4</td>\n",
       "    </tr>\n",
       "    <tr>\n",
       "      <th>1370</th>\n",
       "      <td>Good</td>\n",
       "      <td>4</td>\n",
       "    </tr>\n",
       "    <tr>\n",
       "      <th>1372</th>\n",
       "      <td>Thank</td>\n",
       "      <td>5</td>\n",
       "    </tr>\n",
       "    <tr>\n",
       "      <th>1930</th>\n",
       "      <td>Great</td>\n",
       "      <td>5</td>\n",
       "    </tr>\n",
       "    <tr>\n",
       "      <th>2164</th>\n",
       "      <td>Great</td>\n",
       "      <td>5</td>\n",
       "    </tr>\n",
       "    <tr>\n",
       "      <th>2202</th>\n",
       "      <td>clear</td>\n",
       "      <td>5</td>\n",
       "    </tr>\n",
       "  </tbody>\n",
       "</table>\n",
       "</div>"
      ],
      "text/plain": [
       "     comment  len\n",
       "753     Sure    4\n",
       "1219    Good    4\n",
       "1223    good    4\n",
       "1234    Done    4\n",
       "1245    Good    4\n",
       "1264    Good    4\n",
       "1273    good    4\n",
       "1278    Good    4\n",
       "1299    Good    4\n",
       "1305    good    4\n",
       "1312    Good    4\n",
       "1319    Good    4\n",
       "1320    good    4\n",
       "1337    Good    4\n",
       "1358    Good    4\n",
       "1365    Nice    4\n",
       "1370    Good    4\n",
       "1372   Thank    5\n",
       "1930   Great    5\n",
       "2164   Great    5\n",
       "2202   clear    5"
      ]
     },
     "execution_count": 126,
     "metadata": {},
     "output_type": "execute_result"
    }
   ],
   "source": [
    "df_null[df_null['len']<6]"
   ]
  },
  {
   "cell_type": "markdown",
   "id": "0a823118",
   "metadata": {},
   "source": [
    "### Preprocess the data"
   ]
  },
  {
   "cell_type": "code",
   "execution_count": 127,
   "id": "24d25501",
   "metadata": {},
   "outputs": [
    {
     "data": {
      "text/html": [
       "<div>\n",
       "<style scoped>\n",
       "    .dataframe tbody tr th:only-of-type {\n",
       "        vertical-align: middle;\n",
       "    }\n",
       "\n",
       "    .dataframe tbody tr th {\n",
       "        vertical-align: top;\n",
       "    }\n",
       "\n",
       "    .dataframe thead th {\n",
       "        text-align: right;\n",
       "    }\n",
       "</style>\n",
       "<table border=\"1\" class=\"dataframe\">\n",
       "  <thead>\n",
       "    <tr style=\"text-align: right;\">\n",
       "      <th></th>\n",
       "      <th>comment</th>\n",
       "      <th>len</th>\n",
       "      <th>l_stem</th>\n",
       "    </tr>\n",
       "  </thead>\n",
       "  <tbody>\n",
       "    <tr>\n",
       "      <th>9</th>\n",
       "      <td>Maybe a recording will allow the participants ...</td>\n",
       "      <td>89</td>\n",
       "      <td>[particul, mayb, particip, top, allow, back, r...</td>\n",
       "    </tr>\n",
       "    <tr>\n",
       "      <th>22</th>\n",
       "      <td>Excellent training on new technology and learn...</td>\n",
       "      <td>63</td>\n",
       "      <td>[many, excel, learnt, new, insight, train, tec...</td>\n",
       "    </tr>\n",
       "    <tr>\n",
       "      <th>26</th>\n",
       "      <td>it's very long, and the last part is the most ...</td>\n",
       "      <td>115</td>\n",
       "      <td>[quick, tim, import, part, pref, last, long, mak]</td>\n",
       "    </tr>\n",
       "    <tr>\n",
       "      <th>28</th>\n",
       "      <td>Thanks a lot for the great and interesting tra...</td>\n",
       "      <td>85</td>\n",
       "      <td>[gre, lot, interest, thank, apprecy, much, tra...</td>\n",
       "    </tr>\n",
       "    <tr>\n",
       "      <th>29</th>\n",
       "      <td>Excellent session. Maybe spread over two days ...</td>\n",
       "      <td>94</td>\n",
       "      <td>[mayb, pract, excel, see, spread, sess, two, t...</td>\n",
       "    </tr>\n",
       "    <tr>\n",
       "      <th>...</th>\n",
       "      <td>...</td>\n",
       "      <td>...</td>\n",
       "      <td>...</td>\n",
       "    </tr>\n",
       "    <tr>\n",
       "      <th>2309</th>\n",
       "      <td>Great knowledge gaind today.</td>\n",
       "      <td>28</td>\n",
       "      <td>[gre, gaind, knowledg, today]</td>\n",
       "    </tr>\n",
       "    <tr>\n",
       "      <th>2336</th>\n",
       "      <td>The session was very helpful I will appreciate...</td>\n",
       "      <td>77</td>\n",
       "      <td>[acn, help, ev, sess, apprecy, held, tim]</td>\n",
       "    </tr>\n",
       "    <tr>\n",
       "      <th>2387</th>\n",
       "      <td>Great Experience in short time</td>\n",
       "      <td>30</td>\n",
       "      <td>[gre, short, tim, expery]</td>\n",
       "    </tr>\n",
       "    <tr>\n",
       "      <th>2388</th>\n",
       "      <td>Tnank You</td>\n",
       "      <td>9</td>\n",
       "      <td>[tnank]</td>\n",
       "    </tr>\n",
       "    <tr>\n",
       "      <th>2389</th>\n",
       "      <td>It was Great opportunity to understand more ab...</td>\n",
       "      <td>88</td>\n",
       "      <td>[gre, rol, understand, opportun, network, serv...</td>\n",
       "    </tr>\n",
       "  </tbody>\n",
       "</table>\n",
       "<p>433 rows × 3 columns</p>\n",
       "</div>"
      ],
      "text/plain": [
       "                                                comment  len  \\\n",
       "9     Maybe a recording will allow the participants ...   89   \n",
       "22    Excellent training on new technology and learn...   63   \n",
       "26    it's very long, and the last part is the most ...  115   \n",
       "28    Thanks a lot for the great and interesting tra...   85   \n",
       "29    Excellent session. Maybe spread over two days ...   94   \n",
       "...                                                 ...  ...   \n",
       "2309                       Great knowledge gaind today.   28   \n",
       "2336  The session was very helpful I will appreciate...   77   \n",
       "2387                     Great Experience in short time   30   \n",
       "2388                                          Tnank You    9   \n",
       "2389  It was Great opportunity to understand more ab...   88   \n",
       "\n",
       "                                                 l_stem  \n",
       "9     [particul, mayb, particip, top, allow, back, r...  \n",
       "22    [many, excel, learnt, new, insight, train, tec...  \n",
       "26    [quick, tim, import, part, pref, last, long, mak]  \n",
       "28    [gre, lot, interest, thank, apprecy, much, tra...  \n",
       "29    [mayb, pract, excel, see, spread, sess, two, t...  \n",
       "...                                                 ...  \n",
       "2309                      [gre, gaind, knowledg, today]  \n",
       "2336          [acn, help, ev, sess, apprecy, held, tim]  \n",
       "2387                          [gre, short, tim, expery]  \n",
       "2388                                            [tnank]  \n",
       "2389  [gre, rol, understand, opportun, network, serv...  \n",
       "\n",
       "[433 rows x 3 columns]"
      ]
     },
     "execution_count": 127,
     "metadata": {},
     "output_type": "execute_result"
    }
   ],
   "source": [
    "df_null['l_stem'] = df_null['comment'].apply(preprocessing_l_stem)\n",
    "\n",
    "df_null"
   ]
  },
  {
   "cell_type": "code",
   "execution_count": 128,
   "id": "13078505",
   "metadata": {},
   "outputs": [],
   "source": [
    "text_null_l_stem = [\" \".join(i) for i in list(df_null['l_stem'])]"
   ]
  },
  {
   "cell_type": "code",
   "execution_count": 129,
   "id": "fc9503a6",
   "metadata": {},
   "outputs": [],
   "source": [
    "text = tfidf.fit_transform(text_null_l_stem)"
   ]
  },
  {
   "cell_type": "code",
   "execution_count": 130,
   "id": "0bd2500c",
   "metadata": {},
   "outputs": [
    {
     "data": {
      "text/plain": [
       "array([[0., 0., 0., ..., 0., 0., 0.],\n",
       "       [0., 0., 0., ..., 0., 0., 0.],\n",
       "       [0., 0., 0., ..., 0., 0., 0.],\n",
       "       ...,\n",
       "       [0., 0., 0., ..., 0., 0., 0.],\n",
       "       [0., 0., 0., ..., 0., 0., 0.],\n",
       "       [0., 0., 0., ..., 0., 0., 0.]])"
      ]
     },
     "execution_count": 130,
     "metadata": {},
     "output_type": "execute_result"
    }
   ],
   "source": [
    "text.toarray()"
   ]
  },
  {
   "cell_type": "code",
   "execution_count": 131,
   "id": "ee8114d4",
   "metadata": {},
   "outputs": [
    {
     "data": {
      "text/html": [
       "<div>\n",
       "<style scoped>\n",
       "    .dataframe tbody tr th:only-of-type {\n",
       "        vertical-align: middle;\n",
       "    }\n",
       "\n",
       "    .dataframe tbody tr th {\n",
       "        vertical-align: top;\n",
       "    }\n",
       "\n",
       "    .dataframe thead th {\n",
       "        text-align: right;\n",
       "    }\n",
       "</style>\n",
       "<table border=\"1\" class=\"dataframe\">\n",
       "  <thead>\n",
       "    <tr style=\"text-align: right;\">\n",
       "      <th></th>\n",
       "      <th>ab</th>\n",
       "      <th>abba</th>\n",
       "      <th>abl</th>\n",
       "      <th>access</th>\n",
       "      <th>accommod</th>\n",
       "      <th>acn</th>\n",
       "      <th>acquir</th>\n",
       "      <th>across</th>\n",
       "      <th>act</th>\n",
       "      <th>ad</th>\n",
       "      <th>...</th>\n",
       "      <th>whol</th>\n",
       "      <th>wirh</th>\n",
       "      <th>wish</th>\n",
       "      <th>without</th>\n",
       "      <th>work</th>\n",
       "      <th>workshop</th>\n",
       "      <th>would</th>\n",
       "      <th>writ</th>\n",
       "      <th>ye</th>\n",
       "      <th>yr</th>\n",
       "    </tr>\n",
       "  </thead>\n",
       "  <tbody>\n",
       "    <tr>\n",
       "      <th>0</th>\n",
       "      <td>0.0</td>\n",
       "      <td>0.0</td>\n",
       "      <td>0.0</td>\n",
       "      <td>0.0</td>\n",
       "      <td>0.0</td>\n",
       "      <td>0.000000</td>\n",
       "      <td>0.0</td>\n",
       "      <td>0.0</td>\n",
       "      <td>0.0</td>\n",
       "      <td>0.0</td>\n",
       "      <td>...</td>\n",
       "      <td>0.0</td>\n",
       "      <td>0.0</td>\n",
       "      <td>0.0</td>\n",
       "      <td>0.0</td>\n",
       "      <td>0.0</td>\n",
       "      <td>0.0</td>\n",
       "      <td>0.0</td>\n",
       "      <td>0.0</td>\n",
       "      <td>0.0</td>\n",
       "      <td>0.0</td>\n",
       "    </tr>\n",
       "    <tr>\n",
       "      <th>1</th>\n",
       "      <td>0.0</td>\n",
       "      <td>0.0</td>\n",
       "      <td>0.0</td>\n",
       "      <td>0.0</td>\n",
       "      <td>0.0</td>\n",
       "      <td>0.000000</td>\n",
       "      <td>0.0</td>\n",
       "      <td>0.0</td>\n",
       "      <td>0.0</td>\n",
       "      <td>0.0</td>\n",
       "      <td>...</td>\n",
       "      <td>0.0</td>\n",
       "      <td>0.0</td>\n",
       "      <td>0.0</td>\n",
       "      <td>0.0</td>\n",
       "      <td>0.0</td>\n",
       "      <td>0.0</td>\n",
       "      <td>0.0</td>\n",
       "      <td>0.0</td>\n",
       "      <td>0.0</td>\n",
       "      <td>0.0</td>\n",
       "    </tr>\n",
       "    <tr>\n",
       "      <th>2</th>\n",
       "      <td>0.0</td>\n",
       "      <td>0.0</td>\n",
       "      <td>0.0</td>\n",
       "      <td>0.0</td>\n",
       "      <td>0.0</td>\n",
       "      <td>0.000000</td>\n",
       "      <td>0.0</td>\n",
       "      <td>0.0</td>\n",
       "      <td>0.0</td>\n",
       "      <td>0.0</td>\n",
       "      <td>...</td>\n",
       "      <td>0.0</td>\n",
       "      <td>0.0</td>\n",
       "      <td>0.0</td>\n",
       "      <td>0.0</td>\n",
       "      <td>0.0</td>\n",
       "      <td>0.0</td>\n",
       "      <td>0.0</td>\n",
       "      <td>0.0</td>\n",
       "      <td>0.0</td>\n",
       "      <td>0.0</td>\n",
       "    </tr>\n",
       "    <tr>\n",
       "      <th>3</th>\n",
       "      <td>0.0</td>\n",
       "      <td>0.0</td>\n",
       "      <td>0.0</td>\n",
       "      <td>0.0</td>\n",
       "      <td>0.0</td>\n",
       "      <td>0.000000</td>\n",
       "      <td>0.0</td>\n",
       "      <td>0.0</td>\n",
       "      <td>0.0</td>\n",
       "      <td>0.0</td>\n",
       "      <td>...</td>\n",
       "      <td>0.0</td>\n",
       "      <td>0.0</td>\n",
       "      <td>0.0</td>\n",
       "      <td>0.0</td>\n",
       "      <td>0.0</td>\n",
       "      <td>0.0</td>\n",
       "      <td>0.0</td>\n",
       "      <td>0.0</td>\n",
       "      <td>0.0</td>\n",
       "      <td>0.0</td>\n",
       "    </tr>\n",
       "    <tr>\n",
       "      <th>4</th>\n",
       "      <td>0.0</td>\n",
       "      <td>0.0</td>\n",
       "      <td>0.0</td>\n",
       "      <td>0.0</td>\n",
       "      <td>0.0</td>\n",
       "      <td>0.000000</td>\n",
       "      <td>0.0</td>\n",
       "      <td>0.0</td>\n",
       "      <td>0.0</td>\n",
       "      <td>0.0</td>\n",
       "      <td>...</td>\n",
       "      <td>0.0</td>\n",
       "      <td>0.0</td>\n",
       "      <td>0.0</td>\n",
       "      <td>0.0</td>\n",
       "      <td>0.0</td>\n",
       "      <td>0.0</td>\n",
       "      <td>0.0</td>\n",
       "      <td>0.0</td>\n",
       "      <td>0.0</td>\n",
       "      <td>0.0</td>\n",
       "    </tr>\n",
       "    <tr>\n",
       "      <th>...</th>\n",
       "      <td>...</td>\n",
       "      <td>...</td>\n",
       "      <td>...</td>\n",
       "      <td>...</td>\n",
       "      <td>...</td>\n",
       "      <td>...</td>\n",
       "      <td>...</td>\n",
       "      <td>...</td>\n",
       "      <td>...</td>\n",
       "      <td>...</td>\n",
       "      <td>...</td>\n",
       "      <td>...</td>\n",
       "      <td>...</td>\n",
       "      <td>...</td>\n",
       "      <td>...</td>\n",
       "      <td>...</td>\n",
       "      <td>...</td>\n",
       "      <td>...</td>\n",
       "      <td>...</td>\n",
       "      <td>...</td>\n",
       "      <td>...</td>\n",
       "    </tr>\n",
       "    <tr>\n",
       "      <th>428</th>\n",
       "      <td>0.0</td>\n",
       "      <td>0.0</td>\n",
       "      <td>0.0</td>\n",
       "      <td>0.0</td>\n",
       "      <td>0.0</td>\n",
       "      <td>0.000000</td>\n",
       "      <td>0.0</td>\n",
       "      <td>0.0</td>\n",
       "      <td>0.0</td>\n",
       "      <td>0.0</td>\n",
       "      <td>...</td>\n",
       "      <td>0.0</td>\n",
       "      <td>0.0</td>\n",
       "      <td>0.0</td>\n",
       "      <td>0.0</td>\n",
       "      <td>0.0</td>\n",
       "      <td>0.0</td>\n",
       "      <td>0.0</td>\n",
       "      <td>0.0</td>\n",
       "      <td>0.0</td>\n",
       "      <td>0.0</td>\n",
       "    </tr>\n",
       "    <tr>\n",
       "      <th>429</th>\n",
       "      <td>0.0</td>\n",
       "      <td>0.0</td>\n",
       "      <td>0.0</td>\n",
       "      <td>0.0</td>\n",
       "      <td>0.0</td>\n",
       "      <td>0.519592</td>\n",
       "      <td>0.0</td>\n",
       "      <td>0.0</td>\n",
       "      <td>0.0</td>\n",
       "      <td>0.0</td>\n",
       "      <td>...</td>\n",
       "      <td>0.0</td>\n",
       "      <td>0.0</td>\n",
       "      <td>0.0</td>\n",
       "      <td>0.0</td>\n",
       "      <td>0.0</td>\n",
       "      <td>0.0</td>\n",
       "      <td>0.0</td>\n",
       "      <td>0.0</td>\n",
       "      <td>0.0</td>\n",
       "      <td>0.0</td>\n",
       "    </tr>\n",
       "    <tr>\n",
       "      <th>430</th>\n",
       "      <td>0.0</td>\n",
       "      <td>0.0</td>\n",
       "      <td>0.0</td>\n",
       "      <td>0.0</td>\n",
       "      <td>0.0</td>\n",
       "      <td>0.000000</td>\n",
       "      <td>0.0</td>\n",
       "      <td>0.0</td>\n",
       "      <td>0.0</td>\n",
       "      <td>0.0</td>\n",
       "      <td>...</td>\n",
       "      <td>0.0</td>\n",
       "      <td>0.0</td>\n",
       "      <td>0.0</td>\n",
       "      <td>0.0</td>\n",
       "      <td>0.0</td>\n",
       "      <td>0.0</td>\n",
       "      <td>0.0</td>\n",
       "      <td>0.0</td>\n",
       "      <td>0.0</td>\n",
       "      <td>0.0</td>\n",
       "    </tr>\n",
       "    <tr>\n",
       "      <th>431</th>\n",
       "      <td>0.0</td>\n",
       "      <td>0.0</td>\n",
       "      <td>0.0</td>\n",
       "      <td>0.0</td>\n",
       "      <td>0.0</td>\n",
       "      <td>0.000000</td>\n",
       "      <td>0.0</td>\n",
       "      <td>0.0</td>\n",
       "      <td>0.0</td>\n",
       "      <td>0.0</td>\n",
       "      <td>...</td>\n",
       "      <td>0.0</td>\n",
       "      <td>0.0</td>\n",
       "      <td>0.0</td>\n",
       "      <td>0.0</td>\n",
       "      <td>0.0</td>\n",
       "      <td>0.0</td>\n",
       "      <td>0.0</td>\n",
       "      <td>0.0</td>\n",
       "      <td>0.0</td>\n",
       "      <td>0.0</td>\n",
       "    </tr>\n",
       "    <tr>\n",
       "      <th>432</th>\n",
       "      <td>0.0</td>\n",
       "      <td>0.0</td>\n",
       "      <td>0.0</td>\n",
       "      <td>0.0</td>\n",
       "      <td>0.0</td>\n",
       "      <td>0.000000</td>\n",
       "      <td>0.0</td>\n",
       "      <td>0.0</td>\n",
       "      <td>0.0</td>\n",
       "      <td>0.0</td>\n",
       "      <td>...</td>\n",
       "      <td>0.0</td>\n",
       "      <td>0.0</td>\n",
       "      <td>0.0</td>\n",
       "      <td>0.0</td>\n",
       "      <td>0.0</td>\n",
       "      <td>0.0</td>\n",
       "      <td>0.0</td>\n",
       "      <td>0.0</td>\n",
       "      <td>0.0</td>\n",
       "      <td>0.0</td>\n",
       "    </tr>\n",
       "  </tbody>\n",
       "</table>\n",
       "<p>433 rows × 598 columns</p>\n",
       "</div>"
      ],
      "text/plain": [
       "      ab  abba  abl  access  accommod       acn  acquir  across  act   ad  \\\n",
       "0    0.0   0.0  0.0     0.0       0.0  0.000000     0.0     0.0  0.0  0.0   \n",
       "1    0.0   0.0  0.0     0.0       0.0  0.000000     0.0     0.0  0.0  0.0   \n",
       "2    0.0   0.0  0.0     0.0       0.0  0.000000     0.0     0.0  0.0  0.0   \n",
       "3    0.0   0.0  0.0     0.0       0.0  0.000000     0.0     0.0  0.0  0.0   \n",
       "4    0.0   0.0  0.0     0.0       0.0  0.000000     0.0     0.0  0.0  0.0   \n",
       "..   ...   ...  ...     ...       ...       ...     ...     ...  ...  ...   \n",
       "428  0.0   0.0  0.0     0.0       0.0  0.000000     0.0     0.0  0.0  0.0   \n",
       "429  0.0   0.0  0.0     0.0       0.0  0.519592     0.0     0.0  0.0  0.0   \n",
       "430  0.0   0.0  0.0     0.0       0.0  0.000000     0.0     0.0  0.0  0.0   \n",
       "431  0.0   0.0  0.0     0.0       0.0  0.000000     0.0     0.0  0.0  0.0   \n",
       "432  0.0   0.0  0.0     0.0       0.0  0.000000     0.0     0.0  0.0  0.0   \n",
       "\n",
       "     ...  whol  wirh  wish  without  work  workshop  would  writ   ye   yr  \n",
       "0    ...   0.0   0.0   0.0      0.0   0.0       0.0    0.0   0.0  0.0  0.0  \n",
       "1    ...   0.0   0.0   0.0      0.0   0.0       0.0    0.0   0.0  0.0  0.0  \n",
       "2    ...   0.0   0.0   0.0      0.0   0.0       0.0    0.0   0.0  0.0  0.0  \n",
       "3    ...   0.0   0.0   0.0      0.0   0.0       0.0    0.0   0.0  0.0  0.0  \n",
       "4    ...   0.0   0.0   0.0      0.0   0.0       0.0    0.0   0.0  0.0  0.0  \n",
       "..   ...   ...   ...   ...      ...   ...       ...    ...   ...  ...  ...  \n",
       "428  ...   0.0   0.0   0.0      0.0   0.0       0.0    0.0   0.0  0.0  0.0  \n",
       "429  ...   0.0   0.0   0.0      0.0   0.0       0.0    0.0   0.0  0.0  0.0  \n",
       "430  ...   0.0   0.0   0.0      0.0   0.0       0.0    0.0   0.0  0.0  0.0  \n",
       "431  ...   0.0   0.0   0.0      0.0   0.0       0.0    0.0   0.0  0.0  0.0  \n",
       "432  ...   0.0   0.0   0.0      0.0   0.0       0.0    0.0   0.0  0.0  0.0  \n",
       "\n",
       "[433 rows x 598 columns]"
      ]
     },
     "execution_count": 131,
     "metadata": {},
     "output_type": "execute_result"
    }
   ],
   "source": [
    "df_tfidf_null_l_stem = pd.DataFrame(text.toarray(), columns=tfidf.get_feature_names_out())\n",
    "df_tfidf_null_l_stem"
   ]
  },
  {
   "cell_type": "markdown",
   "id": "376a5c78",
   "metadata": {},
   "source": [
    "## Faced issue with total feature required while running Logistic regression, so I created dummy data"
   ]
  },
  {
   "cell_type": "code",
   "execution_count": 132,
   "id": "ac224697",
   "metadata": {},
   "outputs": [],
   "source": [
    "col = []\n",
    "\n",
    "for i in range(1,497):\n",
    "    i = str(i)\n",
    "    col_num = \"ab\"+i\n",
    "    col.append(col_num)\n",
    "    "
   ]
  },
  {
   "cell_type": "code",
   "execution_count": 133,
   "id": "8caaf0fa",
   "metadata": {},
   "outputs": [
    {
     "data": {
      "text/html": [
       "<div>\n",
       "<style scoped>\n",
       "    .dataframe tbody tr th:only-of-type {\n",
       "        vertical-align: middle;\n",
       "    }\n",
       "\n",
       "    .dataframe tbody tr th {\n",
       "        vertical-align: top;\n",
       "    }\n",
       "\n",
       "    .dataframe thead th {\n",
       "        text-align: right;\n",
       "    }\n",
       "</style>\n",
       "<table border=\"1\" class=\"dataframe\">\n",
       "  <thead>\n",
       "    <tr style=\"text-align: right;\">\n",
       "      <th></th>\n",
       "      <th>ab1</th>\n",
       "      <th>ab2</th>\n",
       "      <th>ab3</th>\n",
       "      <th>ab4</th>\n",
       "      <th>ab5</th>\n",
       "      <th>ab6</th>\n",
       "      <th>ab7</th>\n",
       "      <th>ab8</th>\n",
       "      <th>ab9</th>\n",
       "      <th>ab10</th>\n",
       "      <th>...</th>\n",
       "      <th>ab487</th>\n",
       "      <th>ab488</th>\n",
       "      <th>ab489</th>\n",
       "      <th>ab490</th>\n",
       "      <th>ab491</th>\n",
       "      <th>ab492</th>\n",
       "      <th>ab493</th>\n",
       "      <th>ab494</th>\n",
       "      <th>ab495</th>\n",
       "      <th>ab496</th>\n",
       "    </tr>\n",
       "  </thead>\n",
       "  <tbody>\n",
       "    <tr>\n",
       "      <th>0</th>\n",
       "      <td>0</td>\n",
       "      <td>0</td>\n",
       "      <td>0</td>\n",
       "      <td>0</td>\n",
       "      <td>0</td>\n",
       "      <td>0</td>\n",
       "      <td>0</td>\n",
       "      <td>0</td>\n",
       "      <td>0</td>\n",
       "      <td>0</td>\n",
       "      <td>...</td>\n",
       "      <td>0</td>\n",
       "      <td>0</td>\n",
       "      <td>0</td>\n",
       "      <td>0</td>\n",
       "      <td>0</td>\n",
       "      <td>0</td>\n",
       "      <td>0</td>\n",
       "      <td>0</td>\n",
       "      <td>0</td>\n",
       "      <td>0</td>\n",
       "    </tr>\n",
       "    <tr>\n",
       "      <th>1</th>\n",
       "      <td>0</td>\n",
       "      <td>0</td>\n",
       "      <td>0</td>\n",
       "      <td>0</td>\n",
       "      <td>0</td>\n",
       "      <td>0</td>\n",
       "      <td>0</td>\n",
       "      <td>0</td>\n",
       "      <td>0</td>\n",
       "      <td>0</td>\n",
       "      <td>...</td>\n",
       "      <td>0</td>\n",
       "      <td>0</td>\n",
       "      <td>0</td>\n",
       "      <td>0</td>\n",
       "      <td>0</td>\n",
       "      <td>0</td>\n",
       "      <td>0</td>\n",
       "      <td>0</td>\n",
       "      <td>0</td>\n",
       "      <td>0</td>\n",
       "    </tr>\n",
       "    <tr>\n",
       "      <th>2</th>\n",
       "      <td>0</td>\n",
       "      <td>0</td>\n",
       "      <td>0</td>\n",
       "      <td>0</td>\n",
       "      <td>0</td>\n",
       "      <td>0</td>\n",
       "      <td>0</td>\n",
       "      <td>0</td>\n",
       "      <td>0</td>\n",
       "      <td>0</td>\n",
       "      <td>...</td>\n",
       "      <td>0</td>\n",
       "      <td>0</td>\n",
       "      <td>0</td>\n",
       "      <td>0</td>\n",
       "      <td>0</td>\n",
       "      <td>0</td>\n",
       "      <td>0</td>\n",
       "      <td>0</td>\n",
       "      <td>0</td>\n",
       "      <td>0</td>\n",
       "    </tr>\n",
       "    <tr>\n",
       "      <th>3</th>\n",
       "      <td>0</td>\n",
       "      <td>0</td>\n",
       "      <td>0</td>\n",
       "      <td>0</td>\n",
       "      <td>0</td>\n",
       "      <td>0</td>\n",
       "      <td>0</td>\n",
       "      <td>0</td>\n",
       "      <td>0</td>\n",
       "      <td>0</td>\n",
       "      <td>...</td>\n",
       "      <td>0</td>\n",
       "      <td>0</td>\n",
       "      <td>0</td>\n",
       "      <td>0</td>\n",
       "      <td>0</td>\n",
       "      <td>0</td>\n",
       "      <td>0</td>\n",
       "      <td>0</td>\n",
       "      <td>0</td>\n",
       "      <td>0</td>\n",
       "    </tr>\n",
       "    <tr>\n",
       "      <th>4</th>\n",
       "      <td>0</td>\n",
       "      <td>0</td>\n",
       "      <td>0</td>\n",
       "      <td>0</td>\n",
       "      <td>0</td>\n",
       "      <td>0</td>\n",
       "      <td>0</td>\n",
       "      <td>0</td>\n",
       "      <td>0</td>\n",
       "      <td>0</td>\n",
       "      <td>...</td>\n",
       "      <td>0</td>\n",
       "      <td>0</td>\n",
       "      <td>0</td>\n",
       "      <td>0</td>\n",
       "      <td>0</td>\n",
       "      <td>0</td>\n",
       "      <td>0</td>\n",
       "      <td>0</td>\n",
       "      <td>0</td>\n",
       "      <td>0</td>\n",
       "    </tr>\n",
       "  </tbody>\n",
       "</table>\n",
       "<p>5 rows × 496 columns</p>\n",
       "</div>"
      ],
      "text/plain": [
       "   ab1  ab2  ab3  ab4  ab5  ab6  ab7  ab8  ab9  ab10  ...  ab487  ab488  \\\n",
       "0    0    0    0    0    0    0    0    0    0     0  ...      0      0   \n",
       "1    0    0    0    0    0    0    0    0    0     0  ...      0      0   \n",
       "2    0    0    0    0    0    0    0    0    0     0  ...      0      0   \n",
       "3    0    0    0    0    0    0    0    0    0     0  ...      0      0   \n",
       "4    0    0    0    0    0    0    0    0    0     0  ...      0      0   \n",
       "\n",
       "   ab489  ab490  ab491  ab492  ab493  ab494  ab495  ab496  \n",
       "0      0      0      0      0      0      0      0      0  \n",
       "1      0      0      0      0      0      0      0      0  \n",
       "2      0      0      0      0      0      0      0      0  \n",
       "3      0      0      0      0      0      0      0      0  \n",
       "4      0      0      0      0      0      0      0      0  \n",
       "\n",
       "[5 rows x 496 columns]"
      ]
     },
     "execution_count": 133,
     "metadata": {},
     "output_type": "execute_result"
    }
   ],
   "source": [
    "d = pd.DataFrame(0, index=np.arange(len(df_null)), columns=col)\n",
    "d.head()"
   ]
  },
  {
   "cell_type": "code",
   "execution_count": 134,
   "id": "df298b50",
   "metadata": {},
   "outputs": [
    {
     "data": {
      "text/html": [
       "<div>\n",
       "<style scoped>\n",
       "    .dataframe tbody tr th:only-of-type {\n",
       "        vertical-align: middle;\n",
       "    }\n",
       "\n",
       "    .dataframe tbody tr th {\n",
       "        vertical-align: top;\n",
       "    }\n",
       "\n",
       "    .dataframe thead th {\n",
       "        text-align: right;\n",
       "    }\n",
       "</style>\n",
       "<table border=\"1\" class=\"dataframe\">\n",
       "  <thead>\n",
       "    <tr style=\"text-align: right;\">\n",
       "      <th></th>\n",
       "      <th>ab</th>\n",
       "      <th>abba</th>\n",
       "      <th>abl</th>\n",
       "      <th>access</th>\n",
       "      <th>accommod</th>\n",
       "      <th>acn</th>\n",
       "      <th>acquir</th>\n",
       "      <th>across</th>\n",
       "      <th>act</th>\n",
       "      <th>ad</th>\n",
       "      <th>...</th>\n",
       "      <th>ab487</th>\n",
       "      <th>ab488</th>\n",
       "      <th>ab489</th>\n",
       "      <th>ab490</th>\n",
       "      <th>ab491</th>\n",
       "      <th>ab492</th>\n",
       "      <th>ab493</th>\n",
       "      <th>ab494</th>\n",
       "      <th>ab495</th>\n",
       "      <th>ab496</th>\n",
       "    </tr>\n",
       "  </thead>\n",
       "  <tbody>\n",
       "    <tr>\n",
       "      <th>0</th>\n",
       "      <td>0.0</td>\n",
       "      <td>0.0</td>\n",
       "      <td>0.0</td>\n",
       "      <td>0.0</td>\n",
       "      <td>0.0</td>\n",
       "      <td>0.000000</td>\n",
       "      <td>0.0</td>\n",
       "      <td>0.0</td>\n",
       "      <td>0.0</td>\n",
       "      <td>0.0</td>\n",
       "      <td>...</td>\n",
       "      <td>0</td>\n",
       "      <td>0</td>\n",
       "      <td>0</td>\n",
       "      <td>0</td>\n",
       "      <td>0</td>\n",
       "      <td>0</td>\n",
       "      <td>0</td>\n",
       "      <td>0</td>\n",
       "      <td>0</td>\n",
       "      <td>0</td>\n",
       "    </tr>\n",
       "    <tr>\n",
       "      <th>1</th>\n",
       "      <td>0.0</td>\n",
       "      <td>0.0</td>\n",
       "      <td>0.0</td>\n",
       "      <td>0.0</td>\n",
       "      <td>0.0</td>\n",
       "      <td>0.000000</td>\n",
       "      <td>0.0</td>\n",
       "      <td>0.0</td>\n",
       "      <td>0.0</td>\n",
       "      <td>0.0</td>\n",
       "      <td>...</td>\n",
       "      <td>0</td>\n",
       "      <td>0</td>\n",
       "      <td>0</td>\n",
       "      <td>0</td>\n",
       "      <td>0</td>\n",
       "      <td>0</td>\n",
       "      <td>0</td>\n",
       "      <td>0</td>\n",
       "      <td>0</td>\n",
       "      <td>0</td>\n",
       "    </tr>\n",
       "    <tr>\n",
       "      <th>2</th>\n",
       "      <td>0.0</td>\n",
       "      <td>0.0</td>\n",
       "      <td>0.0</td>\n",
       "      <td>0.0</td>\n",
       "      <td>0.0</td>\n",
       "      <td>0.000000</td>\n",
       "      <td>0.0</td>\n",
       "      <td>0.0</td>\n",
       "      <td>0.0</td>\n",
       "      <td>0.0</td>\n",
       "      <td>...</td>\n",
       "      <td>0</td>\n",
       "      <td>0</td>\n",
       "      <td>0</td>\n",
       "      <td>0</td>\n",
       "      <td>0</td>\n",
       "      <td>0</td>\n",
       "      <td>0</td>\n",
       "      <td>0</td>\n",
       "      <td>0</td>\n",
       "      <td>0</td>\n",
       "    </tr>\n",
       "    <tr>\n",
       "      <th>3</th>\n",
       "      <td>0.0</td>\n",
       "      <td>0.0</td>\n",
       "      <td>0.0</td>\n",
       "      <td>0.0</td>\n",
       "      <td>0.0</td>\n",
       "      <td>0.000000</td>\n",
       "      <td>0.0</td>\n",
       "      <td>0.0</td>\n",
       "      <td>0.0</td>\n",
       "      <td>0.0</td>\n",
       "      <td>...</td>\n",
       "      <td>0</td>\n",
       "      <td>0</td>\n",
       "      <td>0</td>\n",
       "      <td>0</td>\n",
       "      <td>0</td>\n",
       "      <td>0</td>\n",
       "      <td>0</td>\n",
       "      <td>0</td>\n",
       "      <td>0</td>\n",
       "      <td>0</td>\n",
       "    </tr>\n",
       "    <tr>\n",
       "      <th>4</th>\n",
       "      <td>0.0</td>\n",
       "      <td>0.0</td>\n",
       "      <td>0.0</td>\n",
       "      <td>0.0</td>\n",
       "      <td>0.0</td>\n",
       "      <td>0.000000</td>\n",
       "      <td>0.0</td>\n",
       "      <td>0.0</td>\n",
       "      <td>0.0</td>\n",
       "      <td>0.0</td>\n",
       "      <td>...</td>\n",
       "      <td>0</td>\n",
       "      <td>0</td>\n",
       "      <td>0</td>\n",
       "      <td>0</td>\n",
       "      <td>0</td>\n",
       "      <td>0</td>\n",
       "      <td>0</td>\n",
       "      <td>0</td>\n",
       "      <td>0</td>\n",
       "      <td>0</td>\n",
       "    </tr>\n",
       "    <tr>\n",
       "      <th>...</th>\n",
       "      <td>...</td>\n",
       "      <td>...</td>\n",
       "      <td>...</td>\n",
       "      <td>...</td>\n",
       "      <td>...</td>\n",
       "      <td>...</td>\n",
       "      <td>...</td>\n",
       "      <td>...</td>\n",
       "      <td>...</td>\n",
       "      <td>...</td>\n",
       "      <td>...</td>\n",
       "      <td>...</td>\n",
       "      <td>...</td>\n",
       "      <td>...</td>\n",
       "      <td>...</td>\n",
       "      <td>...</td>\n",
       "      <td>...</td>\n",
       "      <td>...</td>\n",
       "      <td>...</td>\n",
       "      <td>...</td>\n",
       "      <td>...</td>\n",
       "    </tr>\n",
       "    <tr>\n",
       "      <th>428</th>\n",
       "      <td>0.0</td>\n",
       "      <td>0.0</td>\n",
       "      <td>0.0</td>\n",
       "      <td>0.0</td>\n",
       "      <td>0.0</td>\n",
       "      <td>0.000000</td>\n",
       "      <td>0.0</td>\n",
       "      <td>0.0</td>\n",
       "      <td>0.0</td>\n",
       "      <td>0.0</td>\n",
       "      <td>...</td>\n",
       "      <td>0</td>\n",
       "      <td>0</td>\n",
       "      <td>0</td>\n",
       "      <td>0</td>\n",
       "      <td>0</td>\n",
       "      <td>0</td>\n",
       "      <td>0</td>\n",
       "      <td>0</td>\n",
       "      <td>0</td>\n",
       "      <td>0</td>\n",
       "    </tr>\n",
       "    <tr>\n",
       "      <th>429</th>\n",
       "      <td>0.0</td>\n",
       "      <td>0.0</td>\n",
       "      <td>0.0</td>\n",
       "      <td>0.0</td>\n",
       "      <td>0.0</td>\n",
       "      <td>0.519592</td>\n",
       "      <td>0.0</td>\n",
       "      <td>0.0</td>\n",
       "      <td>0.0</td>\n",
       "      <td>0.0</td>\n",
       "      <td>...</td>\n",
       "      <td>0</td>\n",
       "      <td>0</td>\n",
       "      <td>0</td>\n",
       "      <td>0</td>\n",
       "      <td>0</td>\n",
       "      <td>0</td>\n",
       "      <td>0</td>\n",
       "      <td>0</td>\n",
       "      <td>0</td>\n",
       "      <td>0</td>\n",
       "    </tr>\n",
       "    <tr>\n",
       "      <th>430</th>\n",
       "      <td>0.0</td>\n",
       "      <td>0.0</td>\n",
       "      <td>0.0</td>\n",
       "      <td>0.0</td>\n",
       "      <td>0.0</td>\n",
       "      <td>0.000000</td>\n",
       "      <td>0.0</td>\n",
       "      <td>0.0</td>\n",
       "      <td>0.0</td>\n",
       "      <td>0.0</td>\n",
       "      <td>...</td>\n",
       "      <td>0</td>\n",
       "      <td>0</td>\n",
       "      <td>0</td>\n",
       "      <td>0</td>\n",
       "      <td>0</td>\n",
       "      <td>0</td>\n",
       "      <td>0</td>\n",
       "      <td>0</td>\n",
       "      <td>0</td>\n",
       "      <td>0</td>\n",
       "    </tr>\n",
       "    <tr>\n",
       "      <th>431</th>\n",
       "      <td>0.0</td>\n",
       "      <td>0.0</td>\n",
       "      <td>0.0</td>\n",
       "      <td>0.0</td>\n",
       "      <td>0.0</td>\n",
       "      <td>0.000000</td>\n",
       "      <td>0.0</td>\n",
       "      <td>0.0</td>\n",
       "      <td>0.0</td>\n",
       "      <td>0.0</td>\n",
       "      <td>...</td>\n",
       "      <td>0</td>\n",
       "      <td>0</td>\n",
       "      <td>0</td>\n",
       "      <td>0</td>\n",
       "      <td>0</td>\n",
       "      <td>0</td>\n",
       "      <td>0</td>\n",
       "      <td>0</td>\n",
       "      <td>0</td>\n",
       "      <td>0</td>\n",
       "    </tr>\n",
       "    <tr>\n",
       "      <th>432</th>\n",
       "      <td>0.0</td>\n",
       "      <td>0.0</td>\n",
       "      <td>0.0</td>\n",
       "      <td>0.0</td>\n",
       "      <td>0.0</td>\n",
       "      <td>0.000000</td>\n",
       "      <td>0.0</td>\n",
       "      <td>0.0</td>\n",
       "      <td>0.0</td>\n",
       "      <td>0.0</td>\n",
       "      <td>...</td>\n",
       "      <td>0</td>\n",
       "      <td>0</td>\n",
       "      <td>0</td>\n",
       "      <td>0</td>\n",
       "      <td>0</td>\n",
       "      <td>0</td>\n",
       "      <td>0</td>\n",
       "      <td>0</td>\n",
       "      <td>0</td>\n",
       "      <td>0</td>\n",
       "    </tr>\n",
       "  </tbody>\n",
       "</table>\n",
       "<p>433 rows × 1094 columns</p>\n",
       "</div>"
      ],
      "text/plain": [
       "      ab  abba  abl  access  accommod       acn  acquir  across  act   ad  \\\n",
       "0    0.0   0.0  0.0     0.0       0.0  0.000000     0.0     0.0  0.0  0.0   \n",
       "1    0.0   0.0  0.0     0.0       0.0  0.000000     0.0     0.0  0.0  0.0   \n",
       "2    0.0   0.0  0.0     0.0       0.0  0.000000     0.0     0.0  0.0  0.0   \n",
       "3    0.0   0.0  0.0     0.0       0.0  0.000000     0.0     0.0  0.0  0.0   \n",
       "4    0.0   0.0  0.0     0.0       0.0  0.000000     0.0     0.0  0.0  0.0   \n",
       "..   ...   ...  ...     ...       ...       ...     ...     ...  ...  ...   \n",
       "428  0.0   0.0  0.0     0.0       0.0  0.000000     0.0     0.0  0.0  0.0   \n",
       "429  0.0   0.0  0.0     0.0       0.0  0.519592     0.0     0.0  0.0  0.0   \n",
       "430  0.0   0.0  0.0     0.0       0.0  0.000000     0.0     0.0  0.0  0.0   \n",
       "431  0.0   0.0  0.0     0.0       0.0  0.000000     0.0     0.0  0.0  0.0   \n",
       "432  0.0   0.0  0.0     0.0       0.0  0.000000     0.0     0.0  0.0  0.0   \n",
       "\n",
       "     ...  ab487  ab488  ab489  ab490  ab491  ab492  ab493  ab494  ab495  ab496  \n",
       "0    ...      0      0      0      0      0      0      0      0      0      0  \n",
       "1    ...      0      0      0      0      0      0      0      0      0      0  \n",
       "2    ...      0      0      0      0      0      0      0      0      0      0  \n",
       "3    ...      0      0      0      0      0      0      0      0      0      0  \n",
       "4    ...      0      0      0      0      0      0      0      0      0      0  \n",
       "..   ...    ...    ...    ...    ...    ...    ...    ...    ...    ...    ...  \n",
       "428  ...      0      0      0      0      0      0      0      0      0      0  \n",
       "429  ...      0      0      0      0      0      0      0      0      0      0  \n",
       "430  ...      0      0      0      0      0      0      0      0      0      0  \n",
       "431  ...      0      0      0      0      0      0      0      0      0      0  \n",
       "432  ...      0      0      0      0      0      0      0      0      0      0  \n",
       "\n",
       "[433 rows x 1094 columns]"
      ]
     },
     "execution_count": 134,
     "metadata": {},
     "output_type": "execute_result"
    }
   ],
   "source": [
    "df_tfidf_null_l_stem = result = pd.concat([df_tfidf_null_l_stem, d], axis=1)\n",
    "df_tfidf_null_l_stem"
   ]
  },
  {
   "cell_type": "markdown",
   "id": "eff33f68",
   "metadata": {},
   "source": [
    "## Logistic Regression"
   ]
  },
  {
   "cell_type": "code",
   "execution_count": 135,
   "id": "31c694d0",
   "metadata": {
    "scrolled": true
   },
   "outputs": [],
   "source": [
    "y_pred_lr = lr.predict(df_tfidf_null_l_stem)"
   ]
  },
  {
   "cell_type": "code",
   "execution_count": 136,
   "id": "f75a71d7",
   "metadata": {
    "scrolled": true
   },
   "outputs": [
    {
     "data": {
      "text/plain": [
       "433"
      ]
     },
     "execution_count": 136,
     "metadata": {},
     "output_type": "execute_result"
    }
   ],
   "source": [
    "len(y_pred_lr)"
   ]
  },
  {
   "cell_type": "code",
   "execution_count": 137,
   "id": "ca823436",
   "metadata": {},
   "outputs": [
    {
     "data": {
      "text/plain": [
       "array([1, 2, 2, 1, 1, 1, 1, 1, 2, 1, 1, 2, 1, 1, 1, 1, 1, 2, 1, 2, 1, 1,\n",
       "       1, 1, 1, 2, 1, 1, 1, 1, 1, 1, 1, 1, 0, 1, 1, 1, 2, 1, 1, 1, 1, 1,\n",
       "       1, 1, 1, 1, 1, 2, 1, 1, 1, 1, 1, 1, 1, 1, 1, 1, 1, 1, 1, 1, 1, 1,\n",
       "       1, 1, 1, 1, 1, 1, 1, 1, 1, 1, 1, 1, 1, 1, 1, 1, 2, 1, 1, 1, 2, 1,\n",
       "       1, 1, 1, 1, 1, 1, 1, 2, 1, 1, 1, 1, 1, 2, 1, 1, 1, 1, 1, 1, 1, 1,\n",
       "       1, 1, 1, 1, 2, 2, 1, 1, 1, 1, 1, 1, 1, 1, 1, 2, 1, 1, 1, 1, 1, 1,\n",
       "       1, 1, 1, 1, 1, 1, 2, 1, 1, 1, 1, 1, 1, 1, 1, 1, 2, 1, 1, 1, 1, 1,\n",
       "       1, 1, 1, 1, 1, 1, 1, 1, 1, 1, 1, 1, 1, 1, 1, 1, 2, 1, 1, 2, 1, 1,\n",
       "       1, 1, 1, 1, 1, 1, 1, 1, 1, 1, 1, 1, 1, 1, 2, 1, 1, 1, 1, 1, 1, 1,\n",
       "       1, 1, 1, 1, 2, 1, 1, 1, 1, 1, 1, 1, 1, 1, 1, 1, 1, 1, 1, 1, 1, 1,\n",
       "       1, 1, 1, 1, 1, 1, 1, 1, 1, 1, 1, 1, 1, 1, 1, 1, 1, 1, 1, 2, 2, 1,\n",
       "       1, 1, 1, 1, 1, 1, 1, 1, 1, 1, 1, 1, 1, 1, 1, 1, 1, 1, 1, 1, 1, 1,\n",
       "       1, 1, 1, 1, 1, 1, 1, 1, 1, 1, 2, 1, 1, 1, 1, 2, 1, 1, 1, 1, 1, 1,\n",
       "       1, 1, 1, 1, 1, 1, 1, 1, 1, 1, 1, 1, 1, 1, 1, 1, 2, 1, 1, 2, 2, 1,\n",
       "       2, 1, 1, 1, 1, 1, 1, 1, 1, 1, 1, 1, 1, 2, 1, 1, 1, 1, 2, 1, 1, 1,\n",
       "       1, 1, 1, 1, 1, 1, 1, 1, 2, 1, 1, 1, 1, 1, 1, 1, 1, 1, 1, 1, 1, 1,\n",
       "       1, 1, 1, 1, 1, 1, 1, 1, 2, 2, 2, 1, 2, 1, 2, 1, 1, 1, 1, 1, 1, 1,\n",
       "       2, 1, 1, 1, 1, 1, 2, 1, 1, 1, 1, 1, 1, 1, 1, 2, 2, 1, 1, 1, 1, 2,\n",
       "       1, 1, 1, 2, 1, 1, 1, 1, 1, 0, 1, 2, 1, 1, 1, 1, 1, 1, 1, 2, 1, 1,\n",
       "       1, 1, 2, 1, 2, 1, 1, 1, 1, 1, 1, 1, 1, 1, 2])"
      ]
     },
     "execution_count": 137,
     "metadata": {},
     "output_type": "execute_result"
    }
   ],
   "source": [
    "y_pred_lr"
   ]
  },
  {
   "cell_type": "code",
   "execution_count": 138,
   "id": "6eebe611",
   "metadata": {},
   "outputs": [],
   "source": [
    "df_null['lr_predect'] = y_pred_lr"
   ]
  },
  {
   "cell_type": "code",
   "execution_count": 139,
   "id": "b3586b33",
   "metadata": {},
   "outputs": [
    {
     "data": {
      "text/html": [
       "<div>\n",
       "<style scoped>\n",
       "    .dataframe tbody tr th:only-of-type {\n",
       "        vertical-align: middle;\n",
       "    }\n",
       "\n",
       "    .dataframe tbody tr th {\n",
       "        vertical-align: top;\n",
       "    }\n",
       "\n",
       "    .dataframe thead th {\n",
       "        text-align: right;\n",
       "    }\n",
       "</style>\n",
       "<table border=\"1\" class=\"dataframe\">\n",
       "  <thead>\n",
       "    <tr style=\"text-align: right;\">\n",
       "      <th></th>\n",
       "      <th>comment</th>\n",
       "      <th>len</th>\n",
       "      <th>l_stem</th>\n",
       "      <th>lr_predect</th>\n",
       "    </tr>\n",
       "  </thead>\n",
       "  <tbody>\n",
       "    <tr>\n",
       "      <th>9</th>\n",
       "      <td>Maybe a recording will allow the participants ...</td>\n",
       "      <td>89</td>\n",
       "      <td>[particul, mayb, particip, top, allow, back, r...</td>\n",
       "      <td>1</td>\n",
       "    </tr>\n",
       "    <tr>\n",
       "      <th>22</th>\n",
       "      <td>Excellent training on new technology and learn...</td>\n",
       "      <td>63</td>\n",
       "      <td>[many, excel, learnt, new, insight, train, tec...</td>\n",
       "      <td>2</td>\n",
       "    </tr>\n",
       "    <tr>\n",
       "      <th>26</th>\n",
       "      <td>it's very long, and the last part is the most ...</td>\n",
       "      <td>115</td>\n",
       "      <td>[quick, tim, import, part, pref, last, long, mak]</td>\n",
       "      <td>2</td>\n",
       "    </tr>\n",
       "    <tr>\n",
       "      <th>28</th>\n",
       "      <td>Thanks a lot for the great and interesting tra...</td>\n",
       "      <td>85</td>\n",
       "      <td>[gre, lot, interest, thank, apprecy, much, tra...</td>\n",
       "      <td>1</td>\n",
       "    </tr>\n",
       "    <tr>\n",
       "      <th>29</th>\n",
       "      <td>Excellent session. Maybe spread over two days ...</td>\n",
       "      <td>94</td>\n",
       "      <td>[mayb, pract, excel, see, spread, sess, two, t...</td>\n",
       "      <td>1</td>\n",
       "    </tr>\n",
       "    <tr>\n",
       "      <th>...</th>\n",
       "      <td>...</td>\n",
       "      <td>...</td>\n",
       "      <td>...</td>\n",
       "      <td>...</td>\n",
       "    </tr>\n",
       "    <tr>\n",
       "      <th>2309</th>\n",
       "      <td>Great knowledge gaind today.</td>\n",
       "      <td>28</td>\n",
       "      <td>[gre, gaind, knowledg, today]</td>\n",
       "      <td>1</td>\n",
       "    </tr>\n",
       "    <tr>\n",
       "      <th>2336</th>\n",
       "      <td>The session was very helpful I will appreciate...</td>\n",
       "      <td>77</td>\n",
       "      <td>[acn, help, ev, sess, apprecy, held, tim]</td>\n",
       "      <td>1</td>\n",
       "    </tr>\n",
       "    <tr>\n",
       "      <th>2387</th>\n",
       "      <td>Great Experience in short time</td>\n",
       "      <td>30</td>\n",
       "      <td>[gre, short, tim, expery]</td>\n",
       "      <td>1</td>\n",
       "    </tr>\n",
       "    <tr>\n",
       "      <th>2388</th>\n",
       "      <td>Tnank You</td>\n",
       "      <td>9</td>\n",
       "      <td>[tnank]</td>\n",
       "      <td>1</td>\n",
       "    </tr>\n",
       "    <tr>\n",
       "      <th>2389</th>\n",
       "      <td>It was Great opportunity to understand more ab...</td>\n",
       "      <td>88</td>\n",
       "      <td>[gre, rol, understand, opportun, network, serv...</td>\n",
       "      <td>2</td>\n",
       "    </tr>\n",
       "  </tbody>\n",
       "</table>\n",
       "<p>433 rows × 4 columns</p>\n",
       "</div>"
      ],
      "text/plain": [
       "                                                comment  len  \\\n",
       "9     Maybe a recording will allow the participants ...   89   \n",
       "22    Excellent training on new technology and learn...   63   \n",
       "26    it's very long, and the last part is the most ...  115   \n",
       "28    Thanks a lot for the great and interesting tra...   85   \n",
       "29    Excellent session. Maybe spread over two days ...   94   \n",
       "...                                                 ...  ...   \n",
       "2309                       Great knowledge gaind today.   28   \n",
       "2336  The session was very helpful I will appreciate...   77   \n",
       "2387                     Great Experience in short time   30   \n",
       "2388                                          Tnank You    9   \n",
       "2389  It was Great opportunity to understand more ab...   88   \n",
       "\n",
       "                                                 l_stem  lr_predect  \n",
       "9     [particul, mayb, particip, top, allow, back, r...           1  \n",
       "22    [many, excel, learnt, new, insight, train, tec...           2  \n",
       "26    [quick, tim, import, part, pref, last, long, mak]           2  \n",
       "28    [gre, lot, interest, thank, apprecy, much, tra...           1  \n",
       "29    [mayb, pract, excel, see, spread, sess, two, t...           1  \n",
       "...                                                 ...         ...  \n",
       "2309                      [gre, gaind, knowledg, today]           1  \n",
       "2336          [acn, help, ev, sess, apprecy, held, tim]           1  \n",
       "2387                          [gre, short, tim, expery]           1  \n",
       "2388                                            [tnank]           1  \n",
       "2389  [gre, rol, understand, opportun, network, serv...           2  \n",
       "\n",
       "[433 rows x 4 columns]"
      ]
     },
     "execution_count": 139,
     "metadata": {},
     "output_type": "execute_result"
    }
   ],
   "source": [
    "df_null"
   ]
  },
  {
   "cell_type": "markdown",
   "id": "9e2cbb38",
   "metadata": {},
   "source": [
    "## Decision Tree "
   ]
  },
  {
   "cell_type": "code",
   "execution_count": 140,
   "id": "5ee4b632",
   "metadata": {
    "scrolled": true
   },
   "outputs": [],
   "source": [
    "y_pred_dt = dt.predict(df_tfidf_null_l_stem)"
   ]
  },
  {
   "cell_type": "code",
   "execution_count": 141,
   "id": "41520073",
   "metadata": {
    "scrolled": true
   },
   "outputs": [
    {
     "data": {
      "text/plain": [
       "433"
      ]
     },
     "execution_count": 141,
     "metadata": {},
     "output_type": "execute_result"
    }
   ],
   "source": [
    "len(y_pred_dt)"
   ]
  },
  {
   "cell_type": "code",
   "execution_count": 142,
   "id": "d788d550",
   "metadata": {},
   "outputs": [
    {
     "data": {
      "text/plain": [
       "array([2, 1, 2, 1, 1, 1, 1, 2, 1, 2, 1, 1, 1, 1, 1, 1, 1, 1, 1, 2, 1, 1,\n",
       "       1, 1, 1, 2, 1, 1, 1, 1, 1, 1, 1, 1, 0, 1, 1, 0, 2, 2, 1, 1, 1, 2,\n",
       "       1, 1, 1, 1, 1, 2, 1, 1, 1, 1, 1, 1, 2, 1, 1, 1, 1, 1, 1, 1, 1, 1,\n",
       "       1, 1, 1, 1, 1, 0, 1, 1, 1, 2, 1, 1, 1, 1, 1, 1, 2, 1, 1, 1, 2, 1,\n",
       "       1, 1, 1, 1, 2, 1, 1, 2, 2, 2, 1, 1, 1, 2, 1, 1, 1, 1, 1, 1, 1, 2,\n",
       "       1, 2, 0, 1, 2, 2, 1, 1, 1, 1, 1, 1, 1, 1, 1, 2, 1, 1, 1, 1, 1, 1,\n",
       "       1, 1, 2, 1, 1, 1, 1, 1, 1, 1, 1, 1, 1, 2, 0, 1, 2, 1, 1, 1, 1, 1,\n",
       "       1, 1, 1, 1, 0, 1, 2, 1, 1, 1, 1, 1, 1, 1, 1, 1, 2, 1, 2, 2, 1, 1,\n",
       "       1, 1, 1, 1, 1, 1, 1, 1, 1, 1, 1, 1, 1, 1, 2, 2, 1, 1, 1, 2, 1, 1,\n",
       "       2, 1, 2, 1, 1, 1, 1, 1, 1, 1, 1, 1, 1, 1, 1, 1, 1, 1, 1, 1, 1, 1,\n",
       "       1, 1, 1, 1, 1, 1, 1, 1, 1, 1, 1, 1, 1, 1, 1, 1, 1, 2, 1, 1, 2, 1,\n",
       "       1, 1, 1, 1, 1, 2, 1, 1, 1, 1, 1, 1, 1, 1, 1, 1, 1, 1, 1, 1, 1, 1,\n",
       "       1, 1, 1, 1, 1, 1, 1, 1, 1, 1, 2, 1, 2, 1, 1, 2, 1, 1, 1, 1, 1, 1,\n",
       "       1, 1, 1, 1, 1, 1, 1, 1, 1, 1, 1, 1, 1, 1, 2, 1, 2, 1, 2, 2, 1, 1,\n",
       "       2, 1, 1, 1, 1, 1, 1, 1, 1, 2, 1, 1, 1, 1, 1, 1, 1, 1, 1, 1, 1, 1,\n",
       "       1, 1, 1, 1, 1, 1, 1, 1, 1, 1, 1, 1, 1, 1, 1, 1, 1, 1, 1, 1, 1, 1,\n",
       "       1, 1, 1, 2, 1, 2, 0, 1, 2, 2, 2, 1, 2, 1, 2, 1, 1, 1, 1, 1, 1, 1,\n",
       "       1, 1, 1, 1, 1, 1, 1, 1, 1, 1, 1, 1, 2, 1, 1, 1, 2, 1, 1, 1, 2, 2,\n",
       "       2, 2, 1, 1, 1, 1, 1, 1, 1, 0, 2, 2, 1, 1, 1, 1, 1, 1, 1, 2, 1, 1,\n",
       "       1, 1, 2, 1, 2, 1, 1, 1, 2, 1, 1, 1, 1, 1, 2])"
      ]
     },
     "execution_count": 142,
     "metadata": {},
     "output_type": "execute_result"
    }
   ],
   "source": [
    "y_pred_dt"
   ]
  },
  {
   "cell_type": "code",
   "execution_count": 143,
   "id": "0f41ac92",
   "metadata": {},
   "outputs": [],
   "source": [
    "df_null['dt_predect'] = y_pred_dt"
   ]
  },
  {
   "cell_type": "markdown",
   "id": "0bbd21d8",
   "metadata": {},
   "source": [
    "## Checking sample manually"
   ]
  },
  {
   "cell_type": "code",
   "execution_count": 144,
   "id": "31eda4a8",
   "metadata": {},
   "outputs": [],
   "source": [
    "df_null.drop(['len', 'l_stem'], inplace=True, axis = 1)"
   ]
  },
  {
   "cell_type": "code",
   "execution_count": 145,
   "id": "9e2e85de",
   "metadata": {},
   "outputs": [
    {
     "data": {
      "text/html": [
       "<div>\n",
       "<style scoped>\n",
       "    .dataframe tbody tr th:only-of-type {\n",
       "        vertical-align: middle;\n",
       "    }\n",
       "\n",
       "    .dataframe tbody tr th {\n",
       "        vertical-align: top;\n",
       "    }\n",
       "\n",
       "    .dataframe thead th {\n",
       "        text-align: right;\n",
       "    }\n",
       "</style>\n",
       "<table border=\"1\" class=\"dataframe\">\n",
       "  <thead>\n",
       "    <tr style=\"text-align: right;\">\n",
       "      <th></th>\n",
       "      <th>comment</th>\n",
       "      <th>lr_predect</th>\n",
       "      <th>dt_predect</th>\n",
       "      <th>variance</th>\n",
       "    </tr>\n",
       "  </thead>\n",
       "  <tbody>\n",
       "    <tr>\n",
       "      <th>9</th>\n",
       "      <td>Maybe a recording will allow the participants ...</td>\n",
       "      <td>1</td>\n",
       "      <td>2</td>\n",
       "      <td>-1</td>\n",
       "    </tr>\n",
       "    <tr>\n",
       "      <th>22</th>\n",
       "      <td>Excellent training on new technology and learn...</td>\n",
       "      <td>2</td>\n",
       "      <td>1</td>\n",
       "      <td>1</td>\n",
       "    </tr>\n",
       "    <tr>\n",
       "      <th>26</th>\n",
       "      <td>it's very long, and the last part is the most ...</td>\n",
       "      <td>2</td>\n",
       "      <td>2</td>\n",
       "      <td>0</td>\n",
       "    </tr>\n",
       "    <tr>\n",
       "      <th>28</th>\n",
       "      <td>Thanks a lot for the great and interesting tra...</td>\n",
       "      <td>1</td>\n",
       "      <td>1</td>\n",
       "      <td>0</td>\n",
       "    </tr>\n",
       "    <tr>\n",
       "      <th>29</th>\n",
       "      <td>Excellent session. Maybe spread over two days ...</td>\n",
       "      <td>1</td>\n",
       "      <td>1</td>\n",
       "      <td>0</td>\n",
       "    </tr>\n",
       "    <tr>\n",
       "      <th>...</th>\n",
       "      <td>...</td>\n",
       "      <td>...</td>\n",
       "      <td>...</td>\n",
       "      <td>...</td>\n",
       "    </tr>\n",
       "    <tr>\n",
       "      <th>2309</th>\n",
       "      <td>Great knowledge gaind today.</td>\n",
       "      <td>1</td>\n",
       "      <td>1</td>\n",
       "      <td>0</td>\n",
       "    </tr>\n",
       "    <tr>\n",
       "      <th>2336</th>\n",
       "      <td>The session was very helpful I will appreciate...</td>\n",
       "      <td>1</td>\n",
       "      <td>1</td>\n",
       "      <td>0</td>\n",
       "    </tr>\n",
       "    <tr>\n",
       "      <th>2387</th>\n",
       "      <td>Great Experience in short time</td>\n",
       "      <td>1</td>\n",
       "      <td>1</td>\n",
       "      <td>0</td>\n",
       "    </tr>\n",
       "    <tr>\n",
       "      <th>2388</th>\n",
       "      <td>Tnank You</td>\n",
       "      <td>1</td>\n",
       "      <td>1</td>\n",
       "      <td>0</td>\n",
       "    </tr>\n",
       "    <tr>\n",
       "      <th>2389</th>\n",
       "      <td>It was Great opportunity to understand more ab...</td>\n",
       "      <td>2</td>\n",
       "      <td>2</td>\n",
       "      <td>0</td>\n",
       "    </tr>\n",
       "  </tbody>\n",
       "</table>\n",
       "<p>433 rows × 4 columns</p>\n",
       "</div>"
      ],
      "text/plain": [
       "                                                comment  lr_predect  \\\n",
       "9     Maybe a recording will allow the participants ...           1   \n",
       "22    Excellent training on new technology and learn...           2   \n",
       "26    it's very long, and the last part is the most ...           2   \n",
       "28    Thanks a lot for the great and interesting tra...           1   \n",
       "29    Excellent session. Maybe spread over two days ...           1   \n",
       "...                                                 ...         ...   \n",
       "2309                       Great knowledge gaind today.           1   \n",
       "2336  The session was very helpful I will appreciate...           1   \n",
       "2387                     Great Experience in short time           1   \n",
       "2388                                          Tnank You           1   \n",
       "2389  It was Great opportunity to understand more ab...           2   \n",
       "\n",
       "      dt_predect  variance  \n",
       "9              2        -1  \n",
       "22             1         1  \n",
       "26             2         0  \n",
       "28             1         0  \n",
       "29             1         0  \n",
       "...          ...       ...  \n",
       "2309           1         0  \n",
       "2336           1         0  \n",
       "2387           1         0  \n",
       "2388           1         0  \n",
       "2389           2         0  \n",
       "\n",
       "[433 rows x 4 columns]"
      ]
     },
     "execution_count": 145,
     "metadata": {},
     "output_type": "execute_result"
    }
   ],
   "source": [
    "df_null['variance'] = df_null['lr_predect'] - df_null['dt_predect']\n",
    "df_null"
   ]
  },
  {
   "cell_type": "code",
   "execution_count": 146,
   "id": "80bb84c6",
   "metadata": {},
   "outputs": [
    {
     "data": {
      "text/plain": [
       "55"
      ]
     },
     "execution_count": 146,
     "metadata": {},
     "output_type": "execute_result"
    }
   ],
   "source": [
    "variance = df_null[df_null['variance']!= 0]\n",
    "len(variance)"
   ]
  },
  {
   "cell_type": "markdown",
   "id": "678d190b",
   "metadata": {},
   "source": [
    "# Both models predicted the same score for 87% of the data, let's check\n",
    "# sample of 55 cases manually"
   ]
  },
  {
   "cell_type": "code",
   "execution_count": 147,
   "id": "df4b1807",
   "metadata": {},
   "outputs": [],
   "source": [
    "variance = variance.reset_index()"
   ]
  },
  {
   "cell_type": "code",
   "execution_count": 148,
   "id": "239bded7",
   "metadata": {},
   "outputs": [
    {
     "data": {
      "text/html": [
       "<div>\n",
       "<style scoped>\n",
       "    .dataframe tbody tr th:only-of-type {\n",
       "        vertical-align: middle;\n",
       "    }\n",
       "\n",
       "    .dataframe tbody tr th {\n",
       "        vertical-align: top;\n",
       "    }\n",
       "\n",
       "    .dataframe thead th {\n",
       "        text-align: right;\n",
       "    }\n",
       "</style>\n",
       "<table border=\"1\" class=\"dataframe\">\n",
       "  <thead>\n",
       "    <tr style=\"text-align: right;\">\n",
       "      <th></th>\n",
       "      <th>index</th>\n",
       "      <th>comment</th>\n",
       "      <th>lr_predect</th>\n",
       "      <th>dt_predect</th>\n",
       "      <th>variance</th>\n",
       "    </tr>\n",
       "  </thead>\n",
       "  <tbody>\n",
       "    <tr>\n",
       "      <th>0</th>\n",
       "      <td>9</td>\n",
       "      <td>Maybe a recording will allow the participants to go back to a particular topic and review</td>\n",
       "      <td>1</td>\n",
       "      <td>2</td>\n",
       "      <td>-1</td>\n",
       "    </tr>\n",
       "    <tr>\n",
       "      <th>1</th>\n",
       "      <td>22</td>\n",
       "      <td>Excellent training on new technology and learnt many insights..</td>\n",
       "      <td>2</td>\n",
       "      <td>1</td>\n",
       "      <td>1</td>\n",
       "    </tr>\n",
       "    <tr>\n",
       "      <th>2</th>\n",
       "      <td>79</td>\n",
       "      <td>The topic was great. Instructor is very passionate about the topic.</td>\n",
       "      <td>1</td>\n",
       "      <td>2</td>\n",
       "      <td>-1</td>\n",
       "    </tr>\n",
       "    <tr>\n",
       "      <th>3</th>\n",
       "      <td>80</td>\n",
       "      <td>Please divide the session in two and make this session a learning not a walk thru. it was good overall but the content was so much that trainner had no option except to run thru the content.</td>\n",
       "      <td>2</td>\n",
       "      <td>1</td>\n",
       "      <td>1</td>\n",
       "    </tr>\n",
       "    <tr>\n",
       "      <th>4</th>\n",
       "      <td>87</td>\n",
       "      <td>Software installation should have been informed atleast 3 days prior as IT Team software installation takes time ., otherwise the Training are good</td>\n",
       "      <td>1</td>\n",
       "      <td>2</td>\n",
       "      <td>-1</td>\n",
       "    </tr>\n",
       "    <tr>\n",
       "      <th>5</th>\n",
       "      <td>95</td>\n",
       "      <td>Very Insightful training and a knowledgeable trainer. Maybe during the later cxourse of the session I feel the trainer was rushed to complete the content but overall it was really really good.</td>\n",
       "      <td>2</td>\n",
       "      <td>1</td>\n",
       "      <td>1</td>\n",
       "    </tr>\n",
       "    <tr>\n",
       "      <th>6</th>\n",
       "      <td>117</td>\n",
       "      <td>We do not have access to install the software system on corporate PC</td>\n",
       "      <td>2</td>\n",
       "      <td>1</td>\n",
       "      <td>1</td>\n",
       "    </tr>\n",
       "    <tr>\n",
       "      <th>7</th>\n",
       "      <td>319</td>\n",
       "      <td>Interesting training. Would like to know more â¤ï¸</td>\n",
       "      <td>1</td>\n",
       "      <td>0</td>\n",
       "      <td>1</td>\n",
       "    </tr>\n",
       "    <tr>\n",
       "      <th>8</th>\n",
       "      <td>383</td>\n",
       "      <td>Well co-ordination and interaction with everyone , encouraging each one to know about the concepts and techniques</td>\n",
       "      <td>1</td>\n",
       "      <td>2</td>\n",
       "      <td>-1</td>\n",
       "    </tr>\n",
       "    <tr>\n",
       "      <th>9</th>\n",
       "      <td>404</td>\n",
       "      <td>Very informative session which are discussed need for my work. But if we have 3 training sessions for this ipv4 we can improve more.</td>\n",
       "      <td>1</td>\n",
       "      <td>2</td>\n",
       "      <td>-1</td>\n",
       "    </tr>\n",
       "  </tbody>\n",
       "</table>\n",
       "</div>"
      ],
      "text/plain": [
       "   index  \\\n",
       "0      9   \n",
       "1     22   \n",
       "2     79   \n",
       "3     80   \n",
       "4     87   \n",
       "5     95   \n",
       "6    117   \n",
       "7    319   \n",
       "8    383   \n",
       "9    404   \n",
       "\n",
       "                                                                                                                                                                                            comment  \\\n",
       "0                                                                                                         Maybe a recording will allow the participants to go back to a particular topic and review   \n",
       "1                                                                                                                                   Excellent training on new technology and learnt many insights..   \n",
       "2                                                                                                                               The topic was great. Instructor is very passionate about the topic.   \n",
       "3    Please divide the session in two and make this session a learning not a walk thru. it was good overall but the content was so much that trainner had no option except to run thru the content.   \n",
       "4                                               Software installation should have been informed atleast 3 days prior as IT Team software installation takes time ., otherwise the Training are good   \n",
       "5  Very Insightful training and a knowledgeable trainer. Maybe during the later cxourse of the session I feel the trainer was rushed to complete the content but overall it was really really good.   \n",
       "6                                                                                                                              We do not have access to install the software system on corporate PC   \n",
       "7                                                                                                                                              Interesting training. Would like to know more â¤ï¸   \n",
       "8                                                                                 Well co-ordination and interaction with everyone , encouraging each one to know about the concepts and techniques   \n",
       "9                                                              Very informative session which are discussed need for my work. But if we have 3 training sessions for this ipv4 we can improve more.   \n",
       "\n",
       "   lr_predect  dt_predect  variance  \n",
       "0           1           2        -1  \n",
       "1           2           1         1  \n",
       "2           1           2        -1  \n",
       "3           2           1         1  \n",
       "4           1           2        -1  \n",
       "5           2           1         1  \n",
       "6           2           1         1  \n",
       "7           1           0         1  \n",
       "8           1           2        -1  \n",
       "9           1           2        -1  "
      ]
     },
     "execution_count": 148,
     "metadata": {},
     "output_type": "execute_result"
    }
   ],
   "source": [
    "pd.set_option('display.max_colwidth', None)\n",
    "\n",
    "variance[:10]\n"
   ]
  },
  {
   "cell_type": "code",
   "execution_count": 149,
   "id": "150b3694",
   "metadata": {},
   "outputs": [
    {
     "data": {
      "text/html": [
       "<div>\n",
       "<style scoped>\n",
       "    .dataframe tbody tr th:only-of-type {\n",
       "        vertical-align: middle;\n",
       "    }\n",
       "\n",
       "    .dataframe tbody tr th {\n",
       "        vertical-align: top;\n",
       "    }\n",
       "\n",
       "    .dataframe thead th {\n",
       "        text-align: right;\n",
       "    }\n",
       "</style>\n",
       "<table border=\"1\" class=\"dataframe\">\n",
       "  <thead>\n",
       "    <tr style=\"text-align: right;\">\n",
       "      <th></th>\n",
       "      <th>index</th>\n",
       "      <th>comment</th>\n",
       "      <th>lr_predect</th>\n",
       "      <th>dt_predect</th>\n",
       "      <th>variance</th>\n",
       "    </tr>\n",
       "  </thead>\n",
       "  <tbody>\n",
       "    <tr>\n",
       "      <th>30</th>\n",
       "      <td>1218</td>\n",
       "      <td>Nice presentation</td>\n",
       "      <td>2</td>\n",
       "      <td>1</td>\n",
       "      <td>1</td>\n",
       "    </tr>\n",
       "    <tr>\n",
       "      <th>31</th>\n",
       "      <td>1280</td>\n",
       "      <td>Session very useful to understand Arcadiyan Next Generation Gateway</td>\n",
       "      <td>1</td>\n",
       "      <td>2</td>\n",
       "      <td>-1</td>\n",
       "    </tr>\n",
       "    <tr>\n",
       "      <th>32</th>\n",
       "      <td>1282</td>\n",
       "      <td>Need to given the training at same time all technician</td>\n",
       "      <td>2</td>\n",
       "      <td>1</td>\n",
       "      <td>1</td>\n",
       "    </tr>\n",
       "    <tr>\n",
       "      <th>33</th>\n",
       "      <td>1301</td>\n",
       "      <td>it was good session on the subject topic . Keep it up!!</td>\n",
       "      <td>1</td>\n",
       "      <td>2</td>\n",
       "      <td>-1</td>\n",
       "    </tr>\n",
       "    <tr>\n",
       "      <th>34</th>\n",
       "      <td>1355</td>\n",
       "      <td>Mashallah nice</td>\n",
       "      <td>1</td>\n",
       "      <td>2</td>\n",
       "      <td>-1</td>\n",
       "    </tr>\n",
       "    <tr>\n",
       "      <th>35</th>\n",
       "      <td>1524</td>\n",
       "      <td>Please to see the possibility of reducing session duration less than 6 hours / that course may need one more day for more practice / what about schedule training on weekeends (one day only out of 3 days)</td>\n",
       "      <td>1</td>\n",
       "      <td>2</td>\n",
       "      <td>-1</td>\n",
       "    </tr>\n",
       "    <tr>\n",
       "      <th>36</th>\n",
       "      <td>1569</td>\n",
       "      <td>The training was helpfull and we enjoyed. \\nMr Eslam cover and give us his time to transfer the topics.\\nvery happy with</td>\n",
       "      <td>1</td>\n",
       "      <td>2</td>\n",
       "      <td>-1</td>\n",
       "    </tr>\n",
       "    <tr>\n",
       "      <th>37</th>\n",
       "      <td>1733</td>\n",
       "      <td>We got professional training by trainer and its easy to understand and grasp the concepts efficiently.Now i am having good knowledge and confident to do cloud projects .Except training he is a good motivator to study technology and enhance our skills.It was a great pleasure to listen to your talk - highly inspirational and perfectly pitched to the audience as always. Looking forward more training from him.</td>\n",
       "      <td>2</td>\n",
       "      <td>1</td>\n",
       "      <td>1</td>\n",
       "    </tr>\n",
       "    <tr>\n",
       "      <th>38</th>\n",
       "      <td>1927</td>\n",
       "      <td>Well explained the topics</td>\n",
       "      <td>1</td>\n",
       "      <td>2</td>\n",
       "      <td>-1</td>\n",
       "    </tr>\n",
       "    <tr>\n",
       "      <th>39</th>\n",
       "      <td>1932</td>\n",
       "      <td>Training should be given more time</td>\n",
       "      <td>2</td>\n",
       "      <td>1</td>\n",
       "      <td>1</td>\n",
       "    </tr>\n",
       "  </tbody>\n",
       "</table>\n",
       "</div>"
      ],
      "text/plain": [
       "    index  \\\n",
       "30   1218   \n",
       "31   1280   \n",
       "32   1282   \n",
       "33   1301   \n",
       "34   1355   \n",
       "35   1524   \n",
       "36   1569   \n",
       "37   1733   \n",
       "38   1927   \n",
       "39   1932   \n",
       "\n",
       "                                                                                                                                                                                                                                                                                                                                                                                                                      comment  \\\n",
       "30                                                                                                                                                                                                                                                                                                                                                                                                          Nice presentation   \n",
       "31                                                                                                                                                                                                                                                                                                                                                        Session very useful to understand Arcadiyan Next Generation Gateway   \n",
       "32                                                                                                                                                                                                                                                                                                                                                                     Need to given the training at same time all technician   \n",
       "33                                                                                                                                                                                                                                                                                                                                                                    it was good session on the subject topic . Keep it up!!   \n",
       "34                                                                                                                                                                                                                                                                                                                                                                                                             Mashallah nice   \n",
       "35                                                                                                                                                                                                                Please to see the possibility of reducing session duration less than 6 hours / that course may need one more day for more practice / what about schedule training on weekeends (one day only out of 3 days)   \n",
       "36                                                                                                                                                                                                                                                                                                   The training was helpfull and we enjoyed. \\nMr Eslam cover and give us his time to transfer the topics.\\nvery happy with   \n",
       "37  We got professional training by trainer and its easy to understand and grasp the concepts efficiently.Now i am having good knowledge and confident to do cloud projects .Except training he is a good motivator to study technology and enhance our skills.It was a great pleasure to listen to your talk - highly inspirational and perfectly pitched to the audience as always. Looking forward more training from him.   \n",
       "38                                                                                                                                                                                                                                                                                                                                                                                                  Well explained the topics   \n",
       "39                                                                                                                                                                                                                                                                                                                                                                                         Training should be given more time   \n",
       "\n",
       "    lr_predect  dt_predect  variance  \n",
       "30           2           1         1  \n",
       "31           1           2        -1  \n",
       "32           2           1         1  \n",
       "33           1           2        -1  \n",
       "34           1           2        -1  \n",
       "35           1           2        -1  \n",
       "36           1           2        -1  \n",
       "37           2           1         1  \n",
       "38           1           2        -1  \n",
       "39           2           1         1  "
      ]
     },
     "execution_count": 149,
     "metadata": {},
     "output_type": "execute_result"
    }
   ],
   "source": [
    "variance[30:40]"
   ]
  },
  {
   "cell_type": "code",
   "execution_count": 150,
   "id": "ffa45a86",
   "metadata": {},
   "outputs": [
    {
     "data": {
      "text/html": [
       "<div>\n",
       "<style scoped>\n",
       "    .dataframe tbody tr th:only-of-type {\n",
       "        vertical-align: middle;\n",
       "    }\n",
       "\n",
       "    .dataframe tbody tr th {\n",
       "        vertical-align: top;\n",
       "    }\n",
       "\n",
       "    .dataframe thead th {\n",
       "        text-align: right;\n",
       "    }\n",
       "</style>\n",
       "<table border=\"1\" class=\"dataframe\">\n",
       "  <thead>\n",
       "    <tr style=\"text-align: right;\">\n",
       "      <th></th>\n",
       "      <th>index</th>\n",
       "      <th>comment</th>\n",
       "      <th>lr_predect</th>\n",
       "      <th>dt_predect</th>\n",
       "      <th>variance</th>\n",
       "    </tr>\n",
       "  </thead>\n",
       "  <tbody>\n",
       "    <tr>\n",
       "      <th>41</th>\n",
       "      <td>1962</td>\n",
       "      <td>GOOD TOPIC AND NICE PRESENTATIONS</td>\n",
       "      <td>2</td>\n",
       "      <td>1</td>\n",
       "      <td>1</td>\n",
       "    </tr>\n",
       "    <tr>\n",
       "      <th>42</th>\n",
       "      <td>2046</td>\n",
       "      <td>it was good experience to learn basic and now I am planning to joint more training related to python and machine learning.</td>\n",
       "      <td>1</td>\n",
       "      <td>2</td>\n",
       "      <td>-1</td>\n",
       "    </tr>\n",
       "    <tr>\n",
       "      <th>43</th>\n",
       "      <td>2048</td>\n",
       "      <td>Training explained all the basic requirement for pythons .thanks</td>\n",
       "      <td>1</td>\n",
       "      <td>2</td>\n",
       "      <td>-1</td>\n",
       "    </tr>\n",
       "    <tr>\n",
       "      <th>44</th>\n",
       "      <td>2049</td>\n",
       "      <td>I like a enroll for other courses</td>\n",
       "      <td>1</td>\n",
       "      <td>0</td>\n",
       "      <td>1</td>\n",
       "    </tr>\n",
       "    <tr>\n",
       "      <th>45</th>\n",
       "      <td>2089</td>\n",
       "      <td>Training was very helpful, just want to add should be held of off days</td>\n",
       "      <td>2</td>\n",
       "      <td>1</td>\n",
       "      <td>1</td>\n",
       "    </tr>\n",
       "    <tr>\n",
       "      <th>46</th>\n",
       "      <td>2102</td>\n",
       "      <td>I feel good training and very useful</td>\n",
       "      <td>2</td>\n",
       "      <td>1</td>\n",
       "      <td>1</td>\n",
       "    </tr>\n",
       "    <tr>\n",
       "      <th>47</th>\n",
       "      <td>2121</td>\n",
       "      <td>Excellent training. Required lab for better understanding</td>\n",
       "      <td>1</td>\n",
       "      <td>2</td>\n",
       "      <td>-1</td>\n",
       "    </tr>\n",
       "    <tr>\n",
       "      <th>48</th>\n",
       "      <td>2125</td>\n",
       "      <td>Great Introduction to AI</td>\n",
       "      <td>2</td>\n",
       "      <td>1</td>\n",
       "      <td>1</td>\n",
       "    </tr>\n",
       "    <tr>\n",
       "      <th>49</th>\n",
       "      <td>2132</td>\n",
       "      <td>NOW GOOD TO ANALISE WHETHER IT IS AI OR NOT ATLEAST WHEN I SEE SOME APP ETC...</td>\n",
       "      <td>1</td>\n",
       "      <td>2</td>\n",
       "      <td>-1</td>\n",
       "    </tr>\n",
       "    <tr>\n",
       "      <th>50</th>\n",
       "      <td>2134</td>\n",
       "      <td>Lab was very good.</td>\n",
       "      <td>1</td>\n",
       "      <td>2</td>\n",
       "      <td>-1</td>\n",
       "    </tr>\n",
       "    <tr>\n",
       "      <th>51</th>\n",
       "      <td>2135</td>\n",
       "      <td>Session was exciting due to the actual lab session</td>\n",
       "      <td>1</td>\n",
       "      <td>2</td>\n",
       "      <td>-1</td>\n",
       "    </tr>\n",
       "    <tr>\n",
       "      <th>52</th>\n",
       "      <td>2139</td>\n",
       "      <td>It was very good Training, looking for Advance and expert level training in MS Azur.</td>\n",
       "      <td>2</td>\n",
       "      <td>1</td>\n",
       "      <td>1</td>\n",
       "    </tr>\n",
       "    <tr>\n",
       "      <th>53</th>\n",
       "      <td>2147</td>\n",
       "      <td>The Training was amazing and fruitable with very expert trainer .. Thanks Brother Abul Bayan</td>\n",
       "      <td>1</td>\n",
       "      <td>2</td>\n",
       "      <td>-1</td>\n",
       "    </tr>\n",
       "    <tr>\n",
       "      <th>54</th>\n",
       "      <td>2245</td>\n",
       "      <td>Overall Good but in tranning time should b in morning time atleast 1 hour otherwise it will be held in tranning center thanks</td>\n",
       "      <td>1</td>\n",
       "      <td>2</td>\n",
       "      <td>-1</td>\n",
       "    </tr>\n",
       "  </tbody>\n",
       "</table>\n",
       "</div>"
      ],
      "text/plain": [
       "    index  \\\n",
       "41   1962   \n",
       "42   2046   \n",
       "43   2048   \n",
       "44   2049   \n",
       "45   2089   \n",
       "46   2102   \n",
       "47   2121   \n",
       "48   2125   \n",
       "49   2132   \n",
       "50   2134   \n",
       "51   2135   \n",
       "52   2139   \n",
       "53   2147   \n",
       "54   2245   \n",
       "\n",
       "                                                                                                                          comment  \\\n",
       "41                                                                                              GOOD TOPIC AND NICE PRESENTATIONS   \n",
       "42     it was good experience to learn basic and now I am planning to joint more training related to python and machine learning.   \n",
       "43                                                               Training explained all the basic requirement for pythons .thanks   \n",
       "44                                                                                              I like a enroll for other courses   \n",
       "45                                                         Training was very helpful, just want to add should be held of off days   \n",
       "46                                                                                           I feel good training and very useful   \n",
       "47                                                                      Excellent training. Required lab for better understanding   \n",
       "48                                                                                                       Great Introduction to AI   \n",
       "49                                                 NOW GOOD TO ANALISE WHETHER IT IS AI OR NOT ATLEAST WHEN I SEE SOME APP ETC...   \n",
       "50                                                                                                             Lab was very good.   \n",
       "51                                                                             Session was exciting due to the actual lab session   \n",
       "52                                           It was very good Training, looking for Advance and expert level training in MS Azur.   \n",
       "53                                   The Training was amazing and fruitable with very expert trainer .. Thanks Brother Abul Bayan   \n",
       "54  Overall Good but in tranning time should b in morning time atleast 1 hour otherwise it will be held in tranning center thanks   \n",
       "\n",
       "    lr_predect  dt_predect  variance  \n",
       "41           2           1         1  \n",
       "42           1           2        -1  \n",
       "43           1           2        -1  \n",
       "44           1           0         1  \n",
       "45           2           1         1  \n",
       "46           2           1         1  \n",
       "47           1           2        -1  \n",
       "48           2           1         1  \n",
       "49           1           2        -1  \n",
       "50           1           2        -1  \n",
       "51           1           2        -1  \n",
       "52           2           1         1  \n",
       "53           1           2        -1  \n",
       "54           1           2        -1  "
      ]
     },
     "execution_count": 150,
     "metadata": {},
     "output_type": "execute_result"
    }
   ],
   "source": [
    "variance[41:]"
   ]
  },
  {
   "cell_type": "markdown",
   "id": "ef5b83f3",
   "metadata": {},
   "source": [
    "## Both Models are good :)"
   ]
  },
  {
   "cell_type": "markdown",
   "id": "eaddf41c",
   "metadata": {},
   "source": [
    "# ---------------------------------------------------------------------------------------------------------"
   ]
  },
  {
   "cell_type": "markdown",
   "id": "922bcef4",
   "metadata": {},
   "source": [
    "# ---------------------------------------------------------------------------------------------------------"
   ]
  },
  {
   "cell_type": "markdown",
   "id": "456e4336",
   "metadata": {},
   "source": [
    "# Thank You!"
   ]
  },
  {
   "cell_type": "markdown",
   "id": "776d33ac",
   "metadata": {},
   "source": [
    "#\n",
    "#\n",
    "#"
   ]
  }
 ],
 "metadata": {
  "kernelspec": {
   "display_name": "Python 3 (ipykernel)",
   "language": "python",
   "name": "python3"
  },
  "language_info": {
   "codemirror_mode": {
    "name": "ipython",
    "version": 3
   },
   "file_extension": ".py",
   "mimetype": "text/x-python",
   "name": "python",
   "nbconvert_exporter": "python",
   "pygments_lexer": "ipython3",
   "version": "3.11.4"
  }
 },
 "nbformat": 4,
 "nbformat_minor": 5
}
